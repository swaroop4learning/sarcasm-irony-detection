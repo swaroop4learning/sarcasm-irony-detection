{
 "cells": [
  {
   "cell_type": "code",
   "execution_count": 1,
   "metadata": {},
   "outputs": [
    {
     "name": "stdout",
     "output_type": "stream",
     "text": [
      "Requirement already satisfied: fasttext in /home2/rohanmodepalle/miniconda3/envs/anal/lib/python3.10/site-packages (0.9.2)\n",
      "Requirement already satisfied: pybind11>=2.2 in /home2/rohanmodepalle/miniconda3/envs/anal/lib/python3.10/site-packages (from fasttext) (2.11.1)\n",
      "Requirement already satisfied: setuptools>=0.7.0 in /home2/rohanmodepalle/miniconda3/envs/anal/lib/python3.10/site-packages (from fasttext) (68.0.0)\n",
      "Requirement already satisfied: numpy in /home2/rohanmodepalle/miniconda3/envs/anal/lib/python3.10/site-packages (from fasttext) (1.25.2)\n",
      "Requirement already satisfied: scikit-learn in /home2/rohanmodepalle/miniconda3/envs/anal/lib/python3.10/site-packages (1.3.2)\n",
      "Requirement already satisfied: numpy<2.0,>=1.17.3 in /home2/rohanmodepalle/miniconda3/envs/anal/lib/python3.10/site-packages (from scikit-learn) (1.25.2)\n",
      "Requirement already satisfied: scipy>=1.5.0 in /home2/rohanmodepalle/miniconda3/envs/anal/lib/python3.10/site-packages (from scikit-learn) (1.11.1)\n",
      "Requirement already satisfied: joblib>=1.1.1 in /home2/rohanmodepalle/miniconda3/envs/anal/lib/python3.10/site-packages (from scikit-learn) (1.2.0)\n",
      "Requirement already satisfied: threadpoolctl>=2.0.0 in /home2/rohanmodepalle/miniconda3/envs/anal/lib/python3.10/site-packages (from scikit-learn) (3.2.0)\n"
     ]
    }
   ],
   "source": [
    "!pip install fasttext\n",
    "!pip install scikit-learn"
   ]
  },
  {
   "cell_type": "code",
   "execution_count": null,
   "metadata": {},
   "outputs": [],
   "source": [
    "import torch\n",
    "import torch.nn as nn\n",
    "import torch.optim as optim\n",
    "import fasttext.util\n",
    "from torch.utils.data import Dataset, DataLoader\n",
    "import pandas as pd\n",
    "from sklearn.model_selection import train_test_split\n",
    "from collections import Counter\n",
    "import numpy as np"
   ]
  },
  {
   "cell_type": "code",
   "execution_count": 3,
   "metadata": {},
   "outputs": [],
   "source": [
    "from tqdm import tqdm\n",
    "\n",
    "# Load FastText word embeddings\n",
    "import fasttext.util\n",
    "# fasttext.util.download_model('en', if_exists='ignore')  # English\n",
    "# ft = fasttext.load_model('/content/new_hing_emb')"
   ]
  },
  {
   "cell_type": "code",
   "execution_count": 4,
   "metadata": {},
   "outputs": [],
   "source": [
    "\n",
    "# Load CSV data\n",
    "train_df = pd.read_csv('codemix-main/train.csv')\n",
    "test_df = pd.read_csv('codemix-main/test.csv')\n",
    "validation_df = pd.read_csv('codemix-main/valid.csv')\n",
    "# shhuffle all three dataframes\n",
    "train_df = train_df.sample(frac=1).reset_index(drop=True)\n",
    "test_df = test_df.sample(frac=1).reset_index(drop=True)\n",
    "validation_df = validation_df.sample(frac=1).reset_index(drop=True)\n",
    "\n"
   ]
  },
  {
   "cell_type": "code",
   "execution_count": 5,
   "metadata": {},
   "outputs": [
    {
     "data": {
      "text/html": [
       "<div>\n",
       "<style scoped>\n",
       "    .dataframe tbody tr th:only-of-type {\n",
       "        vertical-align: middle;\n",
       "    }\n",
       "\n",
       "    .dataframe tbody tr th {\n",
       "        vertical-align: top;\n",
       "    }\n",
       "\n",
       "    .dataframe thead th {\n",
       "        text-align: right;\n",
       "    }\n",
       "</style>\n",
       "<table border=\"1\" class=\"dataframe\">\n",
       "  <thead>\n",
       "    <tr style=\"text-align: right;\">\n",
       "      <th></th>\n",
       "      <th>Unnamed: 0</th>\n",
       "      <th>labels</th>\n",
       "      <th>tweets</th>\n",
       "    </tr>\n",
       "  </thead>\n",
       "  <tbody>\n",
       "    <tr>\n",
       "      <th>0</th>\n",
       "      <td>48222</td>\n",
       "      <td>0</td>\n",
       "      <td>ak arre bhai na to youtube pr or na hi ary zep...</td>\n",
       "    </tr>\n",
       "    <tr>\n",
       "      <th>1</th>\n",
       "      <td>74559</td>\n",
       "      <td>1</td>\n",
       "      <td>agar kismat achi hui toh ek hi mahine me natio...</td>\n",
       "    </tr>\n",
       "    <tr>\n",
       "      <th>2</th>\n",
       "      <td>13228</td>\n",
       "      <td>1</td>\n",
       "      <td>student teacher madam ap murghi hn kia teacher...</td>\n",
       "    </tr>\n",
       "    <tr>\n",
       "      <th>3</th>\n",
       "      <td>29284</td>\n",
       "      <td>1</td>\n",
       "      <td>tha great lmmfao it was</td>\n",
       "    </tr>\n",
       "    <tr>\n",
       "      <th>4</th>\n",
       "      <td>100990</td>\n",
       "      <td>0</td>\n",
       "      <td>ko itminan se k logo k liye kaam karne do othe...</td>\n",
       "    </tr>\n",
       "    <tr>\n",
       "      <th>...</th>\n",
       "      <td>...</td>\n",
       "      <td>...</td>\n",
       "      <td>...</td>\n",
       "    </tr>\n",
       "    <tr>\n",
       "      <th>114995</th>\n",
       "      <td>40488</td>\n",
       "      <td>0</td>\n",
       "      <td>mohan ye konse terrorist camps hain jo tabah k...</td>\n",
       "    </tr>\n",
       "    <tr>\n",
       "      <th>114996</th>\n",
       "      <td>100171</td>\n",
       "      <td>1</td>\n",
       "      <td>officially a nerd and proud of it lan party fo...</td>\n",
       "    </tr>\n",
       "    <tr>\n",
       "      <th>114997</th>\n",
       "      <td>47267</td>\n",
       "      <td>1</td>\n",
       "      <td>aaj ki taza khabar news channels se covid hua ...</td>\n",
       "    </tr>\n",
       "    <tr>\n",
       "      <th>114998</th>\n",
       "      <td>43552</td>\n",
       "      <td>0</td>\n",
       "      <td>nambiar thank godindia aur pakistan saath ek n...</td>\n",
       "    </tr>\n",
       "    <tr>\n",
       "      <th>114999</th>\n",
       "      <td>43754</td>\n",
       "      <td>1</td>\n",
       "      <td>should be proud won a community shield against...</td>\n",
       "    </tr>\n",
       "  </tbody>\n",
       "</table>\n",
       "<p>115000 rows × 3 columns</p>\n",
       "</div>"
      ],
      "text/plain": [
       "        Unnamed: 0  labels                                             tweets\n",
       "0            48222       0  ak arre bhai na to youtube pr or na hi ary zep...\n",
       "1            74559       1  agar kismat achi hui toh ek hi mahine me natio...\n",
       "2            13228       1  student teacher madam ap murghi hn kia teacher...\n",
       "3            29284       1                            tha great lmmfao it was\n",
       "4           100990       0  ko itminan se k logo k liye kaam karne do othe...\n",
       "...            ...     ...                                                ...\n",
       "114995       40488       0  mohan ye konse terrorist camps hain jo tabah k...\n",
       "114996      100171       1  officially a nerd and proud of it lan party fo...\n",
       "114997       47267       1  aaj ki taza khabar news channels se covid hua ...\n",
       "114998       43552       0  nambiar thank godindia aur pakistan saath ek n...\n",
       "114999       43754       1  should be proud won a community shield against...\n",
       "\n",
       "[115000 rows x 3 columns]"
      ]
     },
     "execution_count": 5,
     "metadata": {},
     "output_type": "execute_result"
    }
   ],
   "source": [
    "train_df"
   ]
  },
  {
   "cell_type": "code",
   "execution_count": 6,
   "metadata": {},
   "outputs": [],
   "source": [
    "\n",
    "# Extract text and labels\n",
    "train_sentences = train_df['tweets'].tolist()[0:18000]\n",
    "train_labels = train_df['labels'].tolist()[0:18000]\n",
    "\n",
    "test_sentences = test_df['tweets'].tolist()[0:5000]\n",
    "test_labels = test_df['labels'].tolist()[0:5000]\n",
    "\n",
    "validation_sentences = validation_df['tweets'].tolist()[0:8000]\n",
    "validation_labels = validation_df['labels'].tolist()[0:8000]\n"
   ]
  },
  {
   "cell_type": "code",
   "execution_count": 7,
   "metadata": {},
   "outputs": [
    {
     "name": "stderr",
     "output_type": "stream",
     "text": [
      "Read 2M words\n",
      "Number of words:  22107\n",
      "Number of labels: 0\n",
      "Progress: 100.0% words/sec/thread:    4823 lr:  0.000000 avg.loss:  2.154565 ETA:   0h 0m 0s\n"
     ]
    }
   ],
   "source": [
    "ft = fasttext.train_unsupervised('codemix-main/train.csv', model='skipgram', dim=300)"
   ]
  },
  {
   "cell_type": "code",
   "execution_count": 8,
   "metadata": {},
   "outputs": [
    {
     "name": "stderr",
     "output_type": "stream",
     "text": [
      "  0%|          | 0/18000 [00:00<?, ?it/s]/tmp/ipykernel_17669/3365572825.py:4: UserWarning: Creating a tensor from a list of numpy.ndarrays is extremely slow. Please consider converting the list to a single numpy.ndarray with numpy.array() before converting to a tensor. (Triggered internally at /opt/conda/conda-bld/pytorch_1670525541990/work/torch/csrc/utils/tensor_new.cpp:230.)\n",
      "  return torch.tensor(embeddings, dtype=torch.float32)\n",
      "100%|██████████| 18000/18000 [00:22<00:00, 789.24it/s]\n",
      "100%|██████████| 5000/5000 [00:06<00:00, 813.29it/s]\n",
      "100%|██████████| 8000/8000 [00:10<00:00, 744.83it/s]\n"
     ]
    }
   ],
   "source": [
    "# Convert sentences to FastText word embeddings\n",
    "def sentence_to_embeddings(sentence):\n",
    "    embeddings = [ft[word] if word in ft else ft['<unk>'] for word in sentence]\n",
    "    return torch.tensor(embeddings, dtype=torch.float32)\n",
    "\n",
    "train_indexed_sentences = [sentence_to_embeddings(sentence.split()) for sentence in tqdm(train_sentences)]\n",
    "test_indexed_sentences = [sentence_to_embeddings(sentence.split()) for sentence in tqdm(test_sentences)]\n",
    "validation_indexed_sentences = [sentence_to_embeddings(sentence.split()) for sentence in tqdm(validation_sentences)]\n",
    "\n",
    "# Padding sequences to a fixed length\n",
    "max_sequence_length = max(len(sentence) for sentence in train_indexed_sentences + test_indexed_sentences + validation_indexed_sentences)\n",
    "\n",
    "train_padded_sequences = [torch.cat((sentence, torch.zeros(max_sequence_length - len(sentence), 300))) for sentence in train_indexed_sentences]\n",
    "test_padded_sequences = [torch.cat((sentence, torch.zeros(max_sequence_length - len(sentence), 300))) for sentence in test_indexed_sentences]\n",
    "validation_padded_sequences = [torch.cat((sentence, torch.zeros(max_sequence_length - len(sentence), 300))) for sentence in validation_indexed_sentences]\n",
    "\n",
    "# Split data into training and testing sets\n",
    "X_train = torch.stack(train_padded_sequences)\n",
    "y_train = torch.tensor(train_labels, dtype=torch.float)\n",
    "\n",
    "X_test = torch.stack(test_padded_sequences)\n",
    "y_test = torch.tensor(test_labels, dtype=torch.float)\n",
    "\n",
    "X_validation = torch.stack(validation_padded_sequences)\n",
    "y_validation = torch.tensor(validation_labels, dtype=torch.float)\n"
   ]
  },
  {
   "cell_type": "code",
   "execution_count": 9,
   "metadata": {},
   "outputs": [],
   "source": [
    "\n",
    "# Create a PyTorch Dataset and DataLoader\n",
    "class SarcasmDataset(Dataset):\n",
    "    def __init__(self, data, labels):\n",
    "        self.data = data\n",
    "        self.labels = labels\n",
    "\n",
    "    def __len__(self):\n",
    "        return len(self.data)\n",
    "\n",
    "    def __getitem__(self, idx):\n",
    "        return self.data[idx], self.labels[idx]\n",
    "\n",
    "train_dataset = SarcasmDataset(X_train, y_train)\n",
    "train_loader = DataLoader(train_dataset, batch_size=32, shuffle=True)\n",
    "\n",
    "test_dataset = SarcasmDataset(X_test, y_test)\n",
    "test_loader = DataLoader(test_dataset, batch_size=32, shuffle=True)\n",
    "\n",
    "validation_dataset = SarcasmDataset(X_validation, y_validation)\n",
    "validation_loader = DataLoader(validation_dataset, batch_size=32, shuffle=True)\n",
    "# Build a BiLSTM model\n",
    "class BiLSTMModel(nn.Module):\n",
    "    def __init__(self, input_dim, hidden_dim, output_dim):\n",
    "        super(BiLSTMModel, self).__init__()\n",
    "        self.bilstm = nn.LSTM(input_dim, hidden_dim, bidirectional=True, batch_first = True)\n",
    "        self.fc = nn.Linear(hidden_dim * 2, output_dim)\n",
    "\n",
    "    def forward(self, text):\n",
    "        lstm_out, (hn,cn) = self.bilstm(text)\n",
    "        out_tensor = torch.cat([t for t in hn], dim=1)\n",
    "        return self.fc(out_tensor)\n",
    "\n",
    "input_dim = 300  # FastText embedding dimension\n",
    "hidden_dim = 128\n",
    "output_dim = 1\n",
    "\n",
    "model = BiLSTMModel(input_dim, hidden_dim, output_dim)\n",
    "\n",
    "# Define loss and optimizer\n",
    "criterion = nn.BCEWithLogitsLoss()\n",
    "optimizer = optim.Adam(model.parameters(), lr=0.001)\n",
    "\n"
   ]
  },
  {
   "cell_type": "code",
   "execution_count": 10,
   "metadata": {},
   "outputs": [
    {
     "name": "stderr",
     "output_type": "stream",
     "text": [
      "  6%|▌         | 1/18 [01:04<18:22, 64.86s/it]"
     ]
    },
    {
     "name": "stdout",
     "output_type": "stream",
     "text": [
      "Epoch 1/18\n",
      "Training Loss: 0.4796\n",
      "Validation Loss: 0.3983\n",
      "Validation Accuracy: 0.8364\n"
     ]
    },
    {
     "name": "stderr",
     "output_type": "stream",
     "text": [
      " 11%|█         | 2/18 [02:06<16:44, 62.79s/it]"
     ]
    },
    {
     "name": "stdout",
     "output_type": "stream",
     "text": [
      "Epoch 2/18\n",
      "Training Loss: 0.3585\n",
      "Validation Loss: 0.3375\n",
      "Validation Accuracy: 0.8650\n"
     ]
    },
    {
     "name": "stderr",
     "output_type": "stream",
     "text": [
      " 17%|█▋        | 3/18 [03:07<15:29, 61.98s/it]"
     ]
    },
    {
     "name": "stdout",
     "output_type": "stream",
     "text": [
      "Epoch 3/18\n",
      "Training Loss: 0.3127\n",
      "Validation Loss: 0.3232\n",
      "Validation Accuracy: 0.8710\n"
     ]
    },
    {
     "name": "stderr",
     "output_type": "stream",
     "text": [
      " 22%|██▏       | 4/18 [04:09<14:27, 61.96s/it]"
     ]
    },
    {
     "name": "stdout",
     "output_type": "stream",
     "text": [
      "Epoch 4/18\n",
      "Training Loss: 0.2908\n",
      "Validation Loss: 0.3106\n",
      "Validation Accuracy: 0.8752\n"
     ]
    },
    {
     "name": "stderr",
     "output_type": "stream",
     "text": [
      " 22%|██▏       | 4/18 [05:11<18:08, 77.78s/it]"
     ]
    },
    {
     "name": "stdout",
     "output_type": "stream",
     "text": [
      "Epoch 5/18\n",
      "Training Loss: 0.2694\n",
      "Validation Loss: 0.3205\n",
      "Validation Accuracy: 0.8698\n",
      "Validation loss increased. Stopping training.\n"
     ]
    },
    {
     "name": "stderr",
     "output_type": "stream",
     "text": [
      "\n"
     ]
    }
   ],
   "source": [
    "import torch\n",
    "from tqdm import tqdm\n",
    "\n",
    "# Training loop\n",
    "def train(model, iterator, optimizer, criterion):\n",
    "    model.train()\n",
    "    epoch_loss = 0\n",
    "    \n",
    "    for batch in iterator:\n",
    "        text, labels = batch\n",
    "        optimizer.zero_grad()\n",
    "        predictions = model(text).squeeze(1)\n",
    "        loss = criterion(predictions, labels)\n",
    "        loss.backward()\n",
    "        optimizer.step()\n",
    "        epoch_loss += loss.item()\n",
    "    \n",
    "    return epoch_loss / len(iterator)\n",
    "\n",
    "# Evaluation\n",
    "def evaluate(model, iterator, criterion):\n",
    "    model.eval()\n",
    "    epoch_loss = 0\n",
    "    correct = 0\n",
    "    total = 0\n",
    "    with torch.no_grad():\n",
    "        for batch in iterator:\n",
    "            text, labels = batch\n",
    "            predictions = model(text).squeeze(1)\n",
    "            loss = criterion(predictions, labels)\n",
    "            predicted_class = torch.sigmoid(predictions) > 0.5\n",
    "            correct += torch.sum(predicted_class == labels).item()\n",
    "            total += len(predicted_class)\n",
    "            epoch_loss += loss.item()\n",
    "    return epoch_loss / len(iterator), correct / total\n",
    "\n",
    "N_EPOCHS = 18\n",
    "best_validation_loss = float('inf')  # Initialize with a high value\n",
    "\n",
    "for epoch in tqdm(range(N_EPOCHS)):\n",
    "    training_loss = train(model, train_loader, optimizer, criterion)\n",
    "    validation_loss, validation_accuracy = evaluate(model, validation_loader, criterion)\n",
    "    print(f'Epoch {epoch+1}/{N_EPOCHS}')\n",
    "    print(f'Training Loss: {training_loss:.4f}')\n",
    "    print(f'Validation Loss: {validation_loss:.4f}')\n",
    "    print(f'Validation Accuracy: {validation_accuracy:.4f}')\n",
    "    \n",
    "    if validation_loss < best_validation_loss:\n",
    "        best_validation_loss = validation_loss\n",
    "        # Save the model when validation loss improves\n",
    "        torch.save(model.state_dict(), 'base_model.pth')\n",
    "    else:\n",
    "        print(\"Validation loss increased. Stopping training.\")\n",
    "        break\n",
    "    # torch.save(model.state_dict(), 'base_model.pth')\n"
   ]
  },
  {
   "cell_type": "code",
   "execution_count": 12,
   "metadata": {},
   "outputs": [
    {
     "name": "stdout",
     "output_type": "stream",
     "text": [
      "Validation Loss: 0.3106\n",
      "Validation Accuracy: 0.8752\n",
      "Test Accuracy: 0.8722\n",
      "Test Precision: 0.8750\n",
      "Test Recall: 0.8726\n",
      "Test F1 Score: 0.8720\n"
     ]
    },
    {
     "ename": "",
     "evalue": "",
     "output_type": "error",
     "traceback": [
      "\u001b[1;31mThe Kernel crashed while executing code in the the current cell or a previous cell. Please review the code in the cell(s) to identify a possible cause of the failure. Click <a href='https://aka.ms/vscodeJupyterKernelCrash'>here</a> for more info. View Jupyter <a href='command:jupyter.viewOutput'>log</a> for further details."
     ]
    }
   ],
   "source": [
    "from sklearn.metrics import accuracy_score, precision_score, recall_score, f1_score\n",
    "\n",
    "# Load the saved model\n",
    "model.load_state_dict(torch.load('base_model.pth'))\n",
    "\n",
    "# Evaluate on the validation set\n",
    "validation_loss, validation_accuracy = evaluate(model, validation_loader, criterion)\n",
    "print(f'Validation Loss: {validation_loss:.4f}')\n",
    "print(f'Validation Accuracy: {validation_accuracy:.4f}')\n",
    "\n",
    "# Get true labels and predicted labels\n",
    "true_labels, predicted_labels = [], []\n",
    "model.eval()\n",
    "\n",
    "with torch.no_grad():\n",
    "    for batch in test_loader:\n",
    "        text, labels = batch\n",
    "        predictions = model(text).squeeze(1)\n",
    "        predicted_class = torch.sigmoid(predictions) > 0.5\n",
    "        true_labels.extend(labels.cpu().numpy())\n",
    "        predicted_labels.extend(predicted_class.cpu().numpy())\n",
    "\n",
    "# Calculate precision, recall, and F1 score\n",
    "accuracy = accuracy_score(true_labels, predicted_labels)\n",
    "precision = precision_score(true_labels, predicted_labels, average='macro')\n",
    "recall = recall_score(true_labels, predicted_labels, average='macro')\n",
    "f1 = f1_score(true_labels, predicted_labels, average='macro')\n",
    "print(f'Test Accuracy: {accuracy:.4f}')\n",
    "print(f'Test Precision: {precision:.4f}')\n",
    "print(f'Test Recall: {recall:.4f}')\n",
    "print(f'Test F1 Score: {f1:.4f}')\n"
   ]
  }
 ],
 "metadata": {
  "kernelspec": {
   "display_name": "anal",
   "language": "python",
   "name": "python3"
  },
  "language_info": {
   "codemirror_mode": {
    "name": "ipython",
    "version": 3
   },
   "file_extension": ".py",
   "mimetype": "text/x-python",
   "name": "python",
   "nbconvert_exporter": "python",
   "pygments_lexer": "ipython3",
   "version": "3.10.13"
  }
 },
 "nbformat": 4,
 "nbformat_minor": 2
}
