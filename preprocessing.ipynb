{
  "nbformat": 4,
  "nbformat_minor": 0,
  "metadata": {
    "colab": {
      "provenance": []
    },
    "kernelspec": {
      "name": "python3",
      "display_name": "Python 3"
    },
    "language_info": {
      "name": "python"
    }
  },
  "cells": [
    {
      "cell_type": "code",
      "source": [
        "#!pip install gdown"
      ],
      "metadata": {
        "id": "PUB4f3jxatAW"
      },
      "execution_count": 1,
      "outputs": []
    },
    {
      "cell_type": "code",
      "source": [
        "\"\"\"This notebook performs preprocessing on input text and generates preprocessed train and preprocessed test data. Also creates embedding matrix for the corpus.\"\"\""
      ],
      "metadata": {
        "colab": {
          "base_uri": "https://localhost:8080/",
          "height": 36
        },
        "id": "ij5xsr8hh-aD",
        "outputId": "9afe9feb-c058-40db-f427-6f6318e26cae"
      },
      "execution_count": 3,
      "outputs": [
        {
          "output_type": "execute_result",
          "data": {
            "text/plain": [
              "'This notebook performs preprocessing on input text and generates preprocessed train and preprocessed test data. Also creates embedding matrix for the corpus.'"
            ],
            "application/vnd.google.colaboratory.intrinsic+json": {
              "type": "string"
            }
          },
          "metadata": {},
          "execution_count": 3
        }
      ]
    },
    {
      "cell_type": "code",
      "source": [
        "import gdown"
      ],
      "metadata": {
        "id": "nTizbVgIbHGw"
      },
      "execution_count": null,
      "outputs": []
    },
    {
      "cell_type": "code",
      "source": [
        "# replace with your FILE_ID\n",
        "file_id = '1lw5Hr6Xw0G0bMT1ZllrtMqEgCTrM7dzc'\n",
        "url = f'https://drive.google.com/uc?id={file_id}'"
      ],
      "metadata": {
        "id": "LFHB7xX8bJen"
      },
      "execution_count": null,
      "outputs": []
    },
    {
      "cell_type": "code",
      "source": [
        "# destination path (can be changed to desired path)\n",
        "output = 'word2vec_twitter_model.bin'\n",
        "gdown.download(url, output, quiet=False)"
      ],
      "metadata": {
        "colab": {
          "base_uri": "https://localhost:8080/",
          "height": 105
        },
        "id": "Gn9lvRq8bdTr",
        "outputId": "e7bbeb52-6a6b-42e7-e1e2-4109325bfb87"
      },
      "execution_count": null,
      "outputs": [
        {
          "output_type": "stream",
          "name": "stderr",
          "text": [
            "Downloading...\n",
            "From: https://drive.google.com/uc?id=1lw5Hr6Xw0G0bMT1ZllrtMqEgCTrM7dzc\n",
            "To: /content/word2vec_twitter_model.bin\n",
            "100%|██████████| 4.90G/4.90G [01:38<00:00, 49.6MB/s]\n"
          ]
        },
        {
          "output_type": "execute_result",
          "data": {
            "text/plain": [
              "'word2vec_twitter_model.bin'"
            ],
            "application/vnd.google.colaboratory.intrinsic+json": {
              "type": "string"
            }
          },
          "metadata": {},
          "execution_count": 11
        }
      ]
    },
    {
      "cell_type": "code",
      "source": [
        "# replace with your FILE_ID\n",
        "file_id = '15zXlbO3bxSYTPt71Fon5-0-oCB8iMSno'\n",
        "url = f'https://drive.google.com/uc?id={file_id}'"
      ],
      "metadata": {
        "id": "I-vQ1wtIST44"
      },
      "execution_count": null,
      "outputs": []
    },
    {
      "cell_type": "code",
      "source": [
        "# destination path (can be changed to desired path)\n",
        "output = 'fasttext_twitter_raw.bin'\n",
        "gdown.download(url, output, quiet=False)"
      ],
      "metadata": {
        "colab": {
          "base_uri": "https://localhost:8080/",
          "height": 105
        },
        "id": "gAIKSOPjSbQR",
        "outputId": "bcb1bc00-d829-4051-f3e5-e9c370451b04"
      },
      "execution_count": null,
      "outputs": [
        {
          "output_type": "stream",
          "name": "stderr",
          "text": [
            "Downloading...\n",
            "From: https://drive.google.com/uc?id=15zXlbO3bxSYTPt71Fon5-0-oCB8iMSno\n",
            "To: /content/fasttext_twitter_raw.bin\n",
            "100%|██████████| 15.5G/15.5G [02:17<00:00, 113MB/s]\n"
          ]
        },
        {
          "output_type": "execute_result",
          "data": {
            "text/plain": [
              "'fasttext_twitter_raw.bin'"
            ],
            "application/vnd.google.colaboratory.intrinsic+json": {
              "type": "string"
            }
          },
          "metadata": {},
          "execution_count": 4
        }
      ]
    },
    {
      "cell_type": "code",
      "source": [
        "#pip install fasttext"
      ],
      "metadata": {
        "id": "dhNuvadeS3iz"
      },
      "execution_count": 2,
      "outputs": []
    },
    {
      "cell_type": "code",
      "source": [
        "import fasttext\n",
        "import os\n",
        "\n",
        "PATH_TO_MODEL = ''\n",
        "model = fasttext.load_model(os.path.join(PATH_TO_MODEL,'fasttext_twitter_raw.bin'))"
      ],
      "metadata": {
        "colab": {
          "base_uri": "https://localhost:8080/"
        },
        "id": "4YYuvaLRZhGQ",
        "outputId": "1e079c0b-50fb-471c-8f33-c6c8c76ef7c7"
      },
      "execution_count": null,
      "outputs": [
        {
          "output_type": "stream",
          "name": "stderr",
          "text": [
            "Warning : `load_model` does not return WordVectorModel or SupervisedModel any more, but a `FastText` object which is very similar.\n"
          ]
        }
      ]
    },
    {
      "cell_type": "code",
      "source": [
        "#model['#runnnnningabcmt1234']"
      ],
      "metadata": {
        "id": "FC8clqbOaNnE"
      },
      "execution_count": null,
      "outputs": []
    },
    {
      "cell_type": "code",
      "source": [
        "from google.colab import drive\n",
        "drive.mount('/content/gdrive', force_remount=True)"
      ],
      "metadata": {
        "colab": {
          "base_uri": "https://localhost:8080/"
        },
        "id": "xssxXa5HbvGk",
        "outputId": "a9aa9e70-dc50-4a4a-bbdf-f8df134cdd66"
      },
      "execution_count": null,
      "outputs": [
        {
          "output_type": "stream",
          "name": "stdout",
          "text": [
            "Mounted at /content/gdrive\n"
          ]
        }
      ]
    },
    {
      "cell_type": "code",
      "source": [
        "import pandas as pd"
      ],
      "metadata": {
        "id": "GFFFb1gfbwov"
      },
      "execution_count": null,
      "outputs": []
    },
    {
      "cell_type": "code",
      "execution_count": null,
      "metadata": {
        "id": "UVF22Zo0J29w"
      },
      "outputs": [],
      "source": [
        "from nltk.tokenize import TweetTokenizer"
      ]
    },
    {
      "cell_type": "code",
      "source": [
        "text = \"@TargetZonePT 😡 no he bloody isn't I was upstairs getting changed!\"\n",
        "\n",
        "# Instantiate the tokenizer\n",
        "tknzr = TweetTokenizer(preserve_case=False, reduce_len=True, strip_handles=True)\n",
        "\n",
        "# Tokenize the tweet\n",
        "tokens = tknzr.tokenize(text)\n",
        "print(tokens)"
      ],
      "metadata": {
        "colab": {
          "base_uri": "https://localhost:8080/"
        },
        "id": "yp_m7e6edKcK",
        "outputId": "6a45ad33-51be-4707-d1ff-fb734f9819c7"
      },
      "execution_count": null,
      "outputs": [
        {
          "output_type": "stream",
          "name": "stdout",
          "text": [
            "['😡', 'no', 'he', 'bloody', \"isn't\", 'i', 'was', 'upstairs', 'getting', 'changed', '!']\n"
          ]
        }
      ]
    },
    {
      "cell_type": "code",
      "source": [
        "# Use StringIO to simulate a file object\n",
        "df = pd.read_csv('gdrive/My Drive/anlp_project/SemEval2018-T3-train-taskA_emoji.txt', sep='\\t')"
      ],
      "metadata": {
        "id": "i9mlV7PEcgUd"
      },
      "execution_count": null,
      "outputs": []
    },
    {
      "cell_type": "code",
      "source": [
        "len(df)"
      ],
      "metadata": {
        "colab": {
          "base_uri": "https://localhost:8080/"
        },
        "id": "O5AAzE3jHOzU",
        "outputId": "9d6ff181-faf8-49d5-dc8b-24310c2a4af9"
      },
      "execution_count": null,
      "outputs": [
        {
          "output_type": "execute_result",
          "data": {
            "text/plain": [
              "3817"
            ]
          },
          "metadata": {},
          "execution_count": 4
        }
      ]
    },
    {
      "cell_type": "code",
      "source": [
        "def replace_emoticons(text):\n",
        "    # Dictionary of common emoticons and their textual descriptions\n",
        "    emoticons_dict = {\n",
        "        r':\\)': 'Smile',\n",
        "        r':-\\)': 'Smile',\n",
        "        r':\\(': 'Sad',\n",
        "        r':-\\(': 'Sad',\n",
        "        r';\\)': 'Wink',\n",
        "        r';-\\)': 'Wink',\n",
        "        r':D': 'Laugh',\n",
        "        r':-D': 'Laugh',\n",
        "        r':P': 'Tongue',\n",
        "        r':-P': 'Tongue',\n",
        "        r':p': 'Tongue',\n",
        "        r':-p': 'Tongue',\n",
        "        r':O': 'Surprised',\n",
        "        r':-O': 'Surprised',\n",
        "        r':o': 'Surprised',\n",
        "        r':-o': 'Surprised',\n",
        "        r':\\|': 'Straight',\n",
        "        r':-\\|': 'Straight',\n",
        "        r':/': 'Skeptical',\n",
        "        r':-\\/': 'Skeptical',\n",
        "        r':\\\\': 'Skeptical',\n",
        "        r':-\\\\': 'Skeptical',\n",
        "        r':\\*': 'Kiss',\n",
        "        r':-\\*': 'Kiss',\n",
        "        r'>:\\(': 'Angry',\n",
        "        r'>:-\\(': 'Angry',\n",
        "        r':-\\]': 'Grin',\n",
        "        r'8\\)': 'Cool',\n",
        "        r'8-\\)': 'Cool',\n",
        "        r'O:\\)': 'Angel',\n",
        "        r'O:-\\)': 'Angel',\n",
        "        r'3:\\)': 'Devil',\n",
        "        r'3:-\\)': 'Devil',\n",
        "        r'B\\)': 'Cool',\n",
        "        r'B-\\)': 'Cool',\n",
        "        r'X\\(': 'Dead',\n",
        "        r'X-\\(': 'Dead',\n",
        "        r':\\'\\(': 'Crying',\n",
        "        r':\\'-\\(': 'Crying',\n",
        "        r':-\\[': 'Shy',\n",
        "        r'<3_<3': '😍',\n",
        "        r'T_T': '😭',\n",
        "        r'\\\\o/': '🙏',\n",
        "        r'o/': '🙌',\n",
        "        r'm/': '🙈',\n",
        "        r'-_-': '😒',\n",
        "        r':yum:': '😋',\n",
        "        r':X': '🙊',\n",
        "        r'zzZ': '😴',\n",
        "        r'XD': '😆',\n",
        "        r'XP': '😜',\n",
        "        r'n_n': '😴',\n",
        "        r'-_- zzz': '😫',\n",
        "        r':evil:': '😈',\n",
        "        r':mask:': '😷',\n",
        "        r'O_O': '😲',\n",
        "        r':hear_no_evil:': '🙉',\n",
        "        r'O:\\)': '😇',\n",
        "        r'_/\\\\_': '🙇',\n",
        "        r'<3': 'heart'\n",
        "        # ... add more patterns as needed\n",
        "    }\n",
        "\n",
        "    for emoticon, description in emoticons_dict.items():\n",
        "        text = re.sub(emoticon, description, text)\n",
        "\n",
        "    return text\n",
        "\n",
        "# text = \"Happy :) Sad :( Winking ;) Laughing :D\"\n",
        "# new_text = replace_emoticons(text)\n",
        "# print(new_text)\n"
      ],
      "metadata": {
        "id": "vUU-JrfQ8j3H"
      },
      "execution_count": null,
      "outputs": []
    },
    {
      "cell_type": "code",
      "source": [
        "import re\n",
        "\n",
        "def preprocess_tweet(tweet):\n",
        "    # Replace hashtags\n",
        "    #tweet = re.sub(r'#\\w+', 'hashtag', tweet)\n",
        "\n",
        "    # Replace text based emotions\n",
        "    tweet = replace_emoticons(tweet)\n",
        "\n",
        "    # replace possible sarcasm expressions with possiblity\n",
        "    re.sub(r'\\. \\.\\.', ' possibility ', tweet)\n",
        "    re.sub(r'\\. \\.\\.\\.', ' possibility ', tweet)\n",
        "\n",
        "     # Replace patterns like \"250,000\", \"3,600\" with \"NUM\"\n",
        "    text = re.sub(r'\\b\\d{1,3}(?:,\\d{3})*(?!\\d)', 'NUM', tweet)\n",
        "\n",
        "    # Replace alphanumeric patterns like \"r800\", \"23pts\" with \"ALPHANUM\"\n",
        "    text = re.sub(r'\\b(?:[a-zA-Z]+\\d+|\\d+[a-zA-Z]+)[a-zA-Z]*\\b', 'ALPHANUM', tweet)\n",
        "\n",
        "    # Replace range patterns like \"8-13\" with \"RANGE\"\n",
        "    text = re.sub(r'\\b\\d+-\\d+\\b', 'RANGE', tweet)\n",
        "\n",
        "    # Replace time patterns like 3:30, 1am, 2hrs, 2am, etc.\n",
        "    tweet = re.sub(r'(?:(\\d{1,2}:\\d{1,2})|(\\d{1,2}(?:am|pm))|(\\d{1,2}hrs))', 'time', tweet)\n",
        "\n",
        "    # Replace fractions or numbers like 1/2\n",
        "    tweet = re.sub(r'\\d{1,2}/\\d{1,2}', 'fraction', tweet)\n",
        "\n",
        "    # Replace year patterns like 2003\n",
        "    tweet = re.sub(r'\\b\\d{4}\\b', 'year', tweet)\n",
        "\n",
        "    # Replace amount patterns like 136k, 500k, 7million, 8.25, etc.\n",
        "    tweet = re.sub(r'(?:(\\d+(?:\\.\\d+)?(k|m|million|billion))|(\\d+\\.\\d{2}))', 'amount', tweet)\n",
        "\n",
        "    # Replace version patterns like 4.0\n",
        "    tweet = re.sub(r'\\d+\\.\\d+', 'version', tweet)\n",
        "\n",
        "    # Replace temperature patterns like 100.20, 971.2\n",
        "    tweet = re.sub(r'(?:(\\d+\\.\\d{1,2})|(\\d{2,3}\\.\\d))\\b', 'temperature', tweet)\n",
        "\n",
        "    # Replace time or duration patterns like 21st, 90s, 200yrs\n",
        "    tweet = re.sub(r'(?:(\\d{1,3}(st|nd|rd|th))|(\\d{1,2}s)|(\\d+yrs))', 'duration', tweet)\n",
        "\n",
        "    # Replace time patterns like 7:18, 12s, 24hr, 15minutes\n",
        "    tweet = re.sub(r'(?:(\\d{1,2}:\\d{1,2})|(\\d{1,2}s)|(\\d{1,2}hr)|(\\d{1,2}minutes))', 'time', tweet)\n",
        "\n",
        "    # Replace position patterns like 18th\n",
        "    tweet = re.sub(r'\\d{1,2}(st|nd|rd|th)', 'position', tweet)\n",
        "\n",
        "    # Replace speed patterns like 90kph\n",
        "    tweet = re.sub(r'\\d+kph', 'speed', tweet)\n",
        "\n",
        "    # Replace distance patterns like 155m\n",
        "    tweet = re.sub(r'\\d+m', 'distance', tweet)\n",
        "\n",
        "    # Replace urls\n",
        "    tweet = re.sub(r\"http\\S+|www\\S+|https\\S+\", 'URL', tweet, flags=re.MULTILINE)\n",
        "\n",
        "    #replace numbers\n",
        "    #tweet = re.sub(r'^\\d+$', 'NUM', tweet)\n",
        "    tweet = re.sub(r'\\b\\d+\\b', 'NUM', tweet)\n",
        "\n",
        "    # replace to break into multiple tokens\n",
        "    tweet = tweet.replace(\"-\", ' ')\n",
        "\n",
        "    return tweet\n",
        "\n",
        "# # Example usage\n",
        "# tweet = \"#thestartoftechweek I'll meet you at 3:30 and I remember back in 2003, it was 100.20 degrees!\"\n",
        "# print(preprocess_tweet(tweet))\n"
      ],
      "metadata": {
        "id": "5rzK0oW2zjBc"
      },
      "execution_count": null,
      "outputs": []
    },
    {
      "cell_type": "code",
      "source": [
        "def replace_token(token):\n",
        "    # Check for punctuations\n",
        "    if re.match(r'^[.,_-]+$', token):\n",
        "        return 'punctuation'\n",
        "\n",
        "    # Check for special characters\n",
        "    if re.match(r'^[@%&*=]+$', token):\n",
        "        return 'special'\n",
        "\n",
        "    #check for currency symbols\n",
        "    if re.match(r'^[£$€¥₹₽₩₪₫₴₦₲₵₮₱₭₺₼₠₡₢₣₤₥₧₨₩₪₫€₭₮₯₰₱₲₳₴₵₶₷₸₹₺₻₼₽₾₿]+$', token):\n",
        "        return 'currency'\n",
        "\n",
        "    return token"
      ],
      "metadata": {
        "id": "TFXn3M5Ci0fs"
      },
      "execution_count": null,
      "outputs": []
    },
    {
      "cell_type": "code",
      "source": [
        "df['text_prep'] = df['Tweet text'].apply(lambda x: preprocess_tweet(x))"
      ],
      "metadata": {
        "id": "k-Q2wWsFkaXz"
      },
      "execution_count": null,
      "outputs": []
    },
    {
      "cell_type": "code",
      "source": [
        "tknzr = TweetTokenizer(preserve_case=False, reduce_len=True, strip_handles=True)"
      ],
      "metadata": {
        "id": "P5N5x7PnlqNM"
      },
      "execution_count": null,
      "outputs": []
    },
    {
      "cell_type": "code",
      "source": [
        "df['tweet_tokens'] = df['text_prep'].apply(lambda x: tknzr.tokenize(x))"
      ],
      "metadata": {
        "id": "wnidEavild0Z"
      },
      "execution_count": null,
      "outputs": []
    },
    {
      "cell_type": "code",
      "source": [
        "df['tweet_tokens'] = df['tweet_tokens'].apply(lambda x: [\"alphanumeric\" if re.match(r'\\b(?:[a-zA-Z]+\\d+|\\d+[a-zA-Z]+)[a-zA-Z]*\\b', word) else word for word in x])\n",
        "df['tweet_tokens'] = df['tweet_tokens'].apply(lambda x: [\"number\" if re.match(r'^\\d+$', word) else word for word in x])\n",
        "df['tweet_tokens'] = df['tweet_tokens'].apply(lambda x:[replace_token(word) for word in x])"
      ],
      "metadata": {
        "id": "vgx7JTEVmMUX"
      },
      "execution_count": null,
      "outputs": []
    },
    {
      "cell_type": "code",
      "source": [
        "df.head()"
      ],
      "metadata": {
        "colab": {
          "base_uri": "https://localhost:8080/",
          "height": 206
        },
        "id": "N3PIm2dsdPIX",
        "outputId": "8fa265b4-6914-40eb-c82f-7e1967a3cb7a"
      },
      "execution_count": null,
      "outputs": [
        {
          "output_type": "execute_result",
          "data": {
            "text/plain": [
              "   Tweet index  Label                                         Tweet text  \\\n",
              "0            1      1  Sweet United Nations video. Just in time for C...   \n",
              "1            2      1  @mrdahl87 We are rumored to have talked to Erv...   \n",
              "2            3      1  Hey there! Nice to see you Minnesota/ND Winter...   \n",
              "3            4      0                3 episodes left I'm dying over here   \n",
              "4            5      1  I can't breathe! was chosen as the most notabl...   \n",
              "\n",
              "                                           text_prep  \\\n",
              "0  Sweet United Nations video. Just in time for C...   \n",
              "1  @mrdahl87 We are rumored to have talked to Erv...   \n",
              "2  Hey there! Nice to see you Minnesota/ND Winter...   \n",
              "3              NUM episodes left I'm dying over here   \n",
              "4  I can't breathe! was chosen as the most notabl...   \n",
              "\n",
              "                                        tweet_tokens  \n",
              "0  [sweet, united, nations, video, punctuation, j...  \n",
              "1  [we, are, rumored, to, have, talked, to, erv's...  \n",
              "2  [hey, there, !, nice, to, see, you, minnesota,...  \n",
              "3      [num, episodes, left, i'm, dying, over, here]  \n",
              "4  [i, can't, breathe, !, was, chosen, as, the, m...  "
            ],
            "text/html": [
              "\n",
              "  <div id=\"df-e0ed9fe2-ad41-4748-b3a0-1ce65864ccdc\" class=\"colab-df-container\">\n",
              "    <div>\n",
              "<style scoped>\n",
              "    .dataframe tbody tr th:only-of-type {\n",
              "        vertical-align: middle;\n",
              "    }\n",
              "\n",
              "    .dataframe tbody tr th {\n",
              "        vertical-align: top;\n",
              "    }\n",
              "\n",
              "    .dataframe thead th {\n",
              "        text-align: right;\n",
              "    }\n",
              "</style>\n",
              "<table border=\"1\" class=\"dataframe\">\n",
              "  <thead>\n",
              "    <tr style=\"text-align: right;\">\n",
              "      <th></th>\n",
              "      <th>Tweet index</th>\n",
              "      <th>Label</th>\n",
              "      <th>Tweet text</th>\n",
              "      <th>text_prep</th>\n",
              "      <th>tweet_tokens</th>\n",
              "    </tr>\n",
              "  </thead>\n",
              "  <tbody>\n",
              "    <tr>\n",
              "      <th>0</th>\n",
              "      <td>1</td>\n",
              "      <td>1</td>\n",
              "      <td>Sweet United Nations video. Just in time for C...</td>\n",
              "      <td>Sweet United Nations video. Just in time for C...</td>\n",
              "      <td>[sweet, united, nations, video, punctuation, j...</td>\n",
              "    </tr>\n",
              "    <tr>\n",
              "      <th>1</th>\n",
              "      <td>2</td>\n",
              "      <td>1</td>\n",
              "      <td>@mrdahl87 We are rumored to have talked to Erv...</td>\n",
              "      <td>@mrdahl87 We are rumored to have talked to Erv...</td>\n",
              "      <td>[we, are, rumored, to, have, talked, to, erv's...</td>\n",
              "    </tr>\n",
              "    <tr>\n",
              "      <th>2</th>\n",
              "      <td>3</td>\n",
              "      <td>1</td>\n",
              "      <td>Hey there! Nice to see you Minnesota/ND Winter...</td>\n",
              "      <td>Hey there! Nice to see you Minnesota/ND Winter...</td>\n",
              "      <td>[hey, there, !, nice, to, see, you, minnesota,...</td>\n",
              "    </tr>\n",
              "    <tr>\n",
              "      <th>3</th>\n",
              "      <td>4</td>\n",
              "      <td>0</td>\n",
              "      <td>3 episodes left I'm dying over here</td>\n",
              "      <td>NUM episodes left I'm dying over here</td>\n",
              "      <td>[num, episodes, left, i'm, dying, over, here]</td>\n",
              "    </tr>\n",
              "    <tr>\n",
              "      <th>4</th>\n",
              "      <td>5</td>\n",
              "      <td>1</td>\n",
              "      <td>I can't breathe! was chosen as the most notabl...</td>\n",
              "      <td>I can't breathe! was chosen as the most notabl...</td>\n",
              "      <td>[i, can't, breathe, !, was, chosen, as, the, m...</td>\n",
              "    </tr>\n",
              "  </tbody>\n",
              "</table>\n",
              "</div>\n",
              "    <div class=\"colab-df-buttons\">\n",
              "\n",
              "  <div class=\"colab-df-container\">\n",
              "    <button class=\"colab-df-convert\" onclick=\"convertToInteractive('df-e0ed9fe2-ad41-4748-b3a0-1ce65864ccdc')\"\n",
              "            title=\"Convert this dataframe to an interactive table.\"\n",
              "            style=\"display:none;\">\n",
              "\n",
              "  <svg xmlns=\"http://www.w3.org/2000/svg\" height=\"24px\" viewBox=\"0 -960 960 960\">\n",
              "    <path d=\"M120-120v-720h720v720H120Zm60-500h600v-160H180v160Zm220 220h160v-160H400v160Zm0 220h160v-160H400v160ZM180-400h160v-160H180v160Zm440 0h160v-160H620v160ZM180-180h160v-160H180v160Zm440 0h160v-160H620v160Z\"/>\n",
              "  </svg>\n",
              "    </button>\n",
              "\n",
              "  <style>\n",
              "    .colab-df-container {\n",
              "      display:flex;\n",
              "      gap: 12px;\n",
              "    }\n",
              "\n",
              "    .colab-df-convert {\n",
              "      background-color: #E8F0FE;\n",
              "      border: none;\n",
              "      border-radius: 50%;\n",
              "      cursor: pointer;\n",
              "      display: none;\n",
              "      fill: #1967D2;\n",
              "      height: 32px;\n",
              "      padding: 0 0 0 0;\n",
              "      width: 32px;\n",
              "    }\n",
              "\n",
              "    .colab-df-convert:hover {\n",
              "      background-color: #E2EBFA;\n",
              "      box-shadow: 0px 1px 2px rgba(60, 64, 67, 0.3), 0px 1px 3px 1px rgba(60, 64, 67, 0.15);\n",
              "      fill: #174EA6;\n",
              "    }\n",
              "\n",
              "    .colab-df-buttons div {\n",
              "      margin-bottom: 4px;\n",
              "    }\n",
              "\n",
              "    [theme=dark] .colab-df-convert {\n",
              "      background-color: #3B4455;\n",
              "      fill: #D2E3FC;\n",
              "    }\n",
              "\n",
              "    [theme=dark] .colab-df-convert:hover {\n",
              "      background-color: #434B5C;\n",
              "      box-shadow: 0px 1px 3px 1px rgba(0, 0, 0, 0.15);\n",
              "      filter: drop-shadow(0px 1px 2px rgba(0, 0, 0, 0.3));\n",
              "      fill: #FFFFFF;\n",
              "    }\n",
              "  </style>\n",
              "\n",
              "    <script>\n",
              "      const buttonEl =\n",
              "        document.querySelector('#df-e0ed9fe2-ad41-4748-b3a0-1ce65864ccdc button.colab-df-convert');\n",
              "      buttonEl.style.display =\n",
              "        google.colab.kernel.accessAllowed ? 'block' : 'none';\n",
              "\n",
              "      async function convertToInteractive(key) {\n",
              "        const element = document.querySelector('#df-e0ed9fe2-ad41-4748-b3a0-1ce65864ccdc');\n",
              "        const dataTable =\n",
              "          await google.colab.kernel.invokeFunction('convertToInteractive',\n",
              "                                                    [key], {});\n",
              "        if (!dataTable) return;\n",
              "\n",
              "        const docLinkHtml = 'Like what you see? Visit the ' +\n",
              "          '<a target=\"_blank\" href=https://colab.research.google.com/notebooks/data_table.ipynb>data table notebook</a>'\n",
              "          + ' to learn more about interactive tables.';\n",
              "        element.innerHTML = '';\n",
              "        dataTable['output_type'] = 'display_data';\n",
              "        await google.colab.output.renderOutput(dataTable, element);\n",
              "        const docLink = document.createElement('div');\n",
              "        docLink.innerHTML = docLinkHtml;\n",
              "        element.appendChild(docLink);\n",
              "      }\n",
              "    </script>\n",
              "  </div>\n",
              "\n",
              "\n",
              "<div id=\"df-28581ae3-77b8-44b3-9bd4-9a48999605c9\">\n",
              "  <button class=\"colab-df-quickchart\" onclick=\"quickchart('df-28581ae3-77b8-44b3-9bd4-9a48999605c9')\"\n",
              "            title=\"Suggest charts.\"\n",
              "            style=\"display:none;\">\n",
              "\n",
              "<svg xmlns=\"http://www.w3.org/2000/svg\" height=\"24px\"viewBox=\"0 0 24 24\"\n",
              "     width=\"24px\">\n",
              "    <g>\n",
              "        <path d=\"M19 3H5c-1.1 0-2 .9-2 2v14c0 1.1.9 2 2 2h14c1.1 0 2-.9 2-2V5c0-1.1-.9-2-2-2zM9 17H7v-7h2v7zm4 0h-2V7h2v10zm4 0h-2v-4h2v4z\"/>\n",
              "    </g>\n",
              "</svg>\n",
              "  </button>\n",
              "\n",
              "<style>\n",
              "  .colab-df-quickchart {\n",
              "      --bg-color: #E8F0FE;\n",
              "      --fill-color: #1967D2;\n",
              "      --hover-bg-color: #E2EBFA;\n",
              "      --hover-fill-color: #174EA6;\n",
              "      --disabled-fill-color: #AAA;\n",
              "      --disabled-bg-color: #DDD;\n",
              "  }\n",
              "\n",
              "  [theme=dark] .colab-df-quickchart {\n",
              "      --bg-color: #3B4455;\n",
              "      --fill-color: #D2E3FC;\n",
              "      --hover-bg-color: #434B5C;\n",
              "      --hover-fill-color: #FFFFFF;\n",
              "      --disabled-bg-color: #3B4455;\n",
              "      --disabled-fill-color: #666;\n",
              "  }\n",
              "\n",
              "  .colab-df-quickchart {\n",
              "    background-color: var(--bg-color);\n",
              "    border: none;\n",
              "    border-radius: 50%;\n",
              "    cursor: pointer;\n",
              "    display: none;\n",
              "    fill: var(--fill-color);\n",
              "    height: 32px;\n",
              "    padding: 0;\n",
              "    width: 32px;\n",
              "  }\n",
              "\n",
              "  .colab-df-quickchart:hover {\n",
              "    background-color: var(--hover-bg-color);\n",
              "    box-shadow: 0 1px 2px rgba(60, 64, 67, 0.3), 0 1px 3px 1px rgba(60, 64, 67, 0.15);\n",
              "    fill: var(--button-hover-fill-color);\n",
              "  }\n",
              "\n",
              "  .colab-df-quickchart-complete:disabled,\n",
              "  .colab-df-quickchart-complete:disabled:hover {\n",
              "    background-color: var(--disabled-bg-color);\n",
              "    fill: var(--disabled-fill-color);\n",
              "    box-shadow: none;\n",
              "  }\n",
              "\n",
              "  .colab-df-spinner {\n",
              "    border: 2px solid var(--fill-color);\n",
              "    border-color: transparent;\n",
              "    border-bottom-color: var(--fill-color);\n",
              "    animation:\n",
              "      spin 1s steps(1) infinite;\n",
              "  }\n",
              "\n",
              "  @keyframes spin {\n",
              "    0% {\n",
              "      border-color: transparent;\n",
              "      border-bottom-color: var(--fill-color);\n",
              "      border-left-color: var(--fill-color);\n",
              "    }\n",
              "    20% {\n",
              "      border-color: transparent;\n",
              "      border-left-color: var(--fill-color);\n",
              "      border-top-color: var(--fill-color);\n",
              "    }\n",
              "    30% {\n",
              "      border-color: transparent;\n",
              "      border-left-color: var(--fill-color);\n",
              "      border-top-color: var(--fill-color);\n",
              "      border-right-color: var(--fill-color);\n",
              "    }\n",
              "    40% {\n",
              "      border-color: transparent;\n",
              "      border-right-color: var(--fill-color);\n",
              "      border-top-color: var(--fill-color);\n",
              "    }\n",
              "    60% {\n",
              "      border-color: transparent;\n",
              "      border-right-color: var(--fill-color);\n",
              "    }\n",
              "    80% {\n",
              "      border-color: transparent;\n",
              "      border-right-color: var(--fill-color);\n",
              "      border-bottom-color: var(--fill-color);\n",
              "    }\n",
              "    90% {\n",
              "      border-color: transparent;\n",
              "      border-bottom-color: var(--fill-color);\n",
              "    }\n",
              "  }\n",
              "</style>\n",
              "\n",
              "  <script>\n",
              "    async function quickchart(key) {\n",
              "      const quickchartButtonEl =\n",
              "        document.querySelector('#' + key + ' button');\n",
              "      quickchartButtonEl.disabled = true;  // To prevent multiple clicks.\n",
              "      quickchartButtonEl.classList.add('colab-df-spinner');\n",
              "      try {\n",
              "        const charts = await google.colab.kernel.invokeFunction(\n",
              "            'suggestCharts', [key], {});\n",
              "      } catch (error) {\n",
              "        console.error('Error during call to suggestCharts:', error);\n",
              "      }\n",
              "      quickchartButtonEl.classList.remove('colab-df-spinner');\n",
              "      quickchartButtonEl.classList.add('colab-df-quickchart-complete');\n",
              "    }\n",
              "    (() => {\n",
              "      let quickchartButtonEl =\n",
              "        document.querySelector('#df-28581ae3-77b8-44b3-9bd4-9a48999605c9 button');\n",
              "      quickchartButtonEl.style.display =\n",
              "        google.colab.kernel.accessAllowed ? 'block' : 'none';\n",
              "    })();\n",
              "  </script>\n",
              "</div>\n",
              "    </div>\n",
              "  </div>\n"
            ]
          },
          "metadata": {},
          "execution_count": 25
        }
      ]
    },
    {
      "cell_type": "code",
      "source": [
        "#from word2vecReader import Word2Vec\n",
        "#model = Word2Vec.load_word2vec_format('word2vec_twitter_model.bin', binary=True)"
      ],
      "metadata": {
        "id": "L1TaaCOQyxKd"
      },
      "execution_count": null,
      "outputs": []
    },
    {
      "cell_type": "code",
      "source": [
        "#hashtags_corpus = [key for key in model.vocab.keys() if key.startswith('#')]\n",
        "hashtags_corpus = [key for key in model.get_words() if key.startswith('#')]  #fasttext"
      ],
      "metadata": {
        "id": "McEgsXMdy2Z3"
      },
      "execution_count": null,
      "outputs": []
    },
    {
      "cell_type": "code",
      "source": [
        "abusive_vocab = ['anal', 'fuck', 'racist', 'shit', 'teen']\n",
        "sarcasm_vocab = ['fun', 'lol', 'irony', 'sarcasm', 'mocking', 'laugh', 'wife']\n",
        "democracy_vocab = ['democratic', 'democracy', 'black', 'ukraine']\n",
        "pain_vocab = ['miserable', 'pain', 'fear']"
      ],
      "metadata": {
        "id": "7T-ZtykuzCGo"
      },
      "execution_count": null,
      "outputs": []
    },
    {
      "cell_type": "code",
      "source": [
        "def get_hashtag_words(hashtag_token):\n",
        "  if hashtag_token in hashtags_corpus:\n",
        "    return hashtag_token\n",
        "  else:\n",
        "    for word in abusive_vocab:\n",
        "      if word in hashtag_token:\n",
        "        return \"#abusive\"\n",
        "    for word in sarcasm_vocab:\n",
        "      if word in hashtag_token:\n",
        "        return \"#sarcasm\"\n",
        "    for word in democracy_vocab:\n",
        "      if word in hashtag_token:\n",
        "        return \"#democracy\"\n",
        "    for word in pain_vocab:\n",
        "      if word in hashtag_token:\n",
        "        return \"#painful\"\n",
        "    return \"#hashtag\"\n"
      ],
      "metadata": {
        "id": "E16WWKnqzGl5"
      },
      "execution_count": null,
      "outputs": []
    },
    {
      "cell_type": "code",
      "source": [
        "# def modified_get_hashtag_words(token):\n",
        "#     if token.startswith('#'):\n",
        "#         return get_hashtag_words(token)\n",
        "#     return token"
      ],
      "metadata": {
        "id": "rQRpscCd2QRS"
      },
      "execution_count": null,
      "outputs": []
    },
    {
      "cell_type": "code",
      "source": [
        "#word2vec preprocessing\n",
        "df['tweet_tokens'] = df['tweet_tokens'].apply(lambda x: [get_hashtag_words(word) if word.startswith('#') else word for word in x])"
      ],
      "metadata": {
        "id": "FRcUJCpuzS6t"
      },
      "execution_count": null,
      "outputs": []
    },
    {
      "cell_type": "code",
      "source": [
        "df.to_csv(\"gdrive/My Drive/anlp_project/train_preprocessed_df_fasttext.csv\", index=None)"
      ],
      "metadata": {
        "id": "GBJLeMFz0EEa"
      },
      "execution_count": null,
      "outputs": []
    },
    {
      "cell_type": "code",
      "source": [
        "# Test data preparation"
      ],
      "metadata": {
        "id": "sG6lpYxRNV5H"
      },
      "execution_count": null,
      "outputs": []
    },
    {
      "cell_type": "code",
      "source": [
        "test_df = pd.read_csv('gdrive/My Drive/anlp_project/SemEval2018-T3_gold_test_taskA_emoji.txt', sep='\\t')"
      ],
      "metadata": {
        "id": "4d1WdtMENyCR"
      },
      "execution_count": null,
      "outputs": []
    },
    {
      "cell_type": "code",
      "source": [
        "len(test_df)"
      ],
      "metadata": {
        "colab": {
          "base_uri": "https://localhost:8080/"
        },
        "id": "u6rlU4GJHXzb",
        "outputId": "ebccc6e7-6c6b-4709-d9bc-a5c5d00d809f"
      },
      "execution_count": null,
      "outputs": [
        {
          "output_type": "execute_result",
          "data": {
            "text/plain": [
              "784"
            ]
          },
          "metadata": {},
          "execution_count": 6
        }
      ]
    },
    {
      "cell_type": "code",
      "source": [
        "test_df['text_prep'] = test_df['Tweet text'].apply(lambda x: preprocess_tweet(x))"
      ],
      "metadata": {
        "id": "0YmfSKSIN9PM"
      },
      "execution_count": null,
      "outputs": []
    },
    {
      "cell_type": "code",
      "source": [
        "test_df['tweet_tokens'] = test_df['text_prep'].apply(lambda x: tknzr.tokenize(x))"
      ],
      "metadata": {
        "id": "f_7hwmtFOEmE"
      },
      "execution_count": null,
      "outputs": []
    },
    {
      "cell_type": "code",
      "source": [
        "test_df['tweet_tokens'] = test_df['tweet_tokens'].apply(lambda x: [\"alphanumeric\" if re.match(r'\\b(?:[a-zA-Z]+\\d+|\\d+[a-zA-Z]+)[a-zA-Z]*\\b', word) else word for word in x])\n",
        "test_df['tweet_tokens'] = test_df['tweet_tokens'].apply(lambda x: [\"number\" if re.match(r'^\\d+$', word) else word for word in x])\n",
        "test_df['tweet_tokens'] = test_df['tweet_tokens'].apply(lambda x:[replace_token(word) for word in x])"
      ],
      "metadata": {
        "id": "oxr0PmKEOMsE"
      },
      "execution_count": null,
      "outputs": []
    },
    {
      "cell_type": "code",
      "source": [
        "#word2vec preprocessing\n",
        "import pickle\n",
        "\n",
        "# Load the embeddings\n",
        "with open('gdrive/My Drive/anlp_project/my_embeddings.pkl', 'rb') as file:\n",
        "    embeddings_dict = pickle.load(file)"
      ],
      "metadata": {
        "id": "nsevIcXRexO1"
      },
      "execution_count": null,
      "outputs": []
    },
    {
      "cell_type": "code",
      "source": [
        "train_hashtags_corpus = [key for key in embeddings_dict.keys() if key.startswith('#')]"
      ],
      "metadata": {
        "id": "2aIuRPO4e6yV"
      },
      "execution_count": null,
      "outputs": []
    },
    {
      "cell_type": "code",
      "source": [
        "def get_test_hashtag_words(hashtag_token):\n",
        "  if hashtag_token in train_hashtags_corpus:\n",
        "    return hashtag_token\n",
        "  else:\n",
        "    for word in abusive_vocab:\n",
        "      if word in hashtag_token:\n",
        "        return \"#abusive\"\n",
        "    for word in sarcasm_vocab:\n",
        "      if word in hashtag_token:\n",
        "        return \"#sarcasm\"\n",
        "    for word in democracy_vocab:\n",
        "      if word in hashtag_token:\n",
        "        return \"#democracy\"\n",
        "    for word in pain_vocab:\n",
        "      if word in hashtag_token:\n",
        "        return \"#painful\"\n",
        "    return \"#hashtag\""
      ],
      "metadata": {
        "id": "c8sUxwFZeRzS"
      },
      "execution_count": null,
      "outputs": []
    },
    {
      "cell_type": "code",
      "source": [
        "test_df['tweet_tokens'] = test_df['tweet_tokens'].apply(lambda x: [get_test_hashtag_words(word) if word.startswith('#') else word for word in x])"
      ],
      "metadata": {
        "id": "olzGDJhgQVjs"
      },
      "execution_count": null,
      "outputs": []
    },
    {
      "cell_type": "code",
      "source": [
        "test_df.to_csv(\"gdrive/My Drive/anlp_project/test_preprocessed_df_fasttext.csv\", index=None)"
      ],
      "metadata": {
        "id": "3b_ht5reQ2CN"
      },
      "execution_count": null,
      "outputs": []
    },
    {
      "cell_type": "code",
      "source": [
        "from collections import Counter\n",
        "\n",
        "# Flatten the list of tokens and compute frequencies\n",
        "vocabulary = Counter(word for tokens in df['tweet_tokens'] for word in tokens)\n",
        "\n",
        "train_corpus = list(vocabulary.keys())"
      ],
      "metadata": {
        "id": "7drsP3BqlRyD"
      },
      "execution_count": null,
      "outputs": []
    },
    {
      "cell_type": "code",
      "source": [
        "test_vocabulary = Counter(word for tokens in test_df['tweet_tokens'] for word in tokens)\n",
        "\n",
        "test_corpus = list(test_vocabulary.keys())"
      ],
      "metadata": {
        "id": "bYeoaIOQRA7p"
      },
      "execution_count": null,
      "outputs": []
    },
    {
      "cell_type": "code",
      "source": [
        "# Sort vocabulary by frequency\n",
        "sorted_vocabulary = {word: freq for word, freq in vocabulary.most_common()}\n",
        "\n",
        "print(sorted_vocabulary)"
      ],
      "metadata": {
        "colab": {
          "base_uri": "https://localhost:8080/"
        },
        "id": "_4d6jqiiodhI",
        "outputId": "f20091f1-815a-4740-9f01-5b80d539a687"
      },
      "execution_count": null,
      "outputs": [
        {
          "output_type": "stream",
          "name": "stdout",
          "text": [
            "{'punctuation': 3697, 'the': 1436, 'to': 1240, 'a': 1063, 'i': 1040, '!': 1033, 'url': 944, 'is': 670, 'and': 669, 'in': 614, 'you': 598, 'of': 592, 'my': 538, '?': 526, 'for': 514, 'num': 467, '|': 464, 'on': 409, 'that': 402, 'it': 388, '\"': 385, ':': 348, 'this': 300, 'so': 298, 'be': 271, 'me': 266, 'special': 263, 'just': 259, 'with': 258, 'at': 251, 'not': 247, 'have': 237, 'are': 228, 'love': 215, \"i'm\": 210, 'but': 210, 'all': 206, 'up': 203, 'your': 189, 'when': 188, 'was': 181, 'what': 180, 'like': 178, 'day': 171, \"it's\": 170, 'get': 165, 'we': 164, 'do': 154, 'how': 153, 'can': 151, 'year': 143, 'time': 142, 'about': 142, 'from': 139, 'now': 138, 'an': 131, 'as': 127, 'one': 127, 'out': 125, 'they': 124, 'by': 122, \"'\": 119, \"don't\": 119, 'no': 117, 'great': 117, 'people': 111, 'will': 110, 'more': 109, 'if': 107, 'good': 105, 'who': 100, 'he': 100, 'christmas': 97, 'know': 96, 'today': 96, 'see': 94, 'has': 94, \"can't\": 93, 'go': 92, 'really': 89, '😂': 89, 'or': 88, '(': 87, 'going': 86, 'oh': 85, ')': 83, 'work': 81, 'there': 80, 'would': 80, 'new': 80, 'his': 80, 'think': 79, 'why': 79, 'back': 79, 'only': 78, 'much': 77, 'fun': 77, 'being': 76, 'well': 76, \"that's\": 75, 'right': 74, 'too': 71, 'some': 71, 'still': 71, 'need': 70, 'lol': 70, 'thanks': 67, 'way': 67, '/': 66, 'its': 66, 'got': 66, 'over': 65, 'than': 65, 'life': 64, 'because': 63, 'then': 62, 'been': 62, 'am': 62, 'want': 62, 'smile': 59, 'make': 58, 'her': 57, 'better': 57, 'even': 57, 'wait': 56, 'their': 56, \"i've\": 55, 'off': 55, 'u': 54, 'should': 54, 'never': 53, 'night': 53, 'our': 53, 'alphanumeric': 53, 'morning': 53, 'them': 53, 'start': 53, 'here': 52, 'had': 52, 'rt': 52, 'thing': 51, 'via': 51, 'most': 50, 'yeah': 50, 'look': 50, \"you're\": 49, '#': 49, 'happy': 48, 'last': 47, 'always': 47, 'getting': 46, 'after': 46, 'feel': 46, 'nice': 45, 'twitter': 45, 'where': 45, 'down': 44, 'us': 44, 'she': 44, 'sleep': 44, 'game': 44, 'such': 43, 'someone': 43, 'currency': 43, 'did': 42, 'best': 41, 'another': 41, 'please': 40, 'into': 40, 'were': 40, 'ever': 39, 'him': 39, 'again': 39, 'bad': 39, 'nothing': 38, 'first': 38, 'week': 38, 'say': 38, 'having': 38, 'tonight': 38, 'every': 38, 'hours': 37, '️': 37, '😒': 37, 'these': 36, \"didn't\": 36, 'things': 36, 'man': 36, 'done': 36, \"i'll\": 36, 'next': 36, 'big': 35, 'come': 35, 'take': 35, 'keep': 35, 'wow': 35, 'duration': 34, 'free': 34, 'tomorrow': 34, 'two': 34, '>': 34, 'sure': 33, 'those': 33, 'school': 33, 'made': 32, 'doing': 32, 'world': 32, 'other': 32, 'find': 31, 'makes': 30, 'looks': 30, 'hope': 30, 'same': 30, 'any': 30, 'family': 30, 'home': 30, \"doesn't\": 29, 'thank': 29, 'end': 29, 'shit': 29, 'yet': 29, 'before': 29, 'gonna': 28, 'trying': 28, 'could': 28, 'funny': 28, 'w': 28, 'working': 28, 'stop': 28, 'very': 28, 'feeling': 27, 'guys': 27, 'yay': 27, 'car': 27, 'ready': 27, 'face': 27, 'days': 27, 'actually': 27, 'yes': 26, 'money': 26, 'show': 26, 'real': 26, 'awesome': 26, 'talk': 26, 'read': 26, \"there's\": 26, 'guess': 25, 'tell': 25, 'playing': 25, 'lot': 25, 'name': 25, 'number': 25, 'hate': 25, 'anything': 25, 'mean': 25, 'word': 25, 'everything': 25, 'guy': 24, 'check': 24, '<': 24, 'does': 24, 'job': 24, 'making': 24, 'says': 24, 'enough': 24, 'amazing': 24, 'many': 24, 'haha': 24, 'news': 24, 'myself': 24, 'long': 23, 'until': 23, 'went': 23, 'girl': 23, 'already': 23, 'early': 23, 'bed': 23, 'tweet': 23, 'follow': 23, 'while': 23, 'glad': 23, 'everyone': 23, 'give': 23, 'wink': 22, 'also': 22, 'something': 22, 'put': 22, 'sad': 22, 'watching': 22, 'hard': 22, 'waking': 22, 'music': 22, 'fuck': 22, \"he's\": 22, 'wrong': 22, 'coming': 22, 'n': 22, 'which': 22, 'help': 22, 'old': 21, 'god': 21, \"isn't\": 21, 'times': 21, 's': 21, 'service': 21, 'watch': 21, 'sick': 21, 'years': 21, 'gotta': 21, 'believe': 21, 'excited': 21, 'break': 20, 'else': 20, 'let': 20, 'little': 20, 'said': 20, 'hour': 20, 'change': 20, 'use': 20, ';': 20, 'pretty': 20, 'must': 20, 'looking': 20, 'cool': 20, 'xmas': 19, 'phone': 19, 'might': 19, 'friends': 19, 'part': 19, 'play': 19, 'sounds': 19, 'remember': 19, \"what's\": 19, '🙈': 19, 'half': 19, 'favorite': 19, 'monday': 19, 'heart': 19, 'through': 18, 'media': 18, 'call': 18, 'friday': 18, 'thought': 18, \"won't\": 18, 'own': 18, 'super': 18, 'cause': 18, '#christmas': 18, 'though': 18, 'miss': 18, 'different': 18, 'loving': 18, 'hair': 18, 'ok': 18, 'win': 18, 'hey': 17, 'cold': 17, 'tongue': 17, '😁': 17, 'kids': 17, 'stuff': 17, 'police': 17, 'seems': 17, 'dont': 17, '😘': 17, 'class': 17, '+': 17, \"they're\": 17, 'team': 17, 'girls': 17, 'since': 17, 'worth': 17, 'finally': 17, 'found': 16, 'hit': 16, 'birthday': 16, 'wonderful': 16, 'try': 16, 'finals': 16, '😩': 16, 'b': 16, 'enjoy': 16, 'post': 16, '#the': 16, 'photo': 16, '#love': 16, 'black': 16, 'seen': 16, 'using': 16, 'place': 16, 'lovely': 16, 'around': 16, 'wanted': 16, 'drive': 16, '👍': 16, 'person': 16, 'ya': 16, 'house': 16, 'fact': 16, 'winter': 15, 'left': 15, 'support': 15, '😡': 15, 'high': 15, 'fucking': 15, 'ass': 15, 'ask': 15, '#ferguson': 15, 'may': 15, 'gets': 15, '#is': 15, 'saying': 15, '😭': 15, 'white': 15, 'train': 15, 'true': 15, 'far': 15, 'fan': 15, 'song': 15, 'bring': 15, 'final': 15, 'minutes': 15, 'sooo': 15, 'x': 15, \"i'd\": 15, 'wake': 15, 'amount': 15, 'video': 14, 'both': 14, 'few': 14, '❤': 14, 'gone': 14, '☺': 14, 'season': 14, 'late': 14, 'im': 14, '😳': 14, 'wanna': 14, 'dead': 14, 'idea': 14, 'joke': 14, 'course': 14, 'under': 14, 'saturday': 14, \"we're\": 14, 'country': 14, 'picture': 14, 'mom': 14, 'goes': 14, \"let's\": 14, 'sorry': 14, 'called': 14, '😍': 14, '😆': 14, 'heard': 14, 'away': 14, 'talking': 14, 'ppl': 14, 'awake': 14, 'party': 14, 'least': 14, 'ur': 14, 'live': 14, 'hear': 14, 'page': 14, 'wearing': 14, 'against': 14, '👌': 14, 'e': 14, 'during': 14, 'point': 14, 'weather': 13, 'seeing': 13, 'understand': 13, 'r': 13, 'rain': 13, 'whole': 13, 'pay': 13, 'version': 13, 'important': 13, 'probably': 13, 'race': 13, 'write': 13, 'paper': 13, 'taking': 13, 'comes': 13, 'fans': 13, 'perfect': 13, 'forget': 13, 'women': 13, 'book': 13, 'drinking': 13, 'totally': 13, 'weeks': 13, 'fraction': 13, '~': 13, 'lost': 12, 'wish': 12, 'weekend': 12, 'waiting': 12, 'moment': 12, 'paid': 12, 'happened': 12, 'literally': 12, 'saw': 12, 'water': 12, 'reading': 12, 'means': 12, 'anymore': 12, 'maybe': 12, '#eu': 12, 'million': 12, 'used': 12, 'top': 12, 'reason': 12, 'parents': 12, '#year': 12, 'able': 12, 'stay': 12, 'pick': 12, 'body': 12, 'coffee': 12, 'story': 12, 'cant': 12, 'soon': 12, 'definitely': 12, 'ago': 12, 'beautiful': 12, 'wants': 12, 'followers': 12, 'list': 11, 'system': 11, 'instead': 11, 'hand': 11, 'sense': 11, 'took': 11, 'fine': 11, '^': 11, 'vs': 11, 'safe': 11, 'men': 11, 'once': 11, 'started': 11, 'act': 11, 'gift': 11, '😑': 11, 'public': 11, 'city': 11, 'bit': 11, 'sometimes': 11, 'fight': 11, '🔫': 11, 'mind': 11, 'head': 11, '#lol': 11, 'yesterday': 11, 'hot': 11, 'ha': 11, 'players': 11, 'side': 11, 'breaking': 11, 'room': 11, 'law': 11, 'dad': 11, 't': 11, 'needs': 11, '😜': 11, 'test': 11, 'holiday': 11, '💜': 11, '👊': 11, 'anyone': 11, 'internet': 11, '. .': 11, 'asked': 10, 'open': 10, 'office': 10, 'instagram': 10, 'second': 10, 'books': 10, 'told': 10, 'self': 10, 'seriously': 10, 'calls': 10, 'american': 10, 'three': 10, '😴': 10, 'group': 10, \"here's\": 10, 'small': 10, 'tweets': 10, 'respect': 10, 'snow': 10, 'surprise': 10, '#to': 10, 'listening': 10, 'missed': 10, 'secret': 10, 'forward': 10, 'presents': 10, 'full': 10, 'fair': 10, 'itself': 10, '🎅': 10, \"wasn't\": 10, 'skeptical': 10, 'leave': 10, 'mate': 10, 'absolutely': 10, 'quite': 10, 'fix': 10, 'ending': 10, '😏': 10, 'wonder': 10, 'sleeping': 10, '😊': 10, 'okay': 10, 'laugh': 10, 'less': 10, 'cute': 10, 'giving': 10, \"haven't\": 10, 'works': 10, 'hahaha': 10, 'turn': 10, 'joy': 10, 'together': 10, 'surprised': 10, 'matter': 10, 'easy': 10, 'each': 10, 'rather': 10, 'month': 10, 'app': 10, 'email': 9, 'facebook': 9, 'changed': 9, 'starting': 9, 'social': 9, 'omg': 9, 'o': 9, 'buy': 9, 'hell': 9, 'slow': 9, 'future': 9, 'kind': 9, 'worst': 9, 'obama': 9, 'cut': 9, 'message': 9, 'between': 9, 'fingers': 9, 'without': 9, '#funny': 9, 'imagine': 9, '#tcot': 9, '#notcies': 9, 'north': 9, 'completely': 9, 'posting': 9, 'english': 9, 'mine': 9, 'ones': 9, 'front': 9, 'came': 9, 'young': 9, 'cup': 9, 'case': 9, 'merry': 9, 'son': 9, 'hurt': 9, '😔': 9, 'food': 9, 'winning': 9, 'exam': 9, 'deal': 9, 'yup': 9, 'study': 9, 'walking': 9, 'loved': 9, 'happens': 9, 'eu': 9, 'damn': 9, 'eat': 9, 'visit': 9, 'timeam': 9, 'boy': 9, 'woman': 9, 'bus': 9, 'studying': 9, 're': 9, 'happening': 9, 'alone': 9, 'outside': 9, 'keeps': 9, 'broken': 9, 'sweet': 8, 'dying': 8, 'lights': 8, 'text': 8, '#on': 8, '–': 8, 'town': 8, 'bet': 8, 'fit': 8, 'running': 8, 'online': 8, 'whatever': 8, \"shouldn't\": 8, 'd': 8, 'clearly': 8, 'thursday': 8, 'sony': 8, 'movie': 8, 'busy': 8, 'kid': 8, 'join': 8, '🙊': 8, 'cops': 8, 'killed': 8, 'greatest': 8, 'power': 8, 'save': 8, 'baby': 8, 'lose': 8, 'fire': 8, 'xbox': 8, 'due': 8, 'games': 8, 'eating': 8, 'watched': 8, 'peaceful': 8, 'plan': 8, 'com': 8, 'problem': 8, 'justice': 8, '#new': 8, 'loves': 8, 'issue': 8, 'c': 8, 'sitting': 8, 'telling': 8, 'asleep': 8, 'hold': 8, 'leaving': 8, '#num': 8, 'shirt': 8, \"couldn't\": 8, 'exactly': 8, 'child': 8, '😎': 8, 'towards': 8, '🎄': 8, 'source': 8, 'later': 8, 'socks': 8, 'almost': 8, 'till': 8, '💕': 8, 'quality': 7, '😅': 7, 'protection': 7, 'pm': 7, '😱': 7, 'm': 7, 'missing': 7, 'none': 7, 'lives': 7, 'stupid': 7, 'govt': 7, 'losing': 7, 'tweeted': 7, 'woke': 7, 'living': 7, 'dude': 7, '#work': 7, 'lmao': 7, 'short': 7, 'set': 7, 'dinner': 7, 'football': 7, 'question': 7, '😃': 7, 'december': 7, 'double': 7, 'close': 7, 'mad': 7, '🙌': 7, 'liked': 7, 'history': 7, 'twice': 7, 'line': 7, 'pain': 7, 'cry': 7, 'tried': 7, 'y': 7, 'answer': 7, 'blame': 7, 'folks': 7, 'offer': 7, 'shows': 7, '🎉': 7, '#peshawarattack': 7, 'shot': 7, 'wtf': 7, 'putting': 7, '😷': 7, 'worry': 7, 'society': 7, 'yourself': 7, 'care': 7, 'irony': 7, 'interesting': 7, 'cannot': 7, '#but': 7, 'record': 7, '#for': 7, 'speak': 7, 'racism': 7, 'kill': 7, 'friend': 7, \"year's\": 7, 'jesus': 7, 'road': 7, 'move': 7, 'pictures': 7, 'human': 7, 'rights': 7, 'math': 7, 'action': 7, 'themselves': 7, 'account': 7, '#truth': 7, 'rest': 7, 'everyday': 7, '#be': 7, 'teacher': 7, 'broke': 7, 'episode': 7, 'showing': 7, '#teenanalcasting': 7, \"ain't\": 7, 'favourite': 7, 'strong': 7, 'shopping': 7, 'others': 7, 'january': 7, 'ugh': 7, '#this': 7, '#you': 7, '😄': 7, 'stand': 7, 'mess': 7, 'apple': 7, 'tom': 7, 'fall': 7, 'size': 7, 'computer': 7, '#russia': 7, 'selfie': 7, '#blacklivesmatter': 7, 'hands': 7, 'crazy': 7, 'luck': 7, 'trip': 7, 'congrats': 7, 'stuck': 7, \"aren't\": 7, 'usual': 7, '😣': 7, 'peace': 7, 'learn': 7, 'sound': 7, 'kinda': 7, 'straight': 7, 'welcome': 7, '#ericgarner': 7, 'dear': 7, 'health': 7, 'sky': 7, 'tree': 6, 'santa': 6, 'mobile': 6, 'sports': 6, 'cat': 6, 'trade': 6, 'died': 6, 'bc': 6, 'learned': 6, 'trust': 6, 'sucks': 6, 'fish': 6, 'crime': 6, 'mouth': 6, 'hmmm': 6, 'filled': 6, 'fast': 6, \"wouldn't\": 6, 'apparently': 6, 'thinks': 6, 'tweeting': 6, 'retweet': 6, 'followed': 6, 'date': 6, 'dark': 6, '#obama': 6, 'tired': 6, 'words': 6, 'america': 6, '#over': 6, 'liberal': 6, 'sex': 6, 'crying': 6, 'lady': 6, 'bought': 6, 'illegal': 6, 'fake': 6, 'hotel': 6, 'fantastic': 6, \"people's\": 6, 'yea': 6, 'couple': 6, 'played': 6, 'sign': 6, 'immediately': 6, 'sun': 6, 'fox': 6, 'argument': 6, 'listen': 6, 'gas': 6, '#and': 6, 'exciting': 6, 'leg': 6, 'shame': 6, '#icantbreathe': 6, 'teeth': 6, 'semester': 6, 'blood': 6, 'officially': 6, 'round': 6, 'green': 6, 'single': 6, 'reply': 6, 'thats': 6, '✌': 6, 'prime': 6, 'control': 6, 'given': 6, 'ill': 6, '💁': 6, '😕': 6, '🎁': 6, 'alert': 6, 'state': 6, 'bay': 6, 'crap': 6, 'league': 6, '#of': 6, 'likely': 6, 'speaking': 6, 'protest': 6, '#sydneysiege': 6, 'security': 6, 'sit': 6, \"we'll\": 6, '👏': 6, 'wide': 6, 'attack': 6, 'red': 6, '#are': 6, 'dream': 6, 'grand': 6, 'hello': 6, 'thinking': 6, 'price': 6, '#fail': 6, 'website': 6, 'drunk': 6, 'clean': 6, \"world's\": 6, '😖': 6, 'stomach': 6, \"y'all\": 6, 'blog': 6, 'movies': 6, 'roll': 6, 'essay': 6, 'traffic': 6, 'picked': 6, 'freezing': 6, 'clothes': 6, 'ignored': 6, 'link': 6, 'florida': 6, 'speech': 6, 'death': 6, 'drink': 6, 'plus': 6, 'eye': 6, 'shocked': 6, 'lets': 6, '#happy': 6, 'count': 6, 'f': 6, 'lots': 6, 'college': 6, 'caught': 6, 'past': 6, 'sunday': 6, 'rape': 6, 'hi': 6, 'amen': 6, 'worse': 6, 'religion': 6, ']': 6, 'draw': 6, 'hospital': 6, 'writing': 6, 'board': 6, 'biggest': 6, '#my': 6, 'per': 6, 'google': 6, 'spend': 6, 'problems': 6, 'die': 6, 'insurance': 6, 'coin': 6, 'v': 6, 'statement': 6, 'truth': 6, '#photo': 6, 'religious': 6, 'cover': 6, 'commercial': 6, 'light': 5, 'daughter': 5, 'bloody': 5, 'difference': 5, 'bill': 5, '#food': 5, 'defense': 5, 'mornings': 5, 'extra': 5, 'smh': 5, '#says': 5, 'dress': 5, 'decided': 5, 'become': 5, 'boss': 5, 'yr': 5, 'customer': 5, 'earlier': 5, 'wear': 5, 'color': 5, 'gym': 5, 'nap': 5, 'boys': 5, '🎶': 5, 'response': 5, 'apartment': 5, 'needed': 5, 'personal': 5, 'press': 5, '#me': 5, '#out': 5, 'tv': 5, 'box': 5, 'ahhh': 5, 'travel': 5, 'return': 5, 'husband': 5, 'major': 5, '#girl': 5, \"you'll\": 5, 'article': 5, 'definition': 5, 'tough': 5, 'bitch': 5, 'smell': 5, '#rip': 5, 'anytime': 5, 'korean': 5, 'thoughts': 5, 'pop': 5, 'court': 5, 'review': 5, 'windows': 5, 'oil': 5, 'goodness': 5, 'along': 5, '#it': 5, 'dare': 5, '#good': 5, 'spell': 5, 'bless': 5, 'k': 5, 'local': 5, '👎': 5, 'shoes': 5, 'rush': 5, '#gamergate': 5, 'proof': 5, 'chocolate': 5, 'fi': 5, 'either': 5, 'dropped': 5, 'bottle': 5, 'training': 5, 'teachers': 5, 'mother': 5, 'gear': 5, 'brown': 5, 'vote': 5, 'children': 5, 'clever': 5, 'ideas': 5, 'ticket': 5, 'meet': 5, 'creepy': 5, 'random': 5, 'cuba': 5, '#cuba': 5, 'father': 5, 'somebody': 5, '#blessed': 5, 'film': 5, 'muslims': 5, 'beat': 5, 'india': 5, 'earth': 5, 'walk': 5, 'style': 5, 'blacks': 5, 'ordered': 5, 'doubt': 5, 'direction': 5, 'alot': 5, 'fat': 5, 'government': 5, 'search': 5, 'report': 5, 'plans': 5, 'nigga': 5, '#life': 5, 'skin': 5, 'five': 5, 'update': 5, 'huge': 5, 'explain': 5, 'tax': 5, 'em': 5, 'pic': 5, 'helpful': 5, '#sorry': 5, 'block': 5, 'legend': 5, '#how': 5, 'adorable': 5, 'rangers': 5, '#im': 5, 'tbh': 5, 'heaven': 5, 'countries': 5, 'idk': 5, '#bad': 5, 'spending': 5, 'facing': 5, 'weird': 5, 'punch': 5, 'ways': 5, 'french': 5, 'poor': 5, 'parking': 5, 'opposite': 5, 'wrote': 5, 'crowd': 5, 'company': 5, 'perfectly': 5, 'mum': 5, 'cleaning': 5, 'above': 5, 'tea': 5, 'members': 5, '🔥': 5, 'yo': 5, 'player': 5, 'playoff': 5, '#kids': 5, 'simply': 5, 'babies': 5, 'horrible': 5, 'keeping': 5, 'student': 5, 'golf': 5, \"she's\": 5, '#fun': 5, 'appreciate': 5, 'silence': 5, 'yep': 5, ';p': 5, 'window': 5, \"hasn't\": 5, '#ha': 5, 'false': 5, 'taylor': 5, 'note': 5, 'backs': 5, 'taken': 5, 'minute': 5, 'female': 5, 'interview': 5, 'row': 5, 'passing': 5, 'fav': 5, 'virgin': 5, 'session': 5, 'ends': 5, 'movement': 5, 'turned': 5, 'sale': 5, 'behind': 5, 'prize': 5, 'click': 5, 'sweater': 5, 'dance': 5, 'wins': 5, '#all': 5, 'ugly': 5, 'cough': 5, 'non': 5, 'information': 5, 'knowing': 5, 'points': 5, '#saintsfc': 5, 'forgot': 5, 'ridiculous': 5, 'blessed': 5, 'chicken': 5, '[': 5, 'afford': 5, 'decision': 5, '#why': 5, 'card': 5, 'qb': 5, '😝': 5, '💀': 5, 'club': 5, 'series': 5, 'grandma': 5, 'freedom': 5, 'library': 5, '#wow': 5, '#wtf': 5, 'lie': 5, '#time': 5, 'add': 5, 'info': 5, 'puppy': 5, 'hardly': 4, 'breathe': 4, 'released': 4, 'university': 4, 'highway': 4, 'beer': 4, 'deserve': 4, 'allowed': 4, 'entire': 4, 'event': 4, 'feeding': 4, 'battery': 4, 'tho': 4, 'amazingly': 4, \"you'd\": 4, 'catch': 4, '#was': 4, 'sydney': 4, 'limit': 4, 'physical': 4, 'hahahaha': 4, 'russell': 4, 'brand': 4, 'sell': 4, 'impossible': 4, 'loyalty': 4, 'among': 4, 'cos': 4, 'shut': 4, 'speed': 4, 'kevin': 4, 'reach': 4, 'reaction': 4, 'share': 4, 'cried': 4, 'store': 4, '#business': 4, 'kidding': 4, 'turkey': 4, 'feet': 4, 'progress': 4, 'chinese': 4, 'added': 4, 'pissed': 4, 'airport': 4, 'frozen': 4, 'rainy': 4, 'customers': 4, '#women': 4, 'iraq': 4, 'won': 4, 'nights': 4, 'pure': 4, '#diy': 4, 'woohoo': 4, 'admit': 4, 'butt': 4, 'conference': 4, 'guns': 4, 'owners': 4, 'hat': 4, 'clear': 4, 'four': 4, 'mary': 4, 'daily': 4, 'fail': 4, 'nephew': 4, 'church': 4, 'mail': 4, '#follow': 4, 'hanging': 4, 'cash': 4, 'private': 4, 'blowing': 4, 'wednesday': 4, \"today's\": 4, \"you've\": 4, 'third': 4, 'zero': 4, 'classes': 4, 'except': 4, 'worked': 4, 'sector': 4, 'singing': 4, '#day': 4, 'na': 4, 'rose': 4, 'nation': 4, '#we': 4, '#never': 4, '#up': 4, '#success': 4, 'staying': 4, '#style': 4, '#torturereport': 4, 'aware': 4, 'j': 4, 'bye': 4, 'spot': 4, 'shoot': 4, 'lack': 4, 'wi': 4, 'beach': 4, '😫': 4, 'cia': 4, 'shocking': 4, 'calling': 4, 'safety': 4, 'gold': 4, 'ma': 4, 'suck': 4, 'union': 4, 'express': 4, 'ball': 4, 'fucked': 4, 'abt': 4, 'crossed': 4, 'isnt': 4, 'sentence': 4, 'packers': 4, 'truly': 4, '#today': 4, 'hockey': 4, '#news': 4, 'photos': 4, '😉': 4, '#cool': 4, '🙅': 4, 'campaign': 4, 'wrapping': 4, 'seat': 4, 'wondering': 4, 'questions': 4, 'relations': 4, 'voting': 4, 'mood': 4, 'street': 4, 'grace': 4, 'faith': 4, '#monstermmorpg': 4, 'fam': 4, 'stats': 4, 'lesson': 4, 'carolina': 4, 'whoever': 4, 'runs': 4, 'fantasy': 4, 'hindu': 4, 'sarcastic': 4, 'jumping': 4, '#mtvstars': 4, 'terrible': 4, 'miles': 4, 'educated': 4, 'activity': 4, 'lads': 4, 'london': 4, 'present': 4, 'mini': 4, 'sort': 4, 'eve': 4, 'ride': 4, 'cars': 4, 'memory': 4, 'available': 4, 'especially': 4, 'staff': 4, 'difficult': 4, 'original': 4, 'lyrics': 4, 'anyway': 4, '#cute': 4, 'charged': 4, 'selfish': 4, 'classy': 4, 'voice': 4, 'comedy': 4, '#best': 4, '#can': 4, 'happen': 4, 'gave': 4, 'ignorance': 4, 'pics': 4, '#proud': 4, 'upset': 4, 'boots': 4, 'journalism': 4, 'science': 4, '#enough': 4, '💋': 4, '💃': 4, 'expected': 4, 'ashamed': 4, 'seem': 4, 'actor': 4, '☔': 4, 'irrelevant': 4, 'indian': 4, 'western': 4, 'indeed': 4, 'successful': 4, 'sources': 4, 'dating': 4, 'gifts': 4, 'member': 4, 'standing': 4, 'jobs': 4, 'gee': 4, 'bae': 4, 'kick': 4, 'order': 4, 'effort': 4, 'gives': 4, 'penguins': 4, 'victims': 4, 'business': 4, 'relevant': 4, 'sjws': 4, 'sends': 4, '🙏': 4, 'dry': 4, 'loud': 4, 'beginning': 4, 'ahead': 4, 'hide': 4, 'students': 4, 'officer': 4, 'rn': 4, 'min': 4, 'ground': 4, 'average': 4, 'based': 4, 'cancelled': 4, 'area': 4, 'blocked': 4, 'loss': 4, 'employee': 4, 'bar': 4, 'helps': 4, 'nobody': 4, '#money': 4, 'tuesday': 4, 'youtube': 4, 'level': 4, 'wine': 4, 'site': 4, 'term': 4, 'display': 4, 'run': 4, 'ohhh': 4, 'services': 4, 'eyes': 4, 'bruh': 4, 'agree': 4, 'homework': 4, '#like': 4, 'feed': 4, 'supposed': 4, 'usually': 4, 'mountain': 4, 'smart': 4, 'heavy': 4, 'correct': 4, 'suffering': 4, 'duty': 4, '#fb': 4, '#do': 4, 'drop': 4, 'conversation': 4, 'everywhere': 4, 'currently': 4, 'boyfriend': 4, 'blue': 4, 'bigger': 4, 'bag': 4, 'nope': 4, 'believed': 4, 'facts': 4, 'cuz': 4, 'official': 4, 'knows': 4, 'album': 4, 'king': 4, '#beautiful': 4, 'hashtag': 4, 'matters': 4, 'bringing': 4, 'normal': 4, 'land': 4, 'view': 4, 'button': 4, '#art': 4, 'yellow': 4, '#its': 4, 'issues': 4, 'hr': 4, 'l': 4, 'figure': 4, 'finger': 4, 'strange': 4, 'throwing': 4, 'winner': 4, 'falling': 4, 'received': 4, 'location': 4, 'torture': 4, 'grow': 4, 'brother': 4, 'send': 4, 'brought': 4, 'produce': 4, 'practice': 4, 'summer': 4, 'cheers': 4, '#no': 4, 'challenge': 4, 'continue': 4, 'comfortable': 4, 'credit': 4, 'longer': 4, 'gay': 4, 'blast': 4, 'simple': 4, 'crew': 4, 'americans': 4, '#chicago': 4, 'uni': 4, '#one': 4, '😢': 4, 'loose': 4, 'jack': 4, 'aka': 4, '#struggle': 4, 'focus': 4, 'field': 4, 'dislike': 4, '#fml': 4, 'easier': 4, 'pays': 4, 'common': 4, 'incredible': 4, 'dc': 4, 'honest': 4, 'holidays': 4, '#frozen': 4, 'killing': 4, 'sarcasm': 4, 'supporting': 4, 'racist': 4, 'council': 4, 'ten': 4, 'himself': 4, 'tickets': 4, 'fabulous': 4, 'moving': 4, 'stress': 4, 'la': 4, 'proud': 4, 'bowl': 4, '#sundayfunday': 4, 'ah': 4, 'latest': 4, 'nations': 3, 'talked': 3, 'ed': 3, 'quote': 3, 'upstairs': 3, 'pink': 3, 'realize': 3, 'interested': 3, 'insight': 3, 'offered': 3, 'brilliant': 3, 'cared': 3, 'thx': 3, '😬': 3, 'decent': 3, 'herself': 3, 'lazy': 3, 'background': 3, 'lester': 3, '—': 3, 'sec': 3, 'fixed': 3, '#hypocrisy': 3, 'sleepy': 3, 'goal': 3, 'whatsoever': 3, '#net': 3, 'positive': 3, 'concerned': 3, 'touch': 3, 'dentist': 3, 'steal': 3, 'sexy': 3, 'quarter': 3, 'design': 3, 'guard': 3, '💯': 3, 'ambulance': 3, 'alcohol': 3, 'holes': 3, 'guide': 3, 'lunch': 3, 'describe': 3, 'expression': 3, 'tuned': 3, 'loveee': 3, 'ruled': 3, 'talent': 3, 'pulled': 3, 'scared': 3, 'bears': 3, 'ruined': 3, 'answering': 3, 'choose': 3, 'showed': 3, 'appointment': 3, 'drinks': 3, 'treat': 3, 'provide': 3, 'war': 3, 'doctor': 3, 'achieved': 3, '#fashion': 3, 'delays': 3, 'performance': 3, 'supportive': 3, 'period': 3, '#what': 3, '#gym': 3, 'jessica': 3, 'giant': 3, 'hall': 3, 'grandpa': 3, '✈': 3, 'lucky': 3, 'stealing': 3, 'results': 3, 'type': 3, '#december': 3, 'cray': 3, 'squad': 3, 'ruin': 3, 'flip': 3, 'schools': 3, '#nyc': 3, 'stopped': 3, 'drug': 3, 'asks': 3, '#jesus': 3, 'noon': 3, '#nfl': 3, 'hack': 3, 'stores': 3, 'juncker': 3, 'forever': 3, '#our': 3, 'acceptable': 3, 'nah': 3, 'nose': 3, 'access': 3, 'england': 3, 'surely': 3, '😀': 3, 'occupy': 3, 'laughing': 3, 'wheels': 3, 'finds': 3, 'earn': 3, 'sing': 3, 'hungry': 3, 'apart': 3, 'tells': 3, 'correctly': 3, 'tag': 3, '#if': 3, '#keep': 3, '#monday': 3, '#ootd': 3, 'pakistan': 3, 'bills': 3, '💦': 3, 'attached': 3, 'porn': 3, '#annoying': 3, 'attend': 3, '#he': 3, 'months': 3, 'parties': 3, 'keyboard': 3, 'criminal': 3, 'officers': 3, 'bush': 3, 'methods': 3, 'often': 3, 'held': 3, 'driving': 3, 'cancel': 3, 'heading': 3, 'tests': 3, 'nature': 3, 'written': 3, 'relationship': 3, 'consists': 3, 'experience': 3, 'network': 3, 'uber': 3, 'monitor': 3, 'etc': 3, 'deserved': 3, 'moron': 3, 'square': 3, 'males': 3, 'fool': 3, 'obvious': 3, '#rape': 3, 'aw': 3, \"japan's\": 3, '#drawing': 3, 'ourselves': 3, '#bbc': 3, 'democrats': 3, 'divide': 3, 'reasons': 3, 'cloud': 3, 'lord': 3, 'bbc': 3, '#motivation': 3, 'comic': 3, 'submission': 3, 'husbands': 3, 'grant': 3, \"who's\": 3, 'table': 3, '🙋': 3, '#nowplaying': 3, 'weight': 3, 'usa': 3, '#old': 3, 'lips': 3, '#or': 3, 'bust': 3, 'helping': 3, 'tolerant': 3, 'brothers': 3, 'coat': 3, 'mirror': 3, 'wall': 3, 'healthy': 3, '#kashmir': 3, 'british': 3, 'popular': 3, 'transfer': 3, 'success': 3, 'nicely': 3, 'delivery': 3, 'army': 3, '#may': 3, 'livelihood': 3, 'sat': 3, 'ideology': 3, 'putin': 3, 'defending': 3, 'beauty': 3, 'stark': 3, 'former': 3, 'gunna': 3, 'shooting': 3, 'tour': 3, '#quiksilvergoessupersonic': 3, 'realized': 3, 'updates': 3, 'charge': 3, 'sums': 3, 'building': 3, 'spice': 3, 'gotten': 3, \"how's\": 3, 'h': 3, 'aaaand': 3, 'er': 3, 'violence': 3, 'brave': 3, 'large': 3, 'seemed': 3, 'philly': 3, 'south': 3, 'pants': 3, 'matt': 3, 'rodgers': 3, 'holy': 3, 'experts': 3, 'korea': 3, 'dallas': 3, 'flu': 3, '#flu': 3, 'rich': 3, 'eskom': 3, 'evidence': 3, 'prayers': 3, 'rock': 3, 'randomly': 3, 'multiple': 3, 'signs': 3, '#twitter': 3, '#so': 3, '#just': 3, '#say': 3, 'lies': 3, 'feels': 3, 'enter': 3, '#lbloggers': 3, 'patrick': 3, 'awards': 3, 'whether': 3, 'buddy': 3, 'bro': 3, 'skills': 3, 'ignorant': 3, '#idiot': 3, 'millions': 3, 'pass': 3, 'breakfast': 3, 'donuts': 3, 'pairs': 3, '✨': 3, 'engaged': 3, 'knee': 3, 'france': 3, '#shocker': 3, '#uber': 3, '#finalsweek': 3, 'mostly': 3, '#followme': 3, 'wisdom': 3, 'ummm': 3, 'failed': 3, 'alright': 3, 'youre': 3, 'knock': 3, '#funtimes': 3, 'possible': 3, 'emergency': 3, 'legendary': 3, '#traffic': 3, 'effect': 3, 'younger': 3, '#music': 3, 'bout': 3, 'victoria': 3, 'middle': 3, 'climate': 3, 'breaks': 3, 'decide': 3, 'kiss': 3, 'fries': 3, 'aww': 3, 'handle': 3, 'friendly': 3, 'judge': 3, 'meaning': 3, 'mass': 3, 'babysitting': 3, 'fr': 3, 'quiet': 3, 'scream': 3, 'animals': 3, '#orionlaunch': 3, 'accept': 3, 'david': 3, 'afternoon': 3, 'types': 3, 'pieces': 3, 'banter': 3, 'bucks': 3, 'honestly': 3, '#insomnia': 3, 'waste': 3, 'mccain': 3, 'mondays': 3, 'mode': 3, 'replace': 3, 'obviously': 3, 'baylor': 3, 'john': 3, '#advancedwarfare': 3, 'corporate': 3, 'considering': 3, 'channel': 3, 'sneezing': 3, 'pregnant': 3, 'grown': 3, 'af': 3, 'films': 3, 'prob': 3, 'adults': 3, 'cats': 3, 'tiger': 3, 'humans': 3, 'entertainment': 3, \"that'll\": 3, 'studio': 3, 'bird': 3, '#gharwapsi': 3, 'crack': 3, 'mark': 3, \"we've\": 3, 'audio': 3, 'unless': 3, 'package': 3, '#israel': 3, 'soul': 3, 'productive': 3, '☕': 3, 'germs': 3, 'diagnosed': 3, 'disorder': 3, 'humanity': 3, 'committee': 3, 'tears': 3, 'finnish': 3, 'chat': 3, 'xx': 3, 'yrs': 3, 'plate': 3, 'spanish': 3, '☆': 3, '💤': 3, 'overrated': 3, '#shopping': 3, '#australia': 3, 'australia': 3, 'skate': 3, 'studied': 3, 'door': 3, 'ooh': 3, 'hood': 3, 'professor': 3, 'dogs': 3, 'hang': 3, 'intelligence': 3, 'jk': 3, 'wet': 3, 'potential': 3, 'assume': 3, 'leeds': 3, '#loveit': 3, 'flight': 3, 'snap': 3, \"everyone's\": 3, 'congratulations': 3, '#by': 3, 'vodka': 3, 'servers': 3, 'christians': 3, 'server': 3, 'foreign': 3, 'teams': 3, 'solid': 3, 'basically': 3, 'listened': 3, 'accounts': 3, 'begin': 3, '#sorrynotsorry': 3, 'cycle': 3, '😤': 3, 'burger': 3, 'enjoyed': 3, 'marketing': 3, 'boxing': 3, 'heads': 3, 'laws': 3, 'dip': 3, '🙀': 3, 'manager': 3, 'jump': 3, 'advice': 3, 'shop': 3, 'procrastinating': 3, 'cramming': 3, 'annoying': 3, '#your': 3, 'angry': 3, 'records': 3, 'dressing': 3, 'quiz': 3, 'artist': 3, 'opinion': 3, '#happyholidays': 3, 'shared': 3, 'moon': 3, 'current': 3, '#socialmedia': 3, 'bias': 3, 'accidentally': 3, 'hearing': 3, \"where's\": 3, 'everybody': 3, 'arguing': 3, 'senate': 3, 'political': 3, '#taliban': 3, 'salt': 3, '😋': 3, 'bitches': 3, '#crafts': 3, '℃': 3, 'code': 3, 'ex': 3, '#tsu': 3, 'result': 3, 'stories': 3, 'invoice': 3, '#thanksobama': 3, 'ignoring': 3, 'buses': 3, 'bench': 3, 'creative': 3, 'terrorists': 3, 'chance': 3, 'passes': 3, '💪': 3, 'section': 3, 'steve': 3, 'minds': 3, 'chris': 3, 'driver': 3, 'copyright': 3, 'reality': 3, 'west': 3, 'de': 3, '#look': 3, 'stairs': 3, 'phil': 3, '#notcias': 3, '#europ': 3, 'ability': 3, 'tony': 3, 'industry': 3, 'sent': 3, 'weekends': 3, 'boo': 3, 'notice': 3, 'answers': 3, 'apps': 3, 'planet': 3, '#entrepreneur': 3, 'earned': 3, 'memphis': 3, 'metro': 3, 'position': 3, '💚': 3, 'mix': 3, 'following': 3, 'bowler': 3, 'prefer': 3, 'bjp': 3, 'cr': 3, 'makeup': 3, \"someone's\": 3, 'num.time': 3, 'patriots': 3, 'deny': 3, 'committed': 3, '#ugh': 3, 'stressed': 3, '#dead': 3, 'grumpy': 3, 'rise': 3, '#christians': 3, '#hypocrites': 3, 'yours': 3, 'rob': 3, 'step': 3, 'timepm': 3, 'calendar': 3, 'checked': 3, 'protesting': 3, 'flat': 3, 'pizza': 3, 'male': 3, '#nypd': 3, '#smh': 3, 'sisters': 3, 'lecoincanard': 3, 'knitting': 3, 'pdp': 3, 'slams': 3, 'restaurant': 3, '#long': 3, 'knowledge': 3, '#sonyhack': 3, '#police': 3, 'hopefully': 3, 'buzzing': 3, 'supports': 3, 'passed': 3, 'meal': 3, 'anti': 3, 'awful': 3, 'confusing': 3, 'salad': 3, 'fails': 3, '🍹': 3, 'iphone': 3, 'goals': 3, 'load': 3, '#in': 3, 'china': 3, 'pair': 3, 'sox': 3, '😞': 3, 'powerful': 3, 'wishing': 3, 'groups': 3, 'profile': 3, 'score': 3, 'representation': 3, '. ...': 3, 'murder': 3, 'paradise': 3, 'crisis': 3, '❄': 3, 'push': 3, 'trouble': 3, 'hoe': 3, 'easily': 3, 'sigh': 3, 'barf': 3, 'bank': 3, 'born': 3, 'married': 3, 'gooden': 3, '・': 3, 'beats': 3, 'hurts': 3, 'takes': 3, 'monkeys': 3, 'taste': 3, 'dog': 3, '#startup': 3, '#now': 3, 'republican': 3, 'neither': 3, 'storm': 3, 'liberals': 3, 'flowers': 3, 'development': 3, 'united': 2, 'agent': 2, 'minnesota': 2, 'chosen': 2, 'notable': 2, 'annual': 2, 'happier': 2, 'opening': 2, \"one's\": 2, 'tone': 2, \"they'll\": 2, 'buffalo': 2, 'smarter': 2, 'vet': 2, 'trading': 2, 'sp': 2, 'ss': 2, 'interviews': 2, 'everrr': 2, '#myfav': 2, 'summary': 2, 'denied': 2, 'knew': 2, 'brain': 2, '#aussie': 2, 'terrorist': 2, 'gunman': 2, 'hostages': 2, 'twig': 2, 'balls': 2, '😐': 2, 'therapy': 2, '#iwanttosleep': 2, 'coz': 2, 'caps': 2, 'lock': 2, 'mt': 2, '#tumblr': 2, 'enjoying': 2, '#sheneverleft': 2, 'luv': 2, 'jon': 2, 'besides': 2, 'sustainable': 2, 'bruce': 2, 'wen': 2, 'necessary': 2, 'mmm': 2, 'durant': 2, 'orange': 2, 'captures': 2, 'receive': 2, 'japan': 2, 'bmw': 2, 'az': 2, 'pride': 2, 'whenever': 2, '#college': 2, 'protect': 2, 'enemies': 2, '#naah': 2, 'delivered': 2, '#vscocam': 2, 'hero': 2, 'meh': 2, 'celebration': 2, 'picks': 2, 'numerous': 2, '.  .': 2, '#gift': 2, 'react': 2, '#todayimloving': 2, 'blind': 2, 'glasses': 2, 'fella': 2, 'cocaine': 2, '#thanksgiving': 2, 'planned': 2, 'yaa': 2, 'bein': 2, '💩': 2, 'wht': 2, 'thesis': 2, 'tas': 2, 'picking': 2, 'chicago': 2, 'peoples': 2, 'chances': 2, 'meeting': 2, '#texas2015': 2, 'barack': 2, 'hurting': 2, 'feelings': 2, 'communication': 2, 'posted': 2, '😇': 2, 'explains': 2, 'pray': 2, 'saves': 2, 'libby': 2, 'lane': 2, 'successfully': 2, 'havent': 2, 'anniversary': 2, 'client': 2, 'looove': 2, 'medicine': 2, '#superdaylineup': 2, 'dig': 2, 'jimi': 2, 'survive': 2, 'drives': 2, 'athletes': 2, 'enhancing': 2, 'drugs': 2, 'hella': 2, 'isis': 2, 'related': 2, 'exotic': 2, 'tight': 2, 'nailed': 2, 'ufc': 2, 'names': 2, '#terror': 2, '#pakistan': 2, 'blows': 2, 'sea': 2, '#matters': 2, '#holidays': 2, 'dads': 2, 'truck': 2, 'drivers': 2, 'niece': 2, 'eventually': 2, 'mac': 2, '#working': 2, 'badger': 2, 'crusade': 2, 'instantly': 2, 'murdering': 2, 'plastic': 2, 'shes': 2, 'dressed': 2, '😲': 2, 'chilling': 2, 'da': 2, 'awhile': 2, '#goodmorning': 2, 'expecting': 2, '#bfhardline': 2, 'beta': 2, '#epic': 2, 'remains': 2, 'district': 2, '☀': 2, 'raised': 2, 'motivate': 2, 'billion': 2, 'sexist': 2, 'wasting': 2, 'pills': 2, 'wont': 2, 'maps': 2, '#misogyny': 2, 'logical': 2, 'cbs': 2, 'aaron': 2, 'sorkin': 2, 'burn': 2, '#forever': 2, 'ears': 2, 'wind': 2, 'looked': 2, 'anonymous': 2, 'somewhere': 2, 'forth': 2, 'fifth': 2, 'raiola': 2, 'steam': 2, 'whoop': 2, 'dropping': 2, 'prices': 2, '#pmharper': 2, 'tie': 2, 'economy': 2, '#cdnpoli': 2, 'songs': 2, 'accent': 2, 'democracy': 2, 'accuse': 2, 'hungover': 2, 'grey': 2, 'ghost': 2, 'starts': 2, '🍷': 2, 'alike': 2, 'completed': 2, '#see': 2, '#hope': 2, '#give': 2, 'rim': 2, 'closer': 2, 'miserable': 2, '#hypocrite': 2, 'trending': 2, 'rowling': 2, 'lung': 2, 'infection': 2, '#notfun': 2, '💧': 2, 'winds': 2, 'struggling': 2, 'valid': 2, 'excuse': 2, 'concept': 2, 'critics': 2, 'wedding': 2, 'spider': 2, 'hangs': 2, '#text': 2, 'nypd': 2, 'def': 2, 'closet': 2, 'fully': 2, 'informed': 2, 'av': 2, 'wit': 2, 'joe': 2, 'inside': 2, 'occ': 2, '#woohoo': 2, 'complaining': 2, 'spill': 2, 'gel': 2, 'cracking': 2, 'chatting': 2, 'hackers': 2, 'bidu': 2, 'market': 2, '#sotired': 2, 'timeline': 2, 'filming': 2, '#getmetoevc': 2, '#topoli': 2, 'jets': 2, 'draft': 2, 'reminded': 2, 'competition': 2, 'managed': 2, '#sadhvi': 2, 'relate': 2, 'eventful': 2, '#decemberchallenge': 2, 'speaks': 2, 'retain': 2, 'minister': 2, 'talks': 2, '#globalwarming': 2, 'expert': 2, '#wife': 2, '#from': 2, 'vision': 2, 'division': 2, 'conquer': 2, 'feminist': 2, 'ate': 2, 'reminds': 2, 'eyebrows': 2, '💅': 2, 'christ': 2, 'mercy': 2, 'warmer': 2, '#cold': 2, 'forest': 2, 'donkey': 2, 'suppose': 2, 'arse': 2, 'appreciated': 2, 'academic': 2, 'neighbor': 2, 'constantly': 2, 'parole': 2, 'wife': 2, 'exist': 2, 'tune': 2, 'starving': 2, 'johnny': 2, 'ruining': 2, 'places': 2, 'doesnt': 2, 'dragging': 2, 'empty': 2, 'scary': 2, 'led': 2, 'ups': 2, 'deep': 2, 'swamp': 2, 'wrap': 2, '#four': 2, 'islamic': 2, 'lecture': 2, 'value': 2, 'generous': 2, '#has': 2, 'burned': 2, 'allow': 2, 'happiness': 2, 'babes': 2, 'tampa': 2, 'tb': 2, 'insulting': 2, '#newyearnewme': 2, '#lebanon': 2, 'named': 2, 'fundamental': 2, 'communal': 2, 'fanatic': 2, 'rss': 2, 'champion': 2, 'pouring': 2, 'bow': 2, '#2014mama': 2, 'ban': 2, 'hill': 2, 'smith': 2, 'arizona': 2, 'appeals': 2, 'lower': 2, 'damned': 2, '#communication': 2, 'criticism': 2, 'hoops': 2, 'changing': 2, 'alex': 2, 'fb': 2, 'fighting': 2, 'ohh': 2, 'climb': 2, '#takemeout': 2, 'einstein': 2, 'amused': 2, '#german': 2, '#growth': 2, 'hidden': 2, 'australian': 2, 'finding': 2, 'monitoring': 2, 'dec': 2, 'uh': 2, 'praising': 2, 'liverpool': 2, 'infamous': 2, 'manage': 2, '#eatenalive': 2, 'quit': 2, 'arm': 2, 'immigration': 2, 'honor': 2, '#color': 2, '#beginning': 2, 'kanye': 2, 'clowns': 2, 'soccer': 2, 'ta': 2, '#labour': 2, 'opinions': 2, 'research': 2, 'thorough': 2, 'waves': 2, 'epic': 2, 'devolution': 2, 'starters': 2, 'hooray': 2, '#accounting': 2, '#absolutetosh': 2, 'properly': 2, 'convey': 2, '#uk': 2, 'baseball': 2, 'protecting': 2, 'property': 2, '#handsupdontshoot': 2, '#badday': 2, 'woot': 2, 'guest': 2, 'porygon': 2, 'hacked': 2, 'suddenly': 2, '#selfie': 2, '#black': 2, 'romantic': 2, 'cost': 2, 'switched': 2, 'supported': 2, 'sides': 2, 'hav': 2, 'scenarios': 2, 'wenger': 2, 'uncle': 2, 'hbcu': 2, 'alabama': 2, 'thang': 2, 'age': 2, 'acting': 2, 'sight': 2, 'silly': 2, 'heh': 2, 'videos': 2, 'holding': 2, 'referencing': 2, '#blackpeople': 2, '#hi': 2, 'theory': 2, 'chap': 2, 'refs': 2, \"victoria's\": 2, 'racists': 2, '#giveaway': 2, '#bbloggers': 2, 'mall': 2, 'sleet': 2, 'hosting': 2, 'within': 2, '#lifequotes': 2, 'texting': 2, '#last': 2, 'main': 2, 'hows': 2, 'mature': 2, 'hiring': 2, 'exhausted': 2, 'tribune': 2, 'educ': 2, '#fuck': 2, 'allergic': 2, '#happiness': 2, 'xxx': 2, 'submitted': 2, 'obesity': 2, 'caring': 2, '#bit': 2, '#nope': 2, 'gorgeous': 2, '#mom': 2, 'distraction': 2, 'nervous': 2, 'capitalism': 2, 'rocks': 2, '#finals': 2, 'walmart': 2, 'ingredients': 2, 'specifically': 2, 'aye': 2, 'jokes': 2, 'depends': 2, 'extended': 2, 'protected': 2, 'shovel': 2, 'driveway': 2, '#notreally': 2, 'dang': 2, 'declare': 2, 'politicians': 2, 'civ': 2, 'stage': 2, '#tampa': 2, 'dreaming': 2, 'whooo': 2, '#redsox': 2, '#dcrising': 2, 'san': 2, '#smile': 2, '#holiday': 2, 'worthless': 2, 'sleeps': 2, 'wreck': 2, 'wld': 2, 'messages': 2, 'lines': 2, 'queue': 2, '#joke': 2, 'downtown': 2, 'cutting': 2, 'harper': 2, '#politics': 2, 'ive': 2, '#raw': 2, '#np': 2, 'decides': 2, 'complain': 2, 'tis': 2, 'underwear': 2, '#yay': 2, '#big': 2, '#night': 2, '#at': 2, 'throws': 2, 'kisses': 2, 'cheek': 2, 'terrorism': 2, 'robert': 2, 'hubbs': 2, 'consistent': 2, 'madagascar': 2, '#humor': 2, '#cleveland': 2, 'sans': 2, 'blonde': 2, 'confirmed': 2, 'desperate': 2, 'traveling': 2, 'salty': 2, 'award': 2, 'hoes': 2, 'caribbean': 2, 'sunny': 2, 'ca': 2, 'staring': 2, 'levels': 2, 'id': 2, '#nothanks': 2, 'rex': 2, 'lectures': 2, 'flipping': 2, 'boston': 2, 'fare': 2, 'expensive': 2, '#naptime': 2, 'phones': 2, 'families': 2, 'dan': 2, 'numbers': 2, 'photoset': 2, '#dancing': 2, 'metric': 2, '#watching': 2, 'essays': 2, 'moral': 2, 'clue': 2, 'lead': 2, 'barely': 2, '#morning': 2, 'duh': 2, '#sonakshi': 2, 'fame': 2, '#bjp': 2, 'leader': 2, 'darn': 2, 'sighs': 2, 'limited': 2, 'seats': 2, 'screening': 2, 'austin': 2, '#killmenow': 2, '🔪': 2, 'fewer': 2, 'richard': 2, 'thrown': 2, 'surveillance': 2, 'semi': 2, 'bridge': 2, 'republicans': 2, 'outta': 2, 'proving': 2, 'wwe': 2, '2k15': 2, 'career': 2, 'ep': 2, 'everyones': 2, 'slept': 2, '#palestinian': 2, '#icc': 2, 'thnx': 2, 'sorted': 2, 'orz': 2, 'counter': 2, 'osu': 2, 'champ': 2, 'queens': 2, 'garden': 2, 'sees': 2, 'caffeine': 2, 'ford': 2, 'coaching': 2, 'shocker': 2, 'candles': 2, 'worthwhile': 2, 'bday': 2, 'lily': 2, 'spent': 2, 'coughing': 2, 'wings': 2, '#positive': 2, 'belly': 2, 'dramatically': 2, 'designed': 2, 'destroy': 2, 'massage': 2, '#naughty': 2, 'psychology': 2, '#killme': 2, 'protestors': 2, 'coyotes': 2, 'core': 2, 'mentions': 2, '#ready': 2, 'slaying': 2, 'igloo': 2, 'zealand': 2, 'wesay': 2, 'chasing': 2, 'chase': 2, 'bf': 2, 'shivering': 2, 'employees': 2, 'workers': 2, 'hamilton': 2, '#anticonversionlaw': 2, 'accepting': 2, 'thou': 2, '#hiphop': 2, '#ny': 2, 'desserts': 2, 'fsu': 2, 'greaaat': 2, '#sweet': 2, 'nxt': 2, 'sore': 2, 'chelsea': 2, '#superman': 2, '#christmastree': 2, '#sleepy': 2, 'fulham': 2, 'excellent': 2, 'dm': 2, 'cus': 2, 'vegas': 2, 'niggas': 2, 'license': 2, 'emotions': 2, 'dreams': 2, 'cookie': 2, 'roommate': 2, 'anxiety': 2, 'james': 2, 'pulis': 2, '#that': 2, 'messy': 2, '#yoda': 2, 'letters': 2, 'whilst': 2, 'brady': 2, 'pressure': 2, '#will': 2, 'icy': 2, 'conditions': 2, '😰': 2, 'afraid': 2, 'uk': 2, '#bbn': 2, 'hired': 2, 'expectations': 2, 'migraines': 2, 'nasty': 2, '#friends': 2, 'channels': 2, 'raped': 2, '#mufflerman': 2, 'encouraging': 2, 'zz': 2, 'steak': 2, 'shake': 2, 'items': 2, 'wee': 2, 'busty': 2, 'celebs': 2, 'concern': 2, 'ashley': 2, 'cozy': 2, 'string': 2, 'fashion': 2, '#quoteoftheday': 2, 'hallway': 2, 'modern': 2, 'hun': 2, 'swear': 2, 'pal': 2, 'yadav': 2, 'hunting': 2, 'skiing': 2, 'flower': 2, '#racism': 2, 'hills': 2, '#storm': 2, 'walked': 2, 'path': 2, \":')\": 2, 'perspective': 2, 'comforting': 2, '#sometimes': 2, 'dentists': 2, 'fits': 2, '#syrian': 2, 'pointless': 2, 'hashtags': 2, '#depression': 2, 'natural': 2, 'anybody': 2, 'D:': 2, 'forced': 2, 'bell': 2, 'hooks': 2, 'nosebleeds': 2, '#facepalm': 2, 'succeed': 2, 'teenage': 2, 'culture': 2, 'ben': 2, 'spoke': 2, 'promo': 2, 'ruling': 2, '#pm': 2, 'impressive': 2, 'force': 2, 'champs': 2, '#banter': 2, '#harrypotter': 2, 'eastern': 2, 'delusion': 2, 'myth': 2, 'thei': 2, 'earning': 2, 'sweatshirt': 2, '#isis': 2, 'model': 2, 'pearl': 2, 'cyber': 2, 'mo': 2, '#awesome': 2, 'brains': 2, 'turns': 2, 'sausage': 2, 'grab': 2, 'affiliate': 2, '#daughter': 2, '#theinterview': 2, 'gun': 2, 'funniest': 2, 'department': 2, 'moved': 2, 'technically': 2, 'hoping': 2, 'towed': 2, 'signed': 2, 'bowling': 2, '#ff': 2, 'collecting': 2, 'zuckerberg': 2, 'wears': 2, 'universe': 2, '#tmltalk': 2, '#leafs': 2, 'balanced': 2, 'beyond': 2, '#gosupersonicquikr': 2, 'boone': 2, 'pratt': 2, 'evolution': 2, 'tesco': 2, 'gears': 2, 'impressed': 2, 'marxist': 2, 'gown': 2, 'sauce': 2, '#again': 2, 'funky': 2, 'stoked': 2, 'ni': 2, 'cookies': 2, 'image': 2, '#boy': 2, '#ok': 2, 'finished': 2, '#things': 2, 'stick': 2, 'fave': 2, 'diet': 2, 'ebola': 2, 'thousands': 2, 'hunger': 2, 'catching': 2, 'rhoa': 2, 'drama': 2, '#sad': 2, \"elf's\": 2, 'biting': 2, 'convo': 2, '#deep': 2, 'neighbors': 2, 'incident': 2, 'according': 2, '#wifeyseries': 2, '#covermodels': 2, 'connecting': 2, 'flights': 2, 'gasp': 2, 'conservative': 2, 'meanwhile': 2, 'julia': 2, 'african': 2, 'tee': 2, 'tech': 2, 'magical': 2, 'serious': 2, 'interest': 2, 'iv': 2, 'onto': 2, 'po': 2, 'demand': 2, 'acc': 2, 'avoid': 2, 'upon': 2, 'bribed': 2, \"they've\": 2, 'amendment': 2, 'furious': 2, 'posts': 2, 'relaxing': 2, 'gunned': 2, 'nobel': 2, '#education': 2, 'weed': 2, 'scotland': 2, 'grin': 2, '#legend': 2, 'yoga': 2, '#great': 2, 'peachy': 2, 'warm': 2, 'cavs': 2, '#nba': 2, 'farting': 2, 'master': 2, 'mccoist': 2, 'forgotten': 2, 'rude': 2, 'anywhere': 2, 'kept': 2, 'actual': 2, 'firewall': 2, '#down': 2, 'password': 2, 'freak': 2, 'military': 2, 'faved': 2, 'relevance': 2, 'decades': 2, \"husband's\": 2, 'tamir': 2, 'memorial': 2, 'innovation': 2, 'basic': 2, 'comments': 2, '#lovehim': 2, 'fate': 2, 'linked': 2, 'collective': 2, 'abusers': 2, 'curse': 2, 'whom': 2, 'mental': 2, 'doomed': 2, 'replies': 2, 'signing': 2, 'touching': 2, 'kinds': 2, 'designs': 2, '#found': 2, '#billcosby': 2, 'yelled': 2, '#someone': 2, 'mike': 2, 'bb': 2, '#gosupersonic': 2, '#canada': 2, 'comment': 2, 'data': 2, 'appeal': 2, 'polar': 2, 'diesel': 2, 'idiots': 2, 'educate': 2, 'bored': 2, \"po's\": 2, 'mls': 2, 'maldives': 2, 'shots': 2, 'ages': 2, 'process': 2, 'personality': 2, 'mario': 2, 'industrial': 2, 'revolution': 2, 'content': 2, 'bear': 2, '#hungry': 2, '#people': 2, 'champions': 2, 'cuban': 2, 'spies': 2, 'release': 2, '#daesh': 2, 'understanding': 2, 'deff': 2, '#stfu': 2, 'gain': 2, 'jones': 2, 'planning': 2, 'wifey': 2, 'responsibility': 2, 'respond': 2, 'hahahah': 2, '#lfc': 2, '#happymonday': 2, '#sydney': 2, '#wet': 2, 'responded': 2, 'lifestyle': 2, '#iran': 2, 'extremist': 2, 'hmm': 2, 'workout': 2, 'jiggle': 2, 'unreal': 2, 'author': 2, 'noodles': 2, 'playoffs': 2, 'vaguely': 2, 'sessions': 2, 'expect': 2, 'felt': 2, 'max': 2, 'squat': 2, '#floor': 2, 'tries': 2, 'packing': 2, 'factory': 2, 'explaining': 2, 'build': 2, 'hahahahaha': 2, 'lawyer': 2, 'suffer': 2, 'considerate': 2, 'healthier': 2, 'infront': 2, 'audi': 2, 'leafs': 2, 'nigerian': 2, 'policies': 2, 'delhi': 2, 'advanced': 2, '#stupid': 2, 'instructor': 2, 'ga': 2, 'vehicle': 2, 'near': 2, 'emitted': 2, '#abuse': 2, 'rts': 2, 'mvp': 2, 'comcast': 2, 'hypocrisy': 2, 'economic': 2, 'throw': 2, 'dr': 2, 'badge': 2, 'canada': 2, 'pint': 2, 'dram': 2, '#drink': 2, '#tipsy': 2, 'vibes': 2, 'masses': 2, 'presentation': 2, '#beauty': 2, 'blown': 2, 'dancer': 2, 'kindness': 2, 'elf': 2, 'badly': 2, 'naughty': 2, 'prove': 2, 'complete': 2, 'rehearsal': 2, '🐸': 2, 'competing': 2, '#comedy': 2, 'digital': 2, '#king': 2, 'ap': 2, 'optional': 2, 'sayers': 2, 'penn': 2, '#save': 2, 'celebrate': 2, 'sharks': 2, '#bye': 2, 'graham': 2, 'thomas': 2, \"man's\": 2, 'turning': 2, 'tl': 2, 'somerholic': 2, '#artist': 2, 'michael': 2, 'cuoco': 2, 'sweeting': 2, '#feminist': 2, 'discards': 2, 'delayed': 2, 'alive': 2, 'napping': 2, 'belgian': 2, '#pakvnz': 2, 'follower': 2, 'aap': 2, 'proven': 2, 'ear': 2, '#mud': 2, 'civil': 2, 'gambling': 2, 'rarely': 2, 'promote': 2, 'suicide': 2, '#pissed': 2, 'gop': 2, 'worthy': 2, 'grade': 2, 'nooo': 2, 'controlled': 2, 'dominant': 2, 'dj': 2, 'status': 2, 'offices': 2, 'options': 2, 'designer': 2, 'york': 2, '#oldschool': 2, 'finale': 2, 'bubble': 2, 'pace': 2, 'species': 2, 'sucked': 2, 'urgent': 2, '#shots': 2, 'sample': 2, 'ceo': 2, 'degree': 2, '#wrong': 2, 'betting': 2, 'priory': 2, 'contract': 2, '#respect': 2, 'grinch': 2, 'cubs': 2, 'fraud': 2, 'chose': 2, 'magic': 2, ');': 2, 'gulping': 2, '#haha': 2, 'doyle': 2, '#cpfc': 2, 'shape': 2, 'sink': 2, 'bin': 2, 'peyton': 2, 'contact': 2, 'bath': 2, 'began': 2, 'mountains': 2, 'batteries': 2, 'track': 2, '#nasty': 2, 'freaking': 2, 'cali': 2, 'millionaire': 2, 'birds': 2, 'civilians': 2, 'accountable': 2, 'cameras': 2, 'rip': 2, 'eric': 2, 'stars': 2, '#charity': 2, 'headphones': 2, 'voter': 2, 'brightest': 2, 'montana': 2, 'humor': 2, 'modi': 2, 'un': 2, '#change': 2, 'energy': 2, '#quotes': 2, 'accessory': 2, 'carry': 2, 'hv': 2, 'ribbon': 2, '#indonesia': 2, '#airasia': 2, 'cropped': 2, '#ak4delhi': 2, 'odds': 2, 'keys': 2, 'shite': 2, 'allah': 2, 'cube': 2, 'european': 2, '#cameronmustgo': 2, 'hammering': 2, 'steelers': 2, 'juicy': 2, 'viewed': 2, 'victim': 2, 'scarf': 2, '#amazing': 2, 'distracted': 2, '#moment': 2, 'fuckin': 2, 'offensive': 2, 'defend': 2, 'pages': 2, 'effective': 2, 'strictly': 2, '#spam': 2, 'firehouse': 2, 'retweeted': 2, '#want': 2, '#meet': 2, 'candidates': 2, 'apply': 2, 'blackboard': 2, 'fallen': 2, 'dangerous': 2, 'learning': 2, 'seasons': 2, 'seconds': 2, '#startrek': 2, 'affordable': 2, 'sunrise': 2, '#edm': 2, 'facial': 2, 'rat': 2, 'booked': 2, 'ikr': 2, 'wheel': 2, 'ipa': 2, 'importance': 2, 'regular': 2, 'irons': 2, 'filmmaker': 2, 'pls': 2, 'cinema': 2, 'smells': 2, '#man': 2, 'loads': 2, '#dataviz': 2, 'pretend': 2, 'bikes': 2, 'constitution': 2, 'actions': 2, 'involved': 2, 'drawing': 2, 'cell': 2, 'europe': 2, 'perfume': 2, 'prediction': 2, 'ruble': 2, 'commute': 2, 'global': 2, 'personally': 2, 'johnson': 2, 'spoiled': 2, 'tit': 2, 'lied': 2, 'northern': 2, 'fruit': 2, 'ministry': 2, 'affairs': 2, 'corrupt': 2, '#relationships': 2, 'bothered': 2, 'executive': 2, 'privacy': 2, 'web': 2, 'ironic': 2, '#getenchanted': 2, 'teammate': 2, 'researchers': 2, 'outs': 2, '👑': 2, 'throat': 2, 'welp': 2, '#soundcloud': 2, '#atl': 2, 'mansion': 2, 'bashing': 2, 'batting': 2, 'ads': 2, '#onetreehill': 2, 'howie': 2, 'tied': 2, 'bum': 2, 'stays': 2, 'howling': 2, 'geico': 2, 'tights': 2, 'cricket': 2, 'twins': 2, 'lace': 2, 'shorts': 2, \"mcdonald's\": 2, 'babe': 2, 'huh': 2, '#winter': 2, 'laptop': 2, 'blow': 2, 'clip': 2, '#cfbplayoff': 2, 'slopes': 2, 'cheer': 2, 'smartphone': 2, '#redskins': 2, 'btw': 2, 'justin': 2, 'copy': 2, '#then': 2, 'corps': 2, 'arts': 2, 'growing': 2, 'nurtured': 2, 'trestman': 2, 'extremely': 2, 'wonders': 2, 'polling': 2, 'higher': 2, 'presidential': 2, 'russia': 2, 'jury': 2, 'davis': 2, 'measures': 2, 'reporting': 2, 'ffs': 2, '#justinbeiber': 2, 'sipping': 2, 'below': 2, 'belt': 2, 'santana': 2, 'lineup': 2, 'century': 2, 'events': 2, 'cunts': 2, 'disgusting': 2, 'pre': 2, 'ring': 2, '#as': 2, 'jd': 2, 'indoctrination': 2, 'choke': 2, 'westbrook': 2, 'iceland': 2, 'sofa': 2, 'tht': 2, 'unlimited': 2, 'language': 2, 'attacking': 2, 'managing': 2, '📚': 2, '👯': 2, 'noticed': 2, 'woods': 2, '#with': 2, '#goodgrief': 2, 'cheap': 2, 'managers': 2, 'willing': 2, 'disaster': 2, 'sooner': 2, '#repost': 2, '🔜': 2, 'fed': 2, '#tea': 2, '#goodnight': 2, 'sub': 2, 'bomb': 2, 'applaud': 2, 'develop': 2, '):': 2, '#sleep': 2, 'imaginary': 2, 'menagerie': 2, '#security': 2, 'cheat': 2, 'opened': 2, 'feat': 2, 'probs': 2, 'cups': 2, 'advertising': 2, 'nighter': 2, 'nearly': 2, 'recommendations': 2, '°': 2, 'fever': 2, 'possibly': 2, '#sagittarius': 2, 'projects': 2, 'parts': 2, '#happynewyear': 2, 'sue': 2, 'ice': 2, 'charlie': 2, '#bestdayever': 2, 'hump': 2, 'watches': 2, 'band': 2, 'myfairdaily': 2, 'tosh': 2, 'theme': 2, 'articles': 2, 'stitch': 2, 'pushes': 2, '🍻': 2, '#pick': 2, 'killers': 2, 'rogue': 2, 'uva': 2, 'february': 2, 'fiber': 2, 'quick': 2, 'assignments': 2, 'imagined': 2, '#mylove': 2, 'center': 2, 'choice': 2, 'steps': 2, 'independence': 2, '#been': 2, 'praying': 2, '#bones': 2, 'sayng': 2, 'adult': 2, 'pursue': 2, 'budgie': 2, 'movements': 2, 'religions': 2, 'motivational': 2, 'anime': 2, 'tx': 2, 'shitty': 2, 'boegarts': 2, 'ny': 2, 'qualified': 2, 'represent': 2, 'sanity': 2, 'claim': 2, 'fell': 2, '#bestfriends': 2, 'classroom': 2, '#eccentric': 2, '#opinion': 2, 'shower': 2, 'winston': 2, 'genius': 2, 'electorate': 2, 'regarding': 2, 'hilarious': 2, '#lifegoals': 2, '#merrychristmas': 2, 'accurate': 2, 'carding': 2, 'casual': 2, 'ab': 2, 'acid': 2, 'roman': 2, 'quickly': 2, 'notification': 2, 'pittsburgh': 2, 'todd': 2, 'latter': 2, '#because': 2, 'adjourned': 2, 'romance': 2, 'cleaner': 2, '}': 2, 'destruction': 2, 'khan': 2, 'excuses': 2, 'fawad': 2, 'diane': 2, '#united': 2, '#trolls': 2, 'vocal': 2, 'confused': 2, 'controversy': 2, 'stole': 2, 'oxford': 2, 'cv': 2, 'freakin': 2, '#zzz': 2, 'accounting': 2, '#getting': 2, 'knicks': 2, 'singapore': 2, 'easiest': 2, '#after': 2, 'snapchat': 2, 'lately': 2, 'bulldog': 2, 'profound': 2, 'bang': 2, 'seeking': 2, 'waah': 2, 'sane': 2, 'choo': 2, '#imagine': 1, '#noreligion': 1, 'rumored': 1, \"erv's\": 1, 'angels': 1, 'escobar': 1, 'nd': 1, 'episodes': 1, 'yale': 1, 'librarian': 1, 'footie': 1, 'pajamas': 1, 'knocked': 1, 'rice': 1, 'scrolling': 1, 'accomplishing': 1, 'warmth': 1, 'suffuse': 1, 'cheeks': 1, 'colour': 1, 'underlying': 1, 'texture': 1, 'arrives': 1, 'crushes': 1, 'harrington': 1, 'busgaglia': 1, 'pounds': 1, '#eating': 1, '#workingout': 1, 'bastard': 1, 'wand': 1, 'embarrassment': 1, 'desperatly': 1, 'beyonce': 1, 'lacked': 1, 'depth': 1, 'flwthemusic': 1, '#elektrikbloom': 1, '#elektrikfantasy': 1, '#iwant2drift': 1, '#elev8theunderground': 1, 'owned': 1, '#bhp': 1, 'shell': 1, '#bhpbilliton': 1, '#south32': 1, '#nicolescherzinger': 1, '#onelove': 1, '#myqueen': 1, 'june': 1, '#rivertrip': 1, '#groupchat': 1, 'halal': 1, 'muslim': 1, 'somehow': 1, 'tip': 1, 'screwed': 1, 'royally': 1, '#nicejob': 1, '#lestertochicago': 1, '#gunman': 1, '#watch': 1, '#list': 1, 'sprig': 1, 'platform': 1, '#techtalk': 1, '#editorspick': 1, '#sillyvine': 1, '#tr': 1, 'achieve': 1, 'fired.all': 1, '#truefriend': 1, '#laughnow': 1, 'katie': 1, 'hopkins': 1, 'bully': 1, '#productivity': 1, '👭': 1, '#talks': 1, '#crazyness': 1, 'naturopaths': 1, 'aromatic': 1, 'herbs': 1, 'apothecaries': 1, 'noxious': 1, 'poisons': 1, '#naturopath': 1, '#apothecary': 1, '#herb': 1, '#poison': 1, 'sammels': 1, '#arsenal': 1, '#manutd': 1, '#studing': 1, '#university': 1, '#lazy': 1, '#fantasticfriday': 1, '#summeramount14': 1, '#kennychesney': 1, '#monsanto': 1, 'parameters': 1, 'measured': 1, 'disruptive': 1, 'innovations': 1, 'brainstorming': 1, 'nussbaum': 1, 'disabilities': 1, 'stare': 1, '#idpwd': 1, '#disability': 1, 'girly': 1, 'tool': 1, '#quintessential': 1, 'hyde': 1, 'overseas': 1, 'gst': 1, '#sadbuttrue': 1, \"dirk's\": 1, 'moves': 1, 'legged': 1, 'fadeway': 1, 'nutty': 1, 'marmalade': 1, '#livingontheedge': 1, 'rogers': 1, 'accurately': 1, 'guano': 1, 'apes': 1, 'dinero': 1, 'mile': 1, '#fan': 1, 'humility': 1, 'vanity': 1, 'delicate': 1, '#secondsemester': 1, '#drumcorps': 1, 'shortly': 1, '#cronuts': 1, '#praisehim': 1, 'heyy': 1, 'rockstar': 1, '#vsocam': 1, '#hero': 1, '#spiderman': 1, 'awk': 1, '#fakefan': 1, 'waa': 1, 'mockingjay': 1, 'tahon': 1, 'depan': 1, 'nov': 1, 'wtvr': 1, 'museum': 1, '#mustwatchb4decemberendssobssobs': 1, 'mps': 1, '#justkidding': 1, '#stressed': 1, 'copycat': 1, 'although': 1, 'mint': 1, '#thestartoftechweek': 1, '#justshootmeknow': 1, 'disagree': 1, 'glaring': 1, 'positions': 1, 'backwards': 1, 'tudors': 1, '#iloveit': 1, 'knw': 1, 'everytime': 1, 'sum': 1, 'wheelchair': 1, 'inspires': 1, 'aht': 1, 'tahn': 1, 'pgh': 1, '#trains': 1, '#thegrind': 1, '#london': 1, '#myhappyface': 1, 'cheddars': 1, 'ritual': 1, '#howthegrinchstolechristmas': 1, 'overcast': 1, 'creso': 1, '#beachwalk': 1, '#crescenthead': 1, '#needmorecoffee': 1, 'operators': 1, 'christian': 1, 'youth': 1, 'default': 1, 'nomal': 1, '#areyoukiddingme': 1, '#psa': 1, 'jay': 1, 'coke': 1, \"escobar's\": 1, 'interviewed': 1, '#gotinterupted': 1, '2v4': 1, 'matches': 1, 'sweatpants': 1, 'midnight': 1, 'lolll': 1, 'jusuf': 1, 'nurkic': 1, '#bulls': 1, 'denver': 1, 'gary': 1, 'harris': 1, 'mcdermott': 1, 'preparations': 1, 'reeeaaalll': 1, '#imgoingtostruggle': 1, '#vsfs2014': 1, 'motel': 1, '#zing': 1, '#guardiansofthegalaxy': 1, 'chestnuts': 1, 'franchise': 1, 'marshmallow': 1, '#getthisoutofmyhead': 1, 'bike': 1, 'streets': 1, 'yaaay': 1, '#somuchfun': 1, 'plaza': 1, '#moneygall': 1, 'hahahahah': 1, 'carefully': 1, 'detailed': 1, 'asalamoalekum': 1, 'kesay': 1, 'mizaj': 1, 'artsy': 1, '#artsy': 1, '#homealone': 1, '#vienna': 1, '#studentlife': 1, \"e's\": 1, 'grunge': 1, '#momgoals': 1, 'inter': 1, 'calciopoli': 1, 'juventus': 1, '#libby': 1, '#lane': 1, '#appointment': 1, '#bishops': 1, '#debate': 1, 'reverend': 1, 'structure': 1, 'ensures': 1, 'invest': 1, 'estate': 1, 'afghan': 1, '#lame': 1, '#reality': 1, '#mobilecover': 1, 'sgv': 1, 'ot': 1, '#balance': 1, 'msm': 1, 'smear': 1, 'barkley': 1, 'agbaje': 1, 'landmark': 1, 'tested': 1, '#whitewine': 1, '#christmastrees': 1, '#chardsohard': 1, 'cleaned': 1, 'lived': 1, 'claimed': 1, 'russian': 1, 'shoutout': 1, 'flags': 1, 'ch': 1, 'nisar': 1, '#analscreen': 1, '#exotic': 1, 'brunette': 1, 'desk': 1, 'fighters': 1, 'seas': 1, 'fishing': 1, 'boat': 1, 'allegedly': 1, '#hell': 1, 'strip': 1, 'joint': 1, 'format': 1, '#truegentlemen': 1, 'consistency': 1, '#welcometotheworld': 1, '#neverarguewithfools': 1, 'sequel': 1, '#reboot': 1, '#chrispratt': 1, 'blues.enough.vacation.days': 1, 'continues': 1, 'gloucestershire': 1, 'patrols': 1, 'triggered': 1, 'trapping': 1, 'fears': 1, 'olds': 1, 'parks': 1, 'auntie': 1, 'bedtimes': 1, '#examproblems': 1, 'nerd': 1, '#piccollage': 1, 'georgia': 1, '#nerd': 1, '#chistmas': 1, '#sillybilly': 1, 'comfy': 1, 'bestfriend': 1, '🌏': 1, 'traveled': 1, 'label': 1, 'unkind': 1, '#stubborn': 1, 'cutest': 1, 'jeans': 1, '#bigbootybitches': 1, 'fortunate': 1, '#heyyall': 1, 'context': 1, 'bait': 1, 'insanity': 1, 'hotshot': 1, '#isthatajoke': 1, 'contemplating': 1, 'responding': 1, 'signal': 1, 'failures': 1, 'editing': 1, 'micromax': 1, 'promising': 1, 'pleasure': 1, '#dream': 1, '#strong': 1, 'adrian': 1, 'nfl': 1, 'toes': 1, 'counted': 1, 'exclaimed': 1, 'lizard': 1, '#psn': 1, '#giveitup': 1, 'cycling': 1, 'accompanied': 1, 'recommendation': 1, 'handbag': 1, 'costing': 1, 'dominate': 1, '#steak': 1, '#foodie': 1, 'dealer': 1, 'smoked': 1, 'aspirin': 1, '#qz8501': 1, 'permission': 1, '#takeoff': 1, '#towercontrol': 1, '#surubaya': 1, 'artists': 1, '#winsunburnpasses': 1, 'provinces': 1, 'mississippi': 1, 'celebrated': 1, '#stoleem': 1, '#thereasonfortheseason': 1, 'carrier': 1, '#michiganman': 1, 'bodies': 1, 'bk': 1, 'ambulanced': 1, 'elitism': 1, 'finest': 1, 'pssst': 1, 'spelt': 1, 'sabbath': 1, '#christ': 1, '#fbc': 1, '#fbcjax': 1, '#kitsch': 1, 'costa': 1, 'teguise': 1, 'lanzarote': 1, 'exclude': 1, 'poll': 1, 'riot': 1, 'seine': 1, 'crossing': 1, 'shifts': 1, 'pulling': 1, '#pmlive': 1, '#balvsmia': 1, '#seavsphi': 1, '#saints': 1, 'liking': 1, 'insane': 1, '#fergusonriottips': 1, '#vitoandvito': 1, '#waarmedia': 1, '#ycot': 1, 'lavashak': 1, 'receives': 1, 'signatures': 1, 'opposing': 1, 'ttip': 1, 'ceta': 1, '#young': 1, '#hearts': 1, '#phillipjoelhughes': 1, 'naples': 1, 'emma': 1, '🌴': 1, '#soeasytotakeapicwithatoddler': 1, '#19wksandcounting': 1, '#bigclub': 1, 'toward': 1, \"macy's\": 1, 'proceedings': 1, 'allowing': 1, 'prisoners': 1, 'wales': 1, 'confirms': 1, 'judicial': 1, 'outdated': 1, 'unsightly': 1, 'siphoning': 1, 'directly': 1, 'supremacy': 1, 'reasoned': 1, 'tootin': 1, 'horn': 1, '#winterthought': 1, 'cc': 1, \"wayne's\": 1, 'karma': 1, '#homebasedbusiness': 1, 'oracle': 1, '#trill': 1, 'offically': 1, 'cntrl': 1, 'alt': 1, 'deleting': 1, 'andy': 1, '#loved': 1, 'masseuses': 1, 'soothing': 1, 'massages': 1, 'reviewers': 1, 'stinging': 1, 'criticisms': 1, '#masseuse': 1, '#reviewer': 1, '#massage': 1, '#criticism': 1, 'apc': 1, '#run': 1, 'intellectuals': 1, 'dictatorship': 1, 'boomer': 1, 'oi': 1, 'functioning': 1, '#sleepdeprived': 1, 'pti': 1, 'whining': 1, '#youthiacrasy': 1, 'solo': 1, 'costume': 1, 'charcoal': 1, 'bottoms': 1, 'soldiers': 1, '#military': 1, '#keepyourpromise': 1, 'noise': 1, 'winee': 1, '#ptikeptpakfirst': 1, 'snapped': 1, 'screamed': 1, 'newborn': 1, '#succes': 1, '#about': 1, 'junior': 1, 'atheist': 1, '#atheistproblems': 1, '#serverproblems': 1, '#casual': 1, '#funday': 1, '#allyouneedisstyle': 1, '#todayimwearing': 1, 'problematic': 1, \"what've\": 1, 'ahh': 1, 'electric': 1, 'stupidest': 1, 'memes': 1, 'perpetuated': 1, 'retrica': 1, 'wali': 1, 'complains': 1, 'filters': 1, '#miserable': 1, 'jeez': 1, '💨': 1, '#ireland': 1, 'smelly': 1, '#dr': 1, 'dabo': 1, 'mph': 1, '#smellya': 1, 'gelding': 1, 'dystocia': 1, '#whenyouseeit': 1, 'harassing': 1, 'spamming': 1, 'flying': 1, 'kl': 1, '#everyonecanfly': 1, '#adelaideroutecancelled': 1, '#they': 1, 'reck': 1, '#pdp': 1, 'clans': 1, 'ahaha': 1, 'restaurants': 1, '#wifi': 1, 'typing': 1, '#drive': 1, 'unbelievable': 1, 'thug': 1, 'uphill': 1, 'battle': 1, '#murders': 1, 'inspired': 1, 'dunk': 1, '#rudygay': 1, '#hardest': 1, \"thing's\": 1, '#knowing': 1, '#having': 1, '#faith': 1, '#going': 1, 'jedi': 1, 'tricks': 1, 'wealth': 1, 'influence': 1, 'pleased': 1, 'addressed': 1, 'asltd': 1, 'sumtin': 1, 'grn': 1, 'vinyl': 1, 'turntable': 1, '#joestrummer': 1, '#sandinista': 1, 'sprints': 1, '#wreathacrossamerica': 1, '#jax': 1, 'finnished': 1, '#honor': 1, '#fallenheros': 1, 'jax': 1, 'nanas': 1, 'workhorse': 1, 'practically': 1, 'glued': 1, 'prevents': 1, 'clots': 1, 'stops': 1, 'circulation': 1, '#surgicalstockings': 1, '#attractive': 1, '#limbs': 1, 'sunderland': 1, 'garmin': 1, 'resets': 1, 'cinnamon': 1, '#slowclap': 1, 'pen': 1, 'messaging': 1, '#fulfilling': 1, 'johny': 1, 'weee': 1, 'playstation': 1, 'announced': 1, 'stake': 1, 'cap': 1, 'vc': 1, '#ugly': 1, '#sweater': 1, '#ebayipad': 1, 'psn': 1, 'paste': 1, 'sa': 1, 'mining': 1, 'consulting': 1, 'sliders': 1, 'dolly': 1, '#somadatbandhandadorama': 1, 'dayumm': 1, 'chtis': 1, 'maaayuun': 1, 'productivity': 1, 'hampered': 1, 'faithful': 1, 'dollars': 1, 'transparency': 1, 'pearson': 1, '#nfldraft': 1, 'bp': 1, 'dates': 1, 'satan': 1, '#strawman': 1, 'females': 1, '#holierthanthou': 1, '#henryisalegend': 1, 'cases': 1, 'co': 1, 'thngs': 1, 'joyous': 1, '#picture': 1, '#costateguise': 1, '#beach': 1, '#peace': 1, '#duration': 1, \"wr's\": 1, 'dime': 1, 'dozen': 1, 'replaceable': 1, 'overspend': 1, '#abe': 1, '#gets': 1, '#mandate': 1, '#wanted': 1, 'â': 1, '#recovery': 1, 'shinzo': 1, 'tampons': 1, 'nb': 1, \"power's\": 1, 'outages': 1, '#transmitterproblems': 1, '#algore': 1, '#ｆｏｌｌｏｗ': 1, '#sketch': 1, '#spudshed': 1, '#fresh': 1, '#fruit': 1, 'only.for.eating': 1, 'drawing.as.well': 1, '#perth': 1, 'national': 1, 'sussex': 1, 'shown': 1, '#zemirbegic': 1, 'squats': 1, 'deadlifts': 1, 'trainers': 1, '#fitnessmotivation': 1, '#thailand': 1, '#crown': 1, \"#prince's\": 1, '#resigns': 1, '#royalty': 1, 'infiniti': 1, 'gt': 1, 'emerge': 1, 'pooled': 1, 'foment': 1, 'maintain': 1, 'topless': 1, 'invade': 1, 'flossed': 1, '#inconvenient': 1, 'waited': 1, 'announcement': 1, 'sysdig': 1, 'fascinating': 1, 'linux': 1, 'solaris': 1, 'dtrace': 1, 'nails': 1, 'slacking': 1, 'approved': 1, 'replurks': 1, 'acatholicprayer': 1, 'sinner': 1, '#catholic': 1, '#prayer': 1, 'nova': 1, 'scotia': 1, '#frio': 1, '#freezing': 1, '#costadelsol': 1, '#ilovecanada': 1, '#chore': 1, '#instagram': 1, '#rolemode': 1, 'adapted': 1, 'snoopy': 1, 'reviewer': 1, 'nightmares': 1, 'voicemail': 1, 'meee': 1, \"georgia's\": 1, 'nativity': 1, 'sanjay': 1, 'dutt': 1, 'whereas': 1, 'wives': 1, 'noche': 1, 'buena': 1, 'vols': 1, 'bball': 1, '#volnation': 1, '#beatncstate': 1, 'spit': 1, '#contempt': 1, '#mockery': 1, 'upgrade': 1, 'ios': 1, 'relentlezz': 1, '::': 1, '#sickworld': 1, 'regret': 1, 'dats': 1, 'kno': 1, 'swic': 1, 'saudi': 1, 'arabia': 1, '#father': 1, 'latvia': 1, 'marvin': 1, 'lewis': 1, 'highly': 1, '#norespect': 1, 'draining': 1, '#somethingrandom': 1, 'smacking': 1, 'scowling': 1, 'screaming': 1, '☹': 1, 'misty': 1, 'mathis': 1, 'favourites': 1, 'bollywood': 1, 'bhootnaath': 1, '#middle': 1, '#east': 1, '#updates': 1, '#assad': 1, '#us': 1, '#airstrikes': 1, '#serious': 1, '#efficient': 1, 'neck': 1, '#chilly': 1, 'kiddies': 1, 'berkshires': 1, '#bosel1model2': 1, 'beckthies': 1, '#analqueenalysa': 1, 'strap': 1, '#youcanthearit': 1, '#stoptalking': 1, 'aluminum': 1, '#chemtrailsdontexist': 1, '#growup': 1, 'embrace': 1, 'crm': 1, 'investments': 1, 'shareholder': 1, '#betarocks15': 1, 'swansea': 1, 'canteen': 1, 'outdoing': 1, 'priced': 1, 'portion': 1, 'standards': 1, '#seen': 1, 'parados': 1, '#bean': 1, 'proposals': 1, 'freeway': 1, 'chipped': 1, 'windshield': 1, '#gonnahaveagoodday': 1, 'ceeebz': 1, 'dat': 1, 'ting': 1, 'swollen': 1, 'errors': 1, 'slightly': 1, 'harm': 1, 'teach': 1, 'weaker': 1, 'boost': 1, 'esteem': 1, 'snowman': 1, 'grandparents': 1, 'excites': 1, 'sheet': 1, 'tripped': 1, '#soclumsy': 1, 'redbull': 1, '#totallystillgoingtodrinktheredbull': 1, '#actuallyihopeso': 1, '#almajmoua': 1, 'participating': 1, '#csr': 1, 'forum': 1, '#togetherwegrow': 1, 'profit': 1, '#microfinance': 1, '#supporting': 1, 'yeovil': 1, 'fc': 1, 'fired': 1, 'mxit': 1, 'teen': 1, 'bud': 1, 'weisser': 1, 'arrested': 1, 'st': 1, 'louis': 1, 'length': 1, 'sanghi': 1, 'backyard': 1, 'electricity': 1, 'generated': 1, 'kashmir': 1, 'illuminate': 1, 'illuminating': 1, 'demanding': 1, 'spine': 1, '#thinkpositive': 1, '#mondaymorning': 1, 'asian': 1, 'suits': 1, 'stylish': 1, 'sharp': 1, '#liberalmentality': 1, 'jonah': 1, 'hart': 1, 'jim': 1, 'carrey': 1, 'sacha': 1, 'baron': 1, 'cohen': 1, '#arizona': 1, '#court': 1, '#appeals': 1, '#decides': 1, '#retry': 1, '#milke': 1, 'zoella': 1, 'fund': 1, 'nottingham': 1, 'embargo': 1, 'galliani': 1, 'discovered': 1, 'seedorf': 1, 'pippo': 1, 'protesters': 1, '#modeltownnotforgotten': 1, '#pat': 1, '#pti': 1, '#gonawazgo': 1, 'rope': 1, 'commando': 1, 'talented': 1, 'yayy': 1, '#globalartisthma': 1, 'flesh': 1, 'alley': 1, '#durationsarcasm': 1, '#thesun': 1, '#thingsthatarewrong': 1, 'medication': 1, 'ambien': 1, 'strider': 1, 'bliss': 1, '#riga': 1, '#self': 1, '#finnishgirl': 1, '#businesswoman': 1, 'pk': 1, 'riga': 1, 'jumper': 1, '#germany': 1, \"#ecb's\": 1, '#weidmann': 1, '#better': 1, '#than': 1, '#expected': 1, 'negotiated': 1, 'gtaa': 1, 'built': 1, 'pricing': 1, '#upx': 1, 'tix': 1, 'secrecy': 1, 'ivy': 1, '#lafire': 1, 'cries': 1, 'forcefully': 1, 'stopping': 1, 'useful': 1, 'algorithm': 1, 'substring': 1, 'fourier': 1, 'transform': 1, 'shakespeare': 1, '#shamiwitness': 1, '#tyneweirsunday': 1, 'decrying': 1, 'bosnian': 1, 'inciting': 1, 'torwards': 1, '#onelovefestival': 1, 'bookings': 1, 'includes': 1, 'mixers': 1, 'honeymoon': 1, '#hannity': 1, 'indoctrinated': 1, 'rigid': 1, 'timehop': 1, 'overworking': 1, 'rookie': 1, 'pitchers': 1, 'constitutional': 1, 'arbitrary': 1, 'couldnt': 1, 'inspiring': 1, 'playlist': 1, 'modere': 1, 'giveaway': 1, 'procrastination': 1, 'brendan': 1, \"fraser's\": 1, '#brendanfraserbirthdaybash': 1, 'pepper': 1, 'shaker': 1, 'replacer': 1, '#discounts': 1, '#vacations': 1, 'snake': 1, '#goodtv': 1, '#garbage': 1, 'highlighting': 1, 'differences': 1, 'administrations': 1, 'approach': 1, \"nat'l\": 1, '#bananabonanza': 1, 'noticing': 1, '#twittertime': 1, 'contracted': 1, 'outage': 1, 'toasting': 1, 'vacation': 1, 'inefficient': 1, 'condo': 1, 'neat': 1, 'belfast': 1, 'larry': 1, '#goals': 1, '#dont': 1, '#giveup': 1, '#should': 1, '#easy': 1, 'skdar': 1, 'unknowns': 1, 'kindergarten': 1, '#heisenberg': 1, 'uncertainty': 1, 'principle': 1, '#jurassicparkthelostworld': 1, '#jurassicworld': 1, '#breakingbad': 1, 'tulisa': 1, '#xfactor': 1, 'fredo': 1, 'degrassi': 1, 'malls': 1, 'seacret': 1, 'minerals': 1, \"it'll\": 1, '#coalition': 1, 'purpose': 1, '😶': 1, 'kohli': 1, 'guts': 1, 'scooby': 1, 'doo': 1, '#captaincourageous': 1, 'affect': 1, '#gome': 1, 'yayaayayayayay': 1, 'bff': 1, 'tipped': 1, 'gamergates': 1, '#latergram': 1, 'thegoldcoin': 1, '#gradschool': 1, '#basic': 1, 'gazilion': 1, '#java': 1, 'configuration': 1, '#alice': 1, 'alice': 1, 'dana': 1, 'tlw': 1, '3x05': 1, 'halfway': 1, 'workday': 1, 'wooo': 1, 'drown': 1, 'whiskey': 1, 'youve': 1, 'efficiency': 1, '#7dayservice': 1, '#prioritymail': 1, '#hahahaha': 1, 'secured': 1, 'cartels': 1, 'illegals': 1, 'cross': 1, 'fanshawe': 1, 'z': 1, 'butler': 1, 'morales': 1, 'cnn': 1, 'conceive': 1, '#expose': 1, '#fake': 1, '#exposed2014': 1, '#boycott': 1, '#sponsors': 1, '💘': 1, '🏀': 1, 'nail': 1, 'wraps': 1, '#nailwraps': 1, '#nailart': 1, 'welsh': 1, '#countonmother': 1, 'impart': 1, '#wordsofkindness': 1, 'employed': 1, '#nohelp': 1, '#terrible': 1, 'letting': 1, 'drywall': 1, '#italy': 1, '#cabinet': 1, '#approves': 1, '#first': 1, '#planks': 1, \"#renzi's\": 1, '#reform': 1, '#freespeechmovement': 1, 'critic': 1, 'abandoned': 1, 'conformist': 1, '#press': 1, 'joking': 1, '#dancemusic': 1, 'downloads': 1, '#nightclub': 1, 'criminals': 1, 'companies': 1, 'it.individuals': 1, 'locked': 1, 'fined': 1, 'upper': 1, 'deck': 1, 'midterm': 1, 'whiteboard': 1, \"friday's\": 1, 'requires': 1, 'briefs': 1, 'lil': 1, 'lust': 1, '#toomuch': 1, 'wheres': 1, 'brigade': 1, 'interstellar': 1, '#chills': 1, '#freakyfriday': 1, '#wild': 1, 'bulbiest': 1, '#2n1edition': 1, 'reckon': 1, 'jest': 1, 'mcdonalds': 1, 'cru': 1, '#champagneexcuses': 1, '«': 1, 'fort': 1, '#hacker': 1, '#hacked': 1, 'raiders': 1, 'fooling': 1, '#yaay': 1, '#trust': 1, 'mouths': 1, '#holder': 1, '#irs': 1, '#racebaiters': 1, 'railcard': 1, 'charges': 1, 'tamworth': 1, 'wada': 1, 'sailing': 1, '×': 1, '#rock': 1, '#punk': 1, '#vsco': 1, 'candlelit': 1, 'accordng': 1, 'lawyrs': 1, 'supportd': 1, 'differnt': 1, 'warranting': 1, 'indictment': 1, 'quitt.sorry': 1, 'answered': 1, '#anker': 1, 'portable': 1, 'charger': 1, 'lasted': 1, 'pasture': 1, 'crackhead': 1, 'sideways': 1, 'attract': 1, '#aintnobodygottimeforthat': 1, '#principalswag': 1, 'cthulhu': 1, 'autocorrect': 1, 'thoughtful': 1, 'snacks': 1, '#raising': 1, 'idgaf': 1, 'immature': 1, '#sonotclassy': 1, 'punt': 1, 'ostrich': 1, 'hiding': 1, 'plain': 1, '#michaelbeerens': 1, '#graffiti': 1, '#streetart': 1, 'cynical': 1, 'karna': 1, 'nm': 1, '#shotsfired': 1, '#american': 1, '#protesters': 1, '#racialprofiling': 1, '#sup': 1, '#talking': 1, '#alot': 1, '#thort': 1, '#sould': 1, '#schoolsystem': 1, '#textbook': 1, '#evolution': 1, '#tco': 1, 'sexed': 1, 'extrovert': 1, 'overly': 1, 'masculine': 1, 'demeanor': 1, 'bombarded': 1, '#immigration': 1, '#narrowminds': 1, '#stopwatchingthenews': 1, '#andstoppreachingoffyoutube': 1, 'supporter': 1, '#lawenforcement': 1, 'sheriff': 1, 'clarke': 1, 'theatrics': 1, 'sheeran': 1, 'smashing': 1, 'tunes': 1, 'catwalk': 1, 'ginger': 1, 'makin': 1, 'planner': 1, 'momma': 1, 'polly': 1, '#howaboutno': 1, '#nobodycares': 1, 'kielty': 1, 'radio': 1, \"num's\": 1, '#instacraze': 1, '#addiction': 1, '#ecb': 1, '#pondering': 1, '#act': 1, '#whether': 1, 'ecb': 1, 'pondering': 1, 'reuters': 1, 'wars': 1, 'invincible': 1, '#copycatsays': 1, 'zone': 1, '#soproud': 1, '#gpabdrivers': 1, '#whoisshe': 1, 'lolol': 1, 'waitlove': 1, '#tell': 1, '#much': 1, '#gonna': 1, '#beth': 1, '#twd': 1, '#bae': 1, '#walkingdead': 1, 'sweaty': 1, 'becomes': 1, 'athlete': 1, 'wassup': 1, '. ..': 1, 'kupotea': 1, 'nayo': 1, 'acha': 1, 'hizo': 1, '#notcool': 1, 'mea': 1, 'culpa': 1, 'straightgifted': 1, 'improved': 1, '#karmicthought': 1, '#wiseword': 1, 'maroon': 1, 'trees': 1, 'tub': 1, '#favthings': 1, 'si': 1, 'ms': 1, 'hehehe': 1, '#steveharvey': 1, 'worships': 1, 'ig': 1, 'bragging': 1, '#noonegivesafuck': 1, 'benedryl': 1, '#yippee': 1, 'quizfreak': 1, '#brummie': 1, 'pediatric': 1, 'rounds': 1, 'statin': 1, 'dyslipidemia': 1, 'platters': 1, 'desert': 1, 'ohio': 1, '#onwisconsin': 1, 'match': 1, '#ineednewboots': 1, '#boots': 1, 'siege': 1, 'tarmac': 1, 'humps': 1, 'brickwork': 1, 'disintegrates': 1, '🚀': 1, '#f2xmasparty': 1, '#chair': 1, '#comfy': 1, '#mind': 1, '#ikea': 1, '#decor': 1, '#stars': 1, 'cam': 1, 'newton': 1, 'byyer': 1, 'foolisha': 1, '👸': 1, '#godmother': 1, '#athenakairalyn': 1, '#baptism': 1, 'lapd': 1, '#law': 1, 'ordersvu': 1, 'rappers': 1, 'hyperventilating': 1, 'll': 1, 'icelands': 1, 'clicks': 1, 'unity': 1, 'impede': 1, 'socialists': 1, '#finalsweekgotmelike': 1, '#ewu': 1, 'trips': 1, 'viewers': 1, 'quip': 1, 'lrs': 1, 'tend': 1, 'split': 1, 'extending': 1, 'professors': 1, 'moustache': 1, 'uneven': 1, 'mohstash': 1, 'owe': 1, '#givingback': 1, 'basis': 1, '#lcsbeauty': 1, '#lblogger': 1, 'turnt': 1, 'ac': 1, 'leaked': 1, '#acvictory': 1, 'plane': 1, 'rides': 1, 'becoming': 1, 'cruise': 1, 'catholic': 1, 'priest': 1, 'rebonded': 1, 'reengaged': 1, '#soexcited': 1, 'goshen': 1, 'concert': 1, '🎻': 1, '#surprised': 1, 'hundred': 1, 'kejriwal': 1, 'politics': 1, 'sinking': 1, 'sps': 1, 'vt': 1, 'scuffles': 1, '#pakarmy': 1, 'maligned': 1, 'salute': 1, 'pakarmy': 1, '#hatewhenthingsdontworkright': 1, '#blackberry': 1, '#classic': 1, '#smartphone': 1, '#flzjingleball': 1, '#iheartradio': 1, 'tourism': 1, 'morning.my': 1, '#drambarish': 1, 'upcoming': 1, 'youkilis': 1, 'youk': 1, 'mound': 1, 'porcello': 1, 'scrap': 1, '#proudly': 1, '#nz': 1, 'diego': 1, 'dislocating': 1, 'shoulder': 1, 'socket': 1, '#christmasshopping': 1, '#sketchy': 1, '#dignity': 1, '#brotherskeeper': 1, '#whosonfirst': 1, '#shenanigans': 1, 'gah': 1, 'desperately': 1, 'hibernates': 1, '#fixit': 1, '#microsoft': 1, 'application': 1, '#miley': 1, '#cyrus': 1, '#influence': 1, 'schwarzenegger': 1, 'miley': 1, 'cyrus': 1, 'emotional': 1, \"o'clock\": 1, 'carnoustie': 1, '#soggybreeks': 1, '#landlord': 1, 'collects': 1, '#rent': 1, '#honeybees': 1, '#beehive': 1, '#bee': 1, '#honey': 1, '#italianbees': 1, '#servicewithasmile': 1, \"dm's\": 1, 'clearing': 1, 'koenig': 1, '#serialbrady': 1, '#babyboomer': 1, 'philosophize': 1, 'lacking': 1, '#generationy': 1, '#newwaytocommunicate': 1, '#dallas': 1, \"gov't\": 1, 'injures': 1, 'multiplier': 1, 'fear': 1, 'loathing': 1, 'las': 1, 'ukras': 1, '#ukraine': 1, 'aches': 1, 'relates': 1, 'madaka': 1, 'lolololol': 1, 'reigns': 1, 'lame': 1, 'superman': 1, 'spear': 1, '#nowlistening': 1, '#senses': 1, '#album': 1, '#let': 1, 'bec': 1, 'cudnt': 1, 'humid': 1, 'uggs': 1, 'bark': 1, 'pms': 1, 'ing': 1, '#scumbag': 1, '#repeatoffender': 1, '#onegameisnotenough': 1, 'leads': 1, '#dobetter': 1, 'hazy': 1, '#match': 1, '#verdict': 1, \"tottenham's\": 1, '#chelsea': 1, '#loss': 1, '#another': 1, '#dark': 1, 'kona': 1, 'grill': 1, 'sushi': 1, 'delish': 1, 'scrape': 1, '#lovehistory': 1, '#lovenonfiction': 1, '✅': 1, 'cosy': 1, 'redux': 1, 'californians': 1, 'drought': 1, 'voted': 1, 'bonds': 1, 'cover.climate': 1, 'dove': 1, 'wrapper': 1, 'mischievous': 1, 'extenuating': 1, 'external': 1, 'attribution': 1, '#psych': 1, 'bot': 1, 'banded': 1, '#karma': 1, 'hula': 1, 'revision': 1, 'glamour': 1, 'fandom': 1, 'topic': 1, 'flobeam': 1, 'mechs': 1, \"tyndall's\": 1, 'scorer': 1, 'shooter': 1, '#reliefcomedy': 1, '#excessivecomsumption': 1, 'rememberable': 1, '#lovemyrelationship': 1, 'crawling': 1, '#cletraffic': 1, 'creator': 1, 'asshole': 1, '#nooffense': 1, 'khallilah': 1, 'henriques': 1, 'nnn': 1, '#ignorant': 1, '#articulate': 1, 'minority': 1, 'plea': 1, 'bhopal': 1, 'aft': 1, 'cls': 1, 'burgerking': 1, 'anthem': 1, 'stainless': 1, 'mob': 1, '#iyon': 1, '#dancehall': 1, 'erdogan': 1, 'regards': 1, 'seneca': 1, 'fend': 1, 'tweetin': 1, 'newsvid': 1, 'beatsebt': 1, 'manic': 1, 'laughter': 1, 'casper': 1, '#thingsmichelleobamathinksareracist': 1, 'muhammad': 1, 'ali': 1, 'blasphemic': 1, 'offending': 1, \"jane's\": 1, 'residential': 1, '#curiosity': 1, 'marriage': 1, 'harms': 1, 'ontario': 1, 'um': 1, '#uva': 1, '#phillhughes': 1, 'vlogmas': 1, 'rexemoji': 1, 'gawd': 1, 'hometown': 1, 'aswell': 1, 'drove': 1, 'transit': 1, '#isntitironic': 1, '#donchathink': 1, '#imnotsure': 1, 'resect': 1, 'demarcus': 1, 'cousins': 1, 'uhhh': 1, '#am': 1, '#boring': 1, '#person': 1, 'jordan': 1, '😛': 1, 'hater': 1, 'considered': 1, 'inferioramounten': 1, 'becky': 1, 'nan': 1, '#feelingabandoned': 1, '#somepplhavetostudy': 1, 'intravenous': 1, '#xmasdo': 1, '#xmasparty': 1, 'scarred': 1, 'shutdown': 1, 'corrupted': 1, 'iphoto': 1, 'rebuild': 1, '#festivefattybumbum': 1, 'bloodcurdling': 1, 'avoided': 1, 'indy': 1, 'opportunities': 1, 'sustain': 1, '🐱': 1, '🐶': 1, 'rewarding': 1, 'reduced': 1, 'scores': 1, 'physics': 1, '#prelim': 1, 'leupagus': 1, 'itsxandy': 1, 'thefingerfuckingfemalefury': 1, 'sevenpoints': 1, '#jenny': 1, '#entity': 1, 'cestas': 1, '#nasa': 1, 'inches': 1, 'mars': 1, 'kms': 1, '#nasa_orion': 1, 'anw': 1, 'forgive': 1, 'promise': 1, '#fears': 1, '#female': 1, '#saudi': 1, '#activist': 1, '#detention': 1, '#driving': 1, '#car': 1, '#extended': 1, 'positively': 1, 'balmy': 1, '#rockos': 1, '#modern': 1, '#foreveradurationkid': 1, '#imnotthewallabyiusedtobe': 1, 'wilfully': 1, 'embraces': 1, 'authorities': 1, '#florida': 1, '#tarponsprings': 1, '#tampabay': 1, 'penalized': 1, 'ortiz': 1, 'units': 1, 'goodnight': 1, 'goodmorning': 1, 'naheed': 1, 'akhtar': 1, 'nayyara': 1, 'noor': 1, 'stash': 1, 'brad': 1, 'doghouse': 1, 'skywalker': 1, 'passport': 1, 'frivolous': 1, '#trademarks': 1, 'jamie': 1, \"tomorrow's\": 1, 'sked': 1, '#panamacity': 1, 'wecp': 1, '#kcvspit': 1, 'timep': 1, '#indvsdal': 1, 'wpgx': 1, '#atlvsno': 1, 'goodell': 1, 'raise': 1, '#goodellmustgo': 1, '#italktoomuchshit': 1, '#yourstillclockingmetho': 1, '#thatswhyyourgirlstillfollows': 1, '#lingaa': 1, '#shatru': 1, 'herb': 1, 'trend': 1, 'potheads': 1, 'contributing': 1, 'exo': 1, 'obssessed': 1, 'obssesed': 1, 'flocking': 1, 'tcu': 1, 'ou': 1, 'texas': 1, 'wvu': 1, 'manhandling': 1, 'letter': 1, 'binder': 1, 'peta': 1, '#idiots': 1, 'cid': 1, 'inward': 1, 'insides': 1, 'chopped': 1, 'tiny': 1, 'nintendo': 1, '#america': 1, '#continues': 1, 'astec': 1, 'inconsolable': 1, '#peacefull': 1, '#whyme': 1, 'dna': 1, 'iii': 1, 'infidelity': 1, '#gettingold': 1, 'cams': 1, 'palette': 1, '#dental': 1, 'biden': 1, 'democrat': 1, 'rule': 1, 'deceit': 1, 'triple': 1, 'threat': 1, 'denialcsgo': 1, '#nashuffle': 1, '#csgo': 1, 'romo': 1, '#authority': 1, '#abbas': 1, '#trades': 1, '#stalemate': 1, '#confrontation': 1, '#move': 1, 'thaku': 1, 'replying': 1, '#tmi': 1, '#imsorry': 1, '#chickfila': 1, 'damit': 1, 'fatima': 1, 'bhutto': 1, 'tribute': 1, 'elephant': 1, 'enjoing': 1, 'prevent': 1, 'pushkin': 1, 'fvckin': 1, 'arguments': 1, 'impacted': 1, 'tsi': 1, 'appearance': 1, 'tonsils': 1, '#lovinglife': 1, \"we'd\": 1, 'benefits': 1, '#itv': 1, 'addresses': 1, 'fainting': 1, 'jambo': 1, 'scottish': 1, 'identity': 1, 'emerging': 1, 'hmfc': 1, 'wilson': 1, 'govan': 1, 'quitter': 1, '#always': 1, '#winning': 1, '#humanity': 1, 'contrary': 1, 'injected': 1, 'consciousness': 1, '#nimble': 1, '#agile': 1, 'visits': 1, 'so.stoked': 1, 'xlt': 1, 'mulberry': 1, 'fl': 1, 'rolls': 1, 'royce': 1, 'envisioned': 1, 'mansory': 1, '#rollsroyce': 1, '#purple': 1, '#customcar': 1, 'overpriced': 1, '#cybermonday': 1, 'brutal': 1, '#worst': 1, '#weatherbomb': 1, 'ps': 1, 'finish': 1, 'financial': 1, 'formulas': 1, 'finance': 1, 'comprehensive': 1, 'netflix': 1, '#hellonwheels': 1, 'painting': 1, 'indicate': 1, 'renaming': 1, 'perry': 1, 'dictators': 1, '#sexy': 1, 'bam': 1, 'uofl': 1, 'policy': 1, 'sga': 1, '#ihateyou': 1, '#fistbump': 1, '#focus': 1, '#starve': 1, '#distractions': 1, '#werk': 1, '#createpath': 1, '#uplift': 1, 'rants': 1, 'judged': 1, 'buying': 1, 'poses': 1, 'weekly': 1, 'rack': 1, 'parker': 1, 'pisshead': 1, '#femalecondoms': 1, '#herpes': 1, '#curable': 1, '#managed': 1, 'destination': 1, 'population': 1, 'sites': 1, 'kyle': 1, 'hooah': 1, 'newish': 1, 'gti': 1, 'pie': 1, 'boilo': 1, 'increases': 1, 'antimicrobial': 1, 'peptides': 1, 'ostentatious': 1, 'showy': 1, 'impress': 1, 'queen': 1, 'sasmvt': 1, 'ulitin': 1, 'nalang': 1, 'ulit': 1, 'ang': 1, 'peat': 1, 'malawi': 1, 'joburg': 1, '#oth': 1, 'papers': 1, '#heavyamountsofsarcasm': 1, 'forge': 1, 'relocation': 1, 'joel': 1, 'olstein': 1, 'sermons': 1, '#tiredashell': 1, '#coffeecoffeecoffee': 1, '#morecoffee': 1, 'tlist': 1, 'inamorata': 1, 'inamorato': 1, 'marijuanas': 1, '#legalizeit': 1, '#merica': 1, \"australia's\": 1, 'nicki': 1, '#notjustwordpress': 1, 'yar': 1, 'smth': 1, 'hindsight': 1, 'mashkook': 1, '#eyeroll': 1, 'faint': 1, 'whippet': 1, 'gabby': 1, 'millie': 1, '#aintitfun': 1, 'sport': 1, 'famous': 1, '#hellbefiredinelevenmonths': 1, 'didnt': 1, 'bake': 1, 'mornin': 1, 'winnin': 1, 'banging': 1, 'bunged': 1, '#timetodecorate': 1, '#tistheseason': 1, 'bosses': 1, 'fairways': 1, 'greens': 1, 'rival': 1, 'coonty': 1, 'aff': 1, 'al': 1, 'ye': 1, 'oot': 1, 'workin': 1, 'accie': 1, '👳': 1, 'lifes': 1, 'craps': 1, '#72hoursofcrazy': 1, '#poweroffive': 1, 'shallow': 1, 'discriminating': 1, 'shadow': 1, 'shift': 1, 'pierce': 1, 'crumbs': 1, 'equally': 1, 'solitude': 1, 'festivity': 1, 'coloureds': 1, 'cape': 1, 'colourds': 1, '#jerseycity': 1, '#nj': 1, '#birthofawinner': 1, 'selfies': 1, '#turnovers': 1, '#orevsfsu': 1, \"arby's\": 1, 'smack': 1, 'stone': 1, 'rio': 1, 'ícias': 1, '#queensofthestoneage': 1, '#rockinrio': 1, '#bestroomieaward': 1, 'bub': 1, '#cartoon': 1, '#comics': 1, 'technical': 1, 'morelikes_app': 1, '#necklace': 1, '#running': 1, '#inlove': 1, '#iphoneonly': 1, '#igers': 1, '#sm': 1, 'shud': 1, 'gd': 1, 'kneel': 1, 'twinges': 1, 'sumtimes': 1, 'archers': 1, 'supple': 1, 'bows': 1, 'hoplites': 1, 'stiff': 1, 'spears': 1, '#archer': 1, '#hoplite': 1, '#bow': 1, '#spear': 1, 'soldado': 1, 'bangs': 1, 'hatrick': 1, \"tonight's\": 1, 'bonding': 1, 'marco': 1, 'polo': 1, 'nerf': 1, '#lovemyfam': 1, \"matter's\": 1, 'dropout': 1, 'offering': 1, 'graduate': 1, 'jawdropping': 1, 'buggering': 1, 'amazeballs': 1, 'infer': 1, 'besmirching': 1, '#raps': 1, '#draft': 1, '#gimmick': 1, 'crutches': 1, '#novel': 1, '#comfortzone': 1, '#nextlevel': 1, '#buzzkillington': 1, '#familyguy': 1, '#longnight': 1, '#longday': 1, 'scars': 1, 'wage': 1, 'recently': 1, '#givemeabrew': 1, '#ttc': 1, 'recount': 1, 'autobiography': 1, 'receiving': 1, 'automated': 1, 'babaybubblez': 1, 'aquabreeze': 1, 'disgustinghotels': 1, 'reader': 1, '#ps4': 1, 'mwahaha': 1, '⚡': 1, '#mondays': 1, '#athensbyrain': 1, '#ontheroad': 1, '#ontime': 1, '#sisters': 1, '#coolurstyle': 1, 'bipolar': 1, 'assuming': 1, 'shortstop': 1, 'phillies': 1, 'restored': 1, 'informative': 1, 'thus': 1, '#uniteblue': 1, 'covered': 1, 'insomnia': 1, 'aderol': 1, '#lebron': 1, '#james': 1, '#violence': 1, '#answer': 1, 'lebron': 1, 'guarantee': 1, '#cant': 1, '#help': 1, '#an': 1, '#asshole': 1, 'kabhi': 1, 'messier': 1, 'chai': 1, 'resting': 1, 'claybo': 1, 'dawson': 1, '#squadgoals': 1, 'sympathies': 1, 'rheumatoid': 1, 'arthritis': 1, 'flare': 1, 'scooping': 1, 'bunks': 1, 'calves': 1, 'repeat': 1, '#jarroddavis': 1, 'bruhh': 1, 'fdb': 1, 'veni': 1, 'vidi': 1, 'vici': 1, 'vine': 1, 'vi': 1, 'vencí': 1, '#studybreaks': 1, '#umdfinalsweek': 1, 'honking': 1, 'trace': 1, 'proudly': 1, '#needmoresleep': 1, '#patriots': 1, '#report': 1, '#card': 1, '#grades': 1, '#half': 1, 'sundays': 1, 'generally': 1, 'shindig': 1, 'disappointed': 1, 'unappreciated': 1, '#poulan': 1, '#chainsaw': 1, '#chain': 1, '#saws': 1, '#start': 1, '#starting': 1, '#wont': 1, 'ouch': 1, 'eight': 1, '#children': 1, '#killed': 1, '#reported': 1, '#mass': 1, '#stabbing': 1, '#butseriouslytheroadsarebad': 1, 'amped': 1, '#ibeendoingintegralssincethedurationgrade': 1, 'lamestream': 1, '#mediabias': 1, 'spoken': 1, 'jokingly': 1, 'assassination': 1, 'gals': 1, 'minions': 1, 'carrying': 1, 'basketball': 1, 'nye': 1, 'celebrations': 1, 'laiden': 1, 'thru': 1, 'hotdog': 1, '#goodjob': 1, 'teaches': 1, '#indias30': 1, '#rohtak': 1, 'orgabeh': 1, 'soulmate': 1, '#patience': 1, 'puked': 1, 'drafting': 1, 'ethic': 1, 'housekeeping': 1, 'grrr': 1, 'recall': 1, 'dalai': 1, 'lama': 1, 'commuters': 1, 'championships': 1, 'saban': 1, 'mocking': 1, 'spiritually': 1, 'precious': 1, 'courageous': 1, '#shameonyou': 1, 'farage': 1, 'genocide': 1, 'palestinians': 1, 'israelis': 1, 'nazi': 1, 'elope': 1, 'notes': 1, 'guitar': 1, '#pro': 1, 'morgan': 1, 'exudes': 1, 'jhb': 1, 'volleyball': 1, '#hobbit': 1, '#onelasttime': 1, '#cinema': 1, '#ov': 1, '#3d': 1, '#48hfr': 1, 'known': 1, '#ijustwannasleep': 1, 'responses': 1, '#friend': 1, 'shotgun': 1, 'clan': 1, 'imma': 1, 'sobs': 1, '#redeye': 1, 'thick': 1, 'cable': 1, '#berlin': 1, 'ia': 1, 'begining': 1, 'ignore': 1, 'abraham': 1, 'chaldea': 1, '#iwannagobacktobed': 1, 'narcissism': 1, '#centeroftheuniverse': 1, 'ery': 1, '#perksofbeingold': 1, 'comparing': 1, '#atlas': 1, 'buyers': 1, 'anyways': 1, 'flooded': 1, 'basements': 1, 'constables': 1, 'veer': 1, 'singh': 1, 'avnish': 1, 'ndtv': 1, 'sufficient': 1, 'tackle': 1, '#timezoneproblems': 1, 'avoiding': 1, '#sucksimissedyou': 1, 'acronym': 1, 'bright': 1, '#torontotrafficisfun': 1, '#it82duration': 1, '#size': 1, '#wedding': 1, 'central': 1, '#soorganised': 1, 'blót': 1, 'ullr': 1, 'withdrawals': 1, '#arrow': 1, 'wtfwasthat': 1, 'interrupt': 1, 'isabelle': 1, 'nicest': 1, 'texts': 1, '💔': 1, 'swag': 1, 'chocolates': 1, 'orders': 1, 'bunches': 1, 'halcyon': 1, '#4anyone': 1, '#clever': 1, \"showtime's\": 1, 'homeland': 1, 'joseph': 1, 'deficiency': 1, 'foxy': 1, '#waynesworld': 1, '#excellent': 1, 'touched': 1, '#fucktherain': 1, '#wherearemyhunters': 1, '#imgonnalooksocutetoday': 1, '#clouds': 1, '#seekshelter': 1, \"#frodo's\": 1, '#lotr': 1, '#lotro': 1, 'geek': 1, 'quota': 1, 'met': 1, '#thirdyearlife': 1, 'yara': 1, 'restless': 1, 'expects': 1, 'theater': 1, 'marquee': 1, 'rearranged': 1, '#nightauditadventures': 1, '#resortjobprobs': 1, '#everyday': 1, '#chezza': 1, '#andnotgetcaughtbymr': 1, 'forwards': 1, '#confused': 1, '#familyvacation': 1, 'sister': 1, '#shelovesitwhenisendthatmany': 1, 'lagopodous': 1, \"rabbit's\": 1, 'foot': 1, 'standard': 1, 'newsfeed': 1, 'diamonds': 1, '#original': 1, '#engaged': 1, '##to': 1, '#countries': 1, '#special': 1, '#dedication': 1, '#ma': 1, \"#you're\": 1, '#alone': 1, '#instalisten': 1, '#heart': 1, '#voice': 1, 'wanker': 1, '#stinks': 1, '#gobonastick': 1, '#dickheads': 1, 'faculty': 1, 'nicholls': 1, 'stinker': 1, '#ahhh': 1, '#cantwaitfortomorrow': 1, '#bitch': 1, '#bitchy': 1, '#badass': 1, '#laughing': 1, '#jokes': 1, '#funtime': 1, '#ecards': 1, '#amazingness': 1, 'iiii': 1, 'sentimental': 1, 'arsenal': 1, 'spelling': 1, 'judgment': 1, 'binds': 1, 'creativity': 1, 'versatile': 1, 'liquor': 1, 'criticize': 1, '#feminism': 1, '#uglygirlsclub': 1, '#fourthwave': 1, 'islam': 1, 'witness': 1, 'firsthand': 1, 'willful': 1, 'impact': 1, 'reacting': 1, 'joepa': 1, 'rebooted': 1, 'yey': 1, '#devops': 1, 'snapping': 1, 'predecessors': 1, 'obtaining': 1, '#missworld2014': 1, '#dirt': 1, '#virgin': 1, 'gstring': 1, 'acl': 1, 'tear': 1, 'vcac': 1, 'vcd': 1, \"vigilante's\": 1, '#delhirape': 1, 'pizzas': 1, 'dipped': 1, '#orings': 1, 'states': 1, '#central': 1, '#state': 1, '#misusing': 1, 'parliment': 1, '#gymfanatic': 1, 'sleigh': 1, 'ewe': 1, 'obscure': 1, '#stillgoingout': 1, 'storyline': 1, 'caroline': 1, 'forbes': 1, 'stefan': 1, '#coffee': 1, '#christmasbreak': 1, '#slabour': 1, '#blairmcdougal': 1, '#deputydug': 1, 'recon': 1, '#meltdown': 1, '#bettertogether': 1, \"mary's\": 1, 'bubbemeinseh': 1, 'incorrectly': 1, 'relaxed': 1, 'blaine': 1, 'hammer': 1, 'similar': 1, 'accordingly': 1, 'advise': 1, 'spared': 1, 'suspending': 1, 'reights': 1, 'baking': 1, 'bread': 1, 'glass': 1, 'leggings': 1, \"hadn't\": 1, 'guessed': 1, 'figures': 1, 'feared': 1, 'tank': 1, 'evening': 1, 'beating': 1, '#whereswinter': 1, '#detainee': 1, \"leader's\": 1, '#iraqi': 1, '#official': 1, 'baghdad': 1, 'iraqi': 1, 'testing': 1, 'whoops': 1, '#soz': 1, '#valueformoneynot': 1, 'expresses': 1, 'emphatic': 1, 'manner': 1, 'attributed': 1, 'menstrual': 1, 'mags': 1, '#pms': 1, 'persuasive': 1, '#kmyb19hr': 1, 'allergy': 1, 'skip': 1, 'erase': 1, '#putyourtoysaway': 1, '#badboyfriend': 1, 'disappear': 1, 'appeared': 1, '#humanbrain': 1, '#20durationeason': 1, '#20durationucks': 1, 'butty': 1, '#feelshit': 1, '#short': 1, '#nose': 1, '#tall': 1, '#toshort': 1, '#selfieee': 1, 'heartkiss': 1, 'homo': 1, 'loool': 1, 'corner': 1, 'homeschool': 1, 'clickbank': 1, 'wealthy': 1, '#holyschedule': 1, '#needanapp': 1, '0_0': 1, 'scratching': 1, '#deadbeatdads': 1, '#singlemom': 1, 'bengals': 1, 'sucking': 1, 'lists': 1, 'thread': 1, 'authoritative': 1, '#popcorn': 1, 'trainer': 1, 'dunckin': 1, 'fitness': 1, 'prick': 1, 'geelong': 1, 'mayor': 1, 'harding': 1, 'lambias': 1, '#ludicrousstory': 1, 'jersey': 1, 'stl.you': 1, 'striker': 1, 'cont': 1, 'park': 1, 'copies': 1, 'boris': 1, '#onlykidding': 1, '#corpsman': 1, 'motrin': 1, 'hydrated': 1, 'eliminated': 1, '#navy': 1, 'startonlinehere': 1, 'kev': 1, \"gurney's\": 1, 'blazing': 1, 'showers': 1, 'burning': 1, 'pits': 1, '#ifitsreal': 1, 'festive': 1, 'entertaining': 1, 'journalists': 1, '#entertaining': 1, '#factaboutdentist': 1, 'task': 1, 'shall': 1, '#none': 1, '#cleverclogs': 1, '#shld': 1, '#know': 1, '#nakhre': 1, 'wonderland': 1, 'inducing': 1, 'bacteria': 1, '#knicks': 1, 'carmelo': 1, '#thebullscanhavehim': 1, '#thesmiths': 1, '#ohwow': 1, '#instasize': 1, '#goodmood': 1, '#weirdpose': 1, 'thry': 1, 'televised': 1, 'directed': 1, 'devin': 1, 'gibson': 1, 'humungous': 1, 'hail': 1, '#ohbliss': 1, '#lowbudget': 1, '#smartmove': 1, '#idea': 1, '#butscheming': 1, 'doe': 1, '#comptroller': 1, '#citibike': 1, '#stations': 1, '#bikes': 1, '#being': 1, '#properly': 1, '#maintained': 1, 'citibike': 1, 'expand': 1, 'unfollow': 1, '#beforecoffee': 1, 'maternity': 1, '#itsacurse': 1, 'blackshirts': 1, 'lying': 1, 'opponents': 1, 'outright': 1, 'conf': 1, 'tms': 1, 'sandwich': 1, '#moving': 1, '#ever': 1, 'costco': 1, 'sock': 1, 'tiring': 1, 'selfiee': 1, '#freshh': 1, 'aftr': 1, 'unii': 1, 'fleek': 1, 'neopet': 1, 'oomf': 1, 'chowed': 1, \"mom's\": 1, '#exodusmovie': 1, '#flowers': 1, '#pretty': 1, '#painting': 1, '#nature': 1, '#lchs': 1, 'abroad': 1, '#imissmyboyfriend': 1, 'tara': 1, 'ella': 1, 'starbucks': 1, '#mytopgirls': 1, 'omni': 1, 'santry': 1, 'kapitana': 1, 'nagaaral': 1, 'kmi': 1, 'asdfghjkl': 1, 'huhuhu': 1, 'jerry': 1, 'heck': 1, '#pumpkin': 1, '#pumpkinspiced': 1, '#mad': 1, 'annnddd': 1, '#god': 1, 'choked': 1, '#delilyfe': 1, 'chaotic': 1, '#sexpest': 1, 'gentleman': 1, 'behalf': 1, '#jokles': 1, '#gotrealworktodo': 1, 'deutsch': 1, 'misogynistic': 1, 'toad': 1, 'bigot': 1, 'hike': 1, '🍕': 1, 'leaves': 1, 'hundreds': 1, 'offended': 1, 'refer': 1, 'derived': 1, 'doutzen': 1, 'cig': 1, 'noises': 1, 'cole': 1, '#musicalgenius': 1, '#innovation': 1, \"women's\": 1, 'sz': 1, 'reviewed': 1, 'dependant': 1, '#socialism': 1, '#unrealistic': 1, 'disturbing': 1, 'tickling': 1, '🍆': 1, '#philisinnocent': 1, 'hitting': 1, \"rumourisimadad's\": 1, 'barging': 1, '#video': 1, '#bulldogs': 1, '#meaningful': 1, '#dog': 1, '#dogs': 1, '#bulldog': 1, '#religion': 1, '#vlog': 1, 'alien': 1, 'deleted': 1, 'boom': 1, 'bridal': 1, '#jewels': 1, '#exciting': 1, 'range': 1, '#hand': 1, '#high': 1, 'jewellery': 1, '#bespoke': 1, '#custom': 1, 'rumor': 1, '#boohackers': 1, 'obsession': 1, 'diverted': 1, 'boiling': 1, 'practical': 1, 'sneaking': 1, '#hollywooddriveingolf': 1, '#universal': 1, '#citiwalk': 1, 'kiddos': 1, 'calculator': 1, 'drops': 1, 'attending': 1, 'latin': 1, '#truebro': 1, 'suspended': 1, 'consider': 1, 'credible': 1, 'caguas': 1, 'rusney': 1, 'castillo': 1, 'mammoth': 1, 'cora': 1, 'tumblr': 1, 'spoiling': 1, '#bofa': 1, '.  ...': 1, '#martinfreeman': 1, 'looong': 1, 'yolo': 1, 'slipping': 1, 'territory': 1, 'zimbabwe': 1, 'imposed': 1, 'promises': 1, 'stamp': 1, 'corruption': 1, 'funk': 1, 'footy': 1, 'trackies': 1, 'fluffy': 1, 'wrapped': 1, 'quilt': 1, 'sweating': 1, 'bean': 1, 'nuds': 1, 'ducking': 1, 'attractive': 1, 'bandage': 1, '#techsupport': 1, '💻': 1, '💾': 1, 'blanket': 1, 'statements': 1, 'taliban': 1, 'root': 1, 'talib': 1, '#deathtotaliban': 1, '#deathtoisis': 1, 'technology': 1, '#hsc2024': 1, '#marleyandme': 1, 'dodgers': 1, 'uploading': 1, 'depop': 1, '#lotsofdepopuploaded': 1, 'scares': 1, 'twolves': 1, 'jacked': 1, 'lockout': 1, 'okc': 1, \"rubio's\": 1, '#jealousy': 1, '#almostdone': 1, 'spew': 1, 'definite': 1, 'highlight': 1, \"israel's\": 1, 'renders': 1, 'antisemitic': 1, \"mate's\": 1, 'antisem': 1, 'reminding': 1, 'debt': 1, '#studentloans': 1, 'smashed': 1, 'samsung': 1, 'galaxy': 1, 'tantrum': 1, 'stocking': 1, 'villainous': 1, 'attempts': 1, 'lima': 1, '#auspol': 1, 'homes': 1, 'ladies': 1, 'cabinet': 1, 'supporters': 1, 'confirme': 1, 'fckn': 1, 'marty': 1, '#absolutefavs': 1, 'slinging': 1, 'insults': 1, '#malala': 1, '#ouch': 1, 'brownies': 1, 'bizarre': 1, 'b.e.a.utiful': 1, '#rain': 1, '#gales': 1, 'pot': 1, 'butter': 1, 'himalayan': 1, 'infused': 1, 'salts': 1, 'whadddup': 1, \"wat's\": 1, 'nikes': 1, 'waittng': 1, 'neva': 1, '#burst': 1, 'low': 1, 'buuut': 1, 'iteration': 1, 'prototyping': 1, 'production': 1, 'antagonize': 1, '#cavs': 1, '#cavaliers': 1, 'quicken': 1, 'loans': 1, 'arena': 1, 'toronto': 1, \"girlfriend's\": 1, 'chenua': 1, 'achebe': 1, '🇫🇴': 1, '🇱🇱': 1, '🇴🇼': 1, 'thisstraight': 1, '#niceone': 1, 'prezzy': 1, '#busybee': 1, '#films': 1, 'freer': 1, 'bethlehem': 1, 'arab': 1, 'covering': 1, '#nephew': 1, 'pollute': 1, 'filthy': 1, '#getscared': 1, 'updated': 1, 'basant': 1, 'rai': 1, 'hunny': 1, 'entitled': 1, 'layered': 1, 'pipe': 1, 'necklace': 1, '#actuallysorry': 1, 'laughs': 1, 'geeks': 1, 'microsoft': 1, 'networks': 1, 'subscription': 1, 'penny': 1, '#aca': 1, 'premium': 1, 'jumped': 1, 'texted': 1, '#neutrality': 1, '#cisco': 1, '#intel': 1, '#ibm': 1, '#warn': 1, '#fcc': 1, '#crack': 1, '#isps': 1, '#technology': 1, 'cluck': 1, 'transparent': 1, 'administration': 1, 'documents': 1, 'oversight': 1, '#gruber': 1, 'weakest': 1, '#tired': 1, '#stormageddon': 1, '#arrowmidseasonfinale': 1, 'faded': 1, 'streaks': 1, '#husband': 1, '#stoptxtnhim': 1, '#notok': 1, '#youknowwhoyouare': 1, 'chew': 1, 'shoelaces': 1, 'snooze': 1, 'tempting': 1, '🆘': 1, 'watcheronawall': 1, 'remind': 1, \"rice's\": 1, 'sweets': 1, 'pe': 1, 'saving': 1, '#negative': 1, '💭': 1, '#justkiddingilovethem': 1, 'lel': 1, 'frisky': 1, '😠': 1, 'breeds': 1, 'consumer': 1, 'cardi': 1, 'editions': 1, 'vintage': 1, 'patience': 1, 'coaches': 1, '#thingsbetterthantitansjags': 1, 'napalm': 1, 'hotwings': 1, '#bigjoefavorite': 1, '#boyfriend': 1, '#justgothomefromdinner': 1, '#smiles': 1, 'dayum': 1, 'handmade': 1, 'doors': 1, 'individualism': 1, 'individual': 1, 'pelle': 1, 'famine': 1, 'csi': 1, 'jerks': 1, 'twilight': 1, '#lies': 1, 'balak': 1, 'balaam': 1, 'cursed': 1, \"guru's\": 1, 'newbies': 1, 'calculations': 1, 'realizing': 1, 'module': 1, 'slim': 1, 'unwanted': 1, 'passion': 1, 'totti': 1, '#asroma': 1, 'awh': 1, '#noreplies': 1, '#storyofmylife': 1, 'eltimedellah': 1, 'wjoodch': 1, 'fe': 1, 'dctortna': 1, 'el': 1, 'jameela': 1, 'scientist': 1, 'salary': 1, 'engineer': 1, 'everest': 1, '#originalpatneshekfanclubmember': 1, \"other's\": 1, 'kneecaps': 1, '#questionable': 1, '#noa': 1, '#onuchapel': 1, '#hypebeast': 1, '#catfish': 1, '#fishsitter': 1, '#goldfish': 1, '#lovelife': 1, '#page': 1, '#careful': 1, '#literacy': 1, '#become': 1, '#historical': 1, '#blip': 1, '#telling': 1, '#something': 1, '#youre': 1, '#mum': 1, '#mistake': 1, '#chance': 1, '#till': 1, '#january': 1, '#twitterproblemsforme': 1, 'grammar': 1, 'cracker': 1, 'unite': 1, '#terrorism': 1, '#policebrutality': 1, '#goa': 1, 'details': 1, 'oliva': 1, 'howsam': 1, 'pai̇n': 1, 'gai̇n': 1, '#fit': 1, '#fitness': 1, '#denmark': 1, '#challenges': 1, '#north': 1, '#pole': 1, 'shun': 1, 'workplace': 1, 'chit': 1, '#randomtweet': 1, '#latenightfilms': 1, '#mockingjaypart1': 1, '#didsbury': 1, '#grateful': 1, '#goodfriend': 1, 'hearts': 1, '#ninja': 1, '#ko': 1, 'unsuccessful': 1, 'scrounge': 1, 'educates': 1, 'stationary': 1, 'explanation': 1, 'drawer': 1, 'yeaah': 1, 'lacks': 1, 'comprehension': 1, 'mmmm': 1, 'southampton': 1, 'nude': 1, '#euvat': 1, 'agreed': 1, 'retweets': 1, '#topform': 1, '#dramatic': 1, 'conclusion': 1, 'skynet': 1, '#terminator': 1, '#apocalypseiscoming': 1, '#warofthemachines': 1, 'apples': 1, 'nicer': 1, 'dani': 1, '#mongkok': 1, '#kowloon': 1, '#hongkong': 1, '#dongiotravels': 1, '#durationfloor': 1, 'illridewithyou': 1, 'covington': 1, 'ky': 1, '#gosteelers': 1, 'buzz': 1, \"jack's\": 1, 'mannequin': 1, '#leavemealonemom': 1, '#my2fave': 1, '#bahhumbug': 1, 'transactions': 1, '#mls': 1, 'prosecuted': 1, 'geneva': 1, 'convention': 1, 'vp': 1, 'admission': 1, 'exposed': 1, 'infringed': 1, 'refreshing': 1, 'tbt': 1, 'bold': 1, 'bakery': 1, 'sarah': 1, 'brockett': 1, '#bakery': 1, 'experiencing': 1, 'shortage': 1, 'heli': 1, '#nh': 1, '#skiing': 1, 'autopsy': 1, 'coroner': 1, 'machinations': 1, 'mouse': 1, 'experimenter': 1, 'rushes': 1, 'dessert': 1, 'balotelli': 1, 'adel': 1, 'taarabt': 1, 'craft': 1, '#wat': 1, 'harsh': 1, 'literacy': 1, '#ghostwriter': 1, 'cent': 1, 'ghana': 1, '#writingtips': 1, 'lawful': 1, 'lawmakers': 1, 'whould': 1, 'gaining': 1, 'entrance': 1, 'leftovers': 1, '#cuzididntwantgoodfood': 1, '#walk': 1, '#talk': 1, '#personality': 1, '#care': 1, '#share': 1, '#laundrymatfun': 1, '#yesisaidnot': 1, '#spincycle': 1, '#youspinmeround': 1, '#recordplayer': 1, '#thatsmykid': 1, '#durationmusic': 1, '#teachingth': 1, 'connacht': 1, 'camogie': 1, 'hon': 1, 'hrc': 1, '#mountbellewisahurlingstronghold': 1, '#holyrosary4life': 1, '#seniorb': 1, '🏆': 1, '⚾': 1, 'rec': 1, '#beingproductive': 1, 'selling': 1, 'pack': 1, 'cigarettes': 1, 'penalty': 1, 'pres': 1, 'hangover': 1, 'spy': 1, 'gods': 1, 'sake': 1, '#teensanalyzed': 1, 'expirienced': 1, 'cock': 1, 'cares': 1, '#perksofbeingasenior': 1, 'stephenfry': 1, 'oooh': 1, 'busted': 1, 'superior': 1, 'crestfallen': 1, 'shamed': 1, 'yelling': 1, 'chanelle': 1, '#lmao': 1, 'jks': 1, 'serie': 1, '#followngain': 1, '#teamtofollow': 1, '#teamfollowback': 1, '#kys': 1, '#idontcare': 1, 'ns': 1, 'clients': 1, 'poorly': 1, '#alwaysinjured': 1, '#mufc': 1, 'conselho': 1, 'europeu': 1, 'dezembro': 1, 'euro': 1, 'payer': 1, '#ocare': 1, 'rammed': 1, 'forms': 1, 'noes': 1, 'berlin': 1, 'malmö': 1, '#lrt': 1, '#waronwomen': 1, '#happymarriage': 1, 'imply': 1, 'donna': 1, 'inspirational': 1, '#makesussexsafe': 1, 'rooting': 1, '#lateforwork': 1, 'syresatt': 1, 'vatten': 1, \"ikea's\": 1, '#nosuchthing': 1, 'flattery': 1, '#drenched': 1, 'vball': 1, 'tournament': 1, '#ball': 1, 'heterosexuality': 1, 'shoving': 1, 'throats': 1, 'scott': 1, 'mitchell': 1, \"o'shea\": 1, 'raymond': 1, 'van': 1, 'barneveld': 1, '#dartsworldchampionship': 1, '#pdc': 1, '#thingsyousaytoyourbestfriend': 1, 'retarded': 1, 'nonsense': 1, 'destiny': 1, 'pc': 1, 'assured': 1, 'recommend': 1, '#hunger': 1, '#vanished': 1, '#affluent': 1, '#overweight': 1, '#society': 1, 'lure': 1, '#nosocialconscience': 1, 'fry': 1, 'remembered': 1, '#somuchwin': 1, 'newsroom': 1, 'regardless': 1, 'bulbs': 1, '#moon': 1, 'backed': 1, 'matchup': 1, 'tacocorp': 1, 'gronkey': 1, '#crazy': 1, 'batie': 1, '#boldandbeautiful': 1, 'ho': 1, 'saturnalia': 1, 'adding': 1, '#traditional': 1, '#legit': 1, '#justbecause': 1, \"officer's\": 1, 'jlpt': 1, 'confident': 1, 'spoiler': 1, 'predicted': 1, '#wingedwarriors': 1, 'shits': 1, '#scary': 1, '#canary': 1, 'lavin': 1, 'legislation': 1, 'routes': 1, 'jail': 1, 'attempt': 1, '#cantwait': 1, 'cards': 1, '😻': 1, '#bullcrap': 1, '#rut340': 1, 'naturally': 1, 'drifting': 1, '#dislike': 1, 'comp': 1, 'hangovers': 1, '#stepoff': 1, 'fudge': 1, 'decimated': 1, 'aaah': 1, '#tragedy': 1, 'jelly': 1, 'tots': 1, 'ceiling': 1, 'ad': 1, 'shawn': 1, 'carbon': 1, '#carbon': 1, '#hood': 1, '#sticker': 1, '#strips': 1, '#red': 1, '#automotive': 1, '#dope': 1, '#cars': 1, 'sexism': 1, 'belongs': 1, 'execs': 1, 'lay': 1, 'seek': 1, 'distance': 1, '#uniform': 1, '#unity': 1, '#lmfair14': 1, '#ptiukgonawazgocampaign': 1, 'lancaster': 1, 'greet': 1, 'sissy': 1, 'cells': 1, '#mathisfun': 1, 'kitty': 1, 'aaaint': 1, '#cat': 1, 'nightmare': 1, '#killedit': 1, '#iwasshit': 1, '#tignes': 1, '#seasonlife': 1, 'materialism': 1, '#inasong': 1, '#teamipswich': 1, '#blackfriday': 1, '#itwasquiet': 1, 'woken': 1, '#detroit': 1, 'examples': 1, 'strict': 1, '#gunlaws': 1, 'espresso': 1, 'maple': 1, 'fest': 1, 'inanimate': 1, 'object': 1, 'dizzy': 1, 'stressful': 1, 'andrew': 1, 'wowzers': 1, '#indvscle': 1, 'napoli': 1, 'juve': 1, 'dialogue': 1, 'gola': 1, '#slowinternet': 1, '#thanksfinals': 1, 'binge': 1, 'korra': 1, 'muthafukn': 1, 'gangster': 1, '#stronger': 1, '#perfect': 1, '#mybody': 1, 'active': 1, '#thatscool': 1, 'namesake': 1, '#palinspawn': 1, 'livin': 1, '#needmoremoney': 1, 'prepare': 1, 'mucked': 1, '#imissedu': 1, 'stocks': 1, '#scaredshitless': 1, '#yikes': 1, 'canonized': 1, '#selfpraise': 1, 'crush': 1, 'emailed': 1, '#fuckingwindows': 1, 'nonjudgmental': 1, '#fashionable': 1, 'contribute': 1, '#empower': 1, '#weavers': 1, '#khadigaatha': 1, '#gogreen': 1, '#indiefilm': 1, '#miboxzombie': 1, '🎵': 1, 'vapours': 1, 'cleansing': 1, 'solvents': 1, 'contaminating': 1, 'chemicals': 1, '#cleansing': 1, '#contaminating': 1, '#vapour': 1, 'babygirl': 1, '#words': 1, 'smash': 1, '#ed': 1, '🎤': 1, '#scdurationars': 1, 'cardale': 1, '#hybridcloud': 1, 'hybrid': 1, 'azure': 1, 'dbs': 1, 'scom': 1, '#needthemoney': 1, '#bestnewartist': 1, 'harmony': 1, '#comcastistheworst': 1, '#bts': 1, 'dipmagazine': 1, '#photoshoot': 1, '_traviiis': 1, 'imp': 1, '#sayno': 1, '#dreams': 1, '#tips': 1, \"#spain's\": 1, 'gov': 1, 'catalan': 1, 'accomplish': 1, '#greece': 1, '#operaciónpandora': 1, 'bants': 1, '#shitbants': 1, 'ship': 1, 'surplus': 1, 'ink': 1, 'cartridges': 1, 'nunavut': 1, 'communities': 1, 'resources': 1, '#sofulfilled': 1, '#buy': 1, '#couch': 1, '#enveloppe': 1, '#homedecor': 1, 'narcissistic': 1, 'thrilled': 1, 'wickedly': 1, 'figment': 1, 'imagination': 1, '#cannot': 1, 'trumped': 1, \"j'can\": 1, '#nnn': 1, '#bibotour': 1, '#champwithin': 1, 'founder': 1, 'dancers': 1, 'ricky': 1, 'gracey': 1, 'scent': 1, 'pd': 1, 'reported': 1, 'spring': 1, 'chillax': 1, 'squished': 1, '#fireball': 1, 'obamanomics': 1, 'fs': 1, 'unemployment': 1, 'stimulus': 1, 'ft': 1, 'pt': 1, 'frees': 1, 'formation': 1, 'kel': 1, 'lls': 1, 'hamper': 1, 'fete': 1, 'jellybean': 1, 'damaged': 1, 'tooth': 1, '#2015isthenewturnup': 1, '#myboos': 1, '#makingmemories': 1, 'kegger': 1, 'survivors': 1, '#motivating': 1, 'lib': 1, 'econ': 1, '#thisismiserable': 1, 'listener': 1, '#racewars': 1, 'diaz': 1, 'gravity': 1, 'boardroom': 1, 'partay': 1, '#luvvit': 1, '#miranda': 1, 'photogenic': 1, 'brew': 1, 'destabilising': 1, 'pf': 1, '#mot': 1, '#lufc': 1, 'workaholics': 1, 'commitment': 1, 'burke': 1, 'connections': 1, '\\\\': 1, '#drill': 1, '<()>': 1, 'jojo': 1, 'quel': 1, 'domage': 1, 'colossal': 1, 'flop': 1, '#cfl': 1, 'strut': 1, 'boot': 1, 'kumbaya': 1, 'ammo': 1, 'amarillo': 1, 'hops': 1, '#goldilocks': 1, '#spinless': 1, '#gutless': 1, 'tomas': 1, 'rosicky': 1, 'tdae': 1, '#arsvqpr': 1, 'preds': 1, 'donnie': 1, 'mam': 1, '#vodka': 1, '#mother': 1, '#energy': 1, '#cadbury': 1, '#alcoholic': 1, '#friday': 1, 'urgency': 1, 'lolz': 1, 'products': 1, '#skincare': 1, '🛀': 1, 'arnt': 1, '#scandal': 1, 'sig': 1, 'witter': 1, 'fuse': 1, 'vacuuming': 1, 'chaos': 1, '#cancup': 1, 'naked': 1, '#games': 1, 'zayn': 1, 'flamingo': 1, 'computing': 1, 'computers': 1, 'invented': 1, 'pond': 1, 'scum': 1, 'strangers': 1, 'gir': 1, '#heartbroken': 1, 'burrito': 1, '#burrito': 1, '#thebest': 1, 'breasts': 1, 'congested': 1, 'rushing': 1, 'mccartney': 1, 'dumpster': 1, 'diving': 1, '#caring': 1, '#youareagenius': 1, 'painkillers': 1, 'pledging': 1, 'delta': 1, 'crabs': 1, 'barrel': 1, '#meme': 1, '#mememonday': 1, '#obamacare': 1, '#acidreflux': 1, '#standupshot': 1, '#jokeoftheday': 1, 'drumsticks': 1, '#congratulations': 1, '#hashemite': 1, '#kingdom': 1, '#jordan': 1, 'wise': 1, 'leadership': 1, '#his': 1, '#majesty': 1, '#abdullah': 1, 'ii': 1, 'asgill': 1, '#noproblem': 1, 'soweto': 1, 'bother': 1, 'fvcken': 1, 'useless': 1, 'bone': 1, 'inevitable': 1, '#anonymous': 1, 'exercise': 1, 'fearless': 1, '#iam': 1, '#fearfree': 1, '#fearfull': 1, 'gale': 1, '#wise': 1, 'officiating': 1, '#yogapants': 1, 'appear': 1, 'pumpkin': 1, 'latte': 1, 'invoices': 1, '#media': 1, '#country': 1, 'swans': 1, 'lisazamorano': 1, '#bff': 1, '#seniorbrunch': 1, 'moutain': 1, 'meadows': 1, 'unfortunately': 1, 'daddy': 1, \"daughter'd\": 1, 'gaming': 1, 'fifa': 1, 'youraveragedaddysgirl': 1, 'nz': 1, 'mucking': 1, 'fiji': 1, 'dodging': 1, 'toasty': 1, '#adorable': 1, '#puppy': 1, '#socute': 1, '#icant': 1, '#jk': 1, 'unfollowers': 1, 'camper': 1, 'wadi': 1, 'camacho': 1, 'fights': 1, 'unfollowed': 1, 'there.also': 1, 'breastfed': 1, 'anaconda': 1, 'horse': 1, '#whynot': 1, '#pop': 1, '#whirleyshot': 1, '#whirleystudio': 1, '#sharpie': 1, '#acrylics': 1, \"f's\": 1, 'fortitude': 1, 'finances': 1, 'aaand': 1, 'hits': 1, 'bloomberg': 1, 'speedo': 1, 'bodyguards': 1, '#kaley': 1, '#apologises': 1, '#saying': 1, 'kaley': 1, 'pictured': 1, \"obama's\": 1, 'taxpayer': 1, 'funded': 1, 'costs': 1, 'fundraisers': 1, 'los': 1, 'angeles': 1, 'francisco': 1, 'reporter': 1, 'vie': 1, 'stuart': 1, 'courage': 1, 'apricots': 1, 'pears': 1, 'boozy': 1, 'patio': 1, 'tumbler': 1, '#mac12days': 1, 'potentially': 1, 'styris': 1, 'hsohail': 1, '#minnesotaproblems': 1, 'colored': 1, 'negro': 1, 'congress': 1, 'nt': 1, 'disclosing': 1, 'detail': 1, 'donation': 1, 'bhakts': 1, 'questioning': 1, 'surgeons': 1, '#whatagoodweek': 1, 'ariana': 1, 'grandes': 1, 'flawless': 1, 'ran': 1, \"this'll\": 1, '#speech': 1, '#peacemaker': 1, 'lighting': 1, 'setup': 1, '#malawi': 1, '#aquarium': 1, '#cichlids': 1, '#nofilter': 1, '#marinewhite': 1, 'ace': 1, 'clay': 1, 'bucholz': 1, 'durable': 1, 'geez': 1, '#totally': 1, '#repetetive': 1, 'strength': 1, 'focused': 1, 'pens': 1, 'drastically': 1, 'pimple': 1, '#legitreasontocomplain': 1, 'defensive': 1, 'shoe': 1, 'debating': 1, 'broncos': 1, 'coach': 1, '#itshappening': 1, '#sopping': 1, '#squishing': 1, '#between': 1, '#toes': 1, '#swimming': 1, '#puddle': 1, 'cx': 1, 'xd': 1, 'chairwoman': 1, 'commission': 1, 'changes': 1, 'placing': 1, 'outcome': 1, 'choosing': 1, '#wrecked': 1, 'downside': 1, 'fisheries': 1, 'conservation': 1, '#adanisjet': 1, \"adani's\": 1, 'jet': 1, '#lovejihad': 1, 'orphaned': 1, 'imperfecto': 1, 'num.fraction': 1, 'rating': 1, '#alabama': 1, '#auburn': 1, '#rolltide': 1, '#myass': 1, '#jakellmitchell': 1, 'africans': 1, 'cotton': 1, 'sns': 1, 'warriors': 1, 'wing': 1, 'portal': 1, 'fluent': 1, '#acknowledgementisfirststep': 1, 'abbreviation': 1, \"christ's\": 1, 'whooops': 1, '#cutestcouple': 1, '#merryxmas': 1, 'goodie': 1, 'bags': 1, '#whatsnext': 1, 'freedoms': 1, 'oppressed': 1, 'durkin': 1, 'gator': 1, '#fuckuf': 1, 'goodbye': 1, 'beard': 1, 'sorts': 1, '#mensfashion': 1, 'horses': 1, 'hornless': 1, 'unicorns': 1, '#enlightened': 1, '#mystical': 1, '#drugs': 1, 'mf': 1, '#leo': 1, '#face': 1, '#angry': 1, 'sunscreen': 1, '\\U000fe341': 1, 'grocery': 1, 'pharmacy': 1, 'sensible': 1, 'apartments': 1, 'monroe': 1, 'avenue': 1, 'ponder': 1, 'tan': 1, 'pale': 1, 'complex': 1, '#manitibaprobs': 1, 'cramps': 1, '#suckitmothernature': 1, 'duchess': 1, 'ck': 1, '#angryman': 1, 'tamar': 1, 'vince': 1, 'abstract': 1, 'tribal': 1, 'jumpsuit': 1, 'xl': 1, '#nursinglife': 1, '#workingdaysandnights': 1, 'kcroyals': 1, 'meetings': 1, 'vertigo': 1, 'pamper': 1, 'raven': 1, '#whatmorecouldaguyaskfor': 1, 'hype': 1, '#hailstate': 1, 'dares': 1, '#sex': 1, '#fine': 1, '#drunk': 1, '#needagoodlaugh': 1, '#modere': 1, \"mobile's\": 1, 'inception': 1, 'tangerine': 1, 'spinning': 1, 'subtle': 1, 'freshmen': 1, 'fouls': 1, '#realjournalist': 1, 'bullying': 1, \"nation's\": 1, 'amountm': 1, '#cycle': 1, 'minus': 1, '#fool': 1, '#festive500': 1, 'stunning': 1, 'calm': 1, 'arming': 1, 'hugely': 1, 'ultras': 1, '#does': 1, '#count': 1, '#xxx': 1, 'community': 1, 'fricken': 1, 'restoration': 1, 'michigan': 1, 'persecution': 1, '#equality': 1, '#sectarianviolence': 1, '#countyourblessings': 1, 'obsessed': 1, 'overpay': 1, 'perpetuates': 1, 'program': 1, 'fraught': 1, 'piss': 1, 'featuring': 1, 'airs': 1, 'reelected': 1, 'possibilities': 1, '#cpc': 1, 'cheated': 1, '#stockholmsyndrome': 1, 'trivia': 1, '#ohgoditsfridayagain': 1, 'canny': 1, 'sneaks': 1, '#payday': 1, '#would': 1, '#rude': 1, '#too': 1, 'rocking': 1, '#essentialservice': 1, 'kos': 1, 'eugh': 1, '#beenshite': 1, 'coco': 1, 'loudly': 1, 'queefing': 1, 'gospel': 1, 'socially': 1, 'klingons': 1, 'o_o': 1, '#happythanksgiving': 1, 'caused': 1, 'gronk': 1, 'contingent': 1, 'bitching': 1, '#stillalive': 1, 'overnight': 1, 'stakeouts': 1, 'gutted': 1, '#wwfc': 1, 'capable': 1, 'sunset': 1, 'temperatures': 1, 'partly': 1, 'cloudy': 1, 'challah': 1, 'toast': 1, '#childagain': 1, 'admitting': 1, 'med': 1, 'refills': 1, 'dealing': 1, 'stressfull': 1, 'ships': 1, 'fleets': 1, 'nasni': 1, 'theatre': 1, 'coronado': 1, 'footage': 1, '#antoniomartin': 1, '#endracism': 1, '#socialjustice': 1, 'peddle': 1, 'piffle': 1, 'swim': 1, 'cleanse': 1, 'curry': 1, '#startasyoumeantogoon': 1, 'lifted': 1, 'indicates': 1, 'td': 1, '#noodlescene': 1, 'zen': 1, '#deadhenry': 1, '#bouncebackannie': 1, 'deblasio': 1, 'funerals': 1, 'apologising': 1, 'fault': 1, '#worstoutfit': 1, 'endorse': 1, 'linkedin': 1, '#omcchat': 1, 'today.many': 1, 'veggie': 1, 'chilli': 1, 'shaved': 1, 'perceived': 1, 'inch': 1, 'taller': 1, 'stronger': 1, 'tempted': 1, 'tats': 1, \"sunday's\": 1, 'hacking': 1, 'weirdest': 1, 'definetely': 1, 'specially': 1, 'curtesy': 1, '#coveryomouf': 1, 'spicy': 1, 'dab': 1, 'capsule': 1, 'azealia': 1, 'banks': 1, 'iggy': 1, 'wooow': 1, 'rapper': 1, 'diss': 1, 'visited': 1, 'sez': 1, 'fut': 1, 'ofc': 1, 'corners': 1, 'heart___heart': 1, 'faaantastic': 1, 'nests': 1, 'cuts': 1, '#3allover': 1, 'gardner': 1, 'choral': 1, 'developing': 1, '#yeg': 1, 'parent': 1, 'sponsorship': 1, 'frustrating': 1, 'morn': 1, '#hah': 1, '#wotwot': 1, '#pensacola': 1, '#yummy': 1, 'acorn': 1, 'honour': 1, 'sketched': 1, 'reproductive': 1, 'slides': 1, '#biology': 1, 'concordia': 1, 'wifi': 1, 'bent': 1, 'shipping': 1, 'fees': 1, '#hateschmoozing': 1, '#timessquare': 1, 'siren': 1, 'ifusss': 1, 'towing': 1, 'commuter': 1, 'superb': 1, 'comedian': 1, 'squeeze': 1, 'agenda': 1, 'officals': 1, 'international': 1, '#secularindia': 1, 'education': 1, 'deficits': 1, 'eus': 1, 'budget': 1, 'mechanism': 1, '#worth': 1, 'aguero': 1, 'bony': 1, 'unknown': 1, '#qvaw': 1, 'durationeye': 1, 'sewing': 1, '#fashionmajor': 1, '#rough': 1, '#sewing': 1, '#weresogood': 1, 'bjpee': 1, 'lift': 1, 'ristrictions': 1, 'amountro': 1, \"modi's\": 1, 'kashmiris': 1, 'wl': 1, 'thy': 1, '#modi': 1, 'mysterious': 1, 'panel': 1, '#large': 1, '#parts': 1, '#crashed': 1, '#jet': 1, '#sea': 1, 'paul': 1, 'believes': 1, 'rubby': 1, 'webster': 1, 'kelly': 1, 'projections': 1, 'upside': 1, '#motheroftheyear': 1, 'jam': 1, 'yess': 1, 'dean': 1, 'ref': 1, 'thompson': 1, '#improved': 1, 'grass': 1, 'rustle': 1, '#brakiest': 1, '#mt121': 1, 'clayville': 1, 'olifantsfontein': 1, '#loadshedding': 1, 'endlessly': 1, 'atleast': 1, 'irrespective': 1, 'hawt': 1, 'evens': 1, 'worksheet': 1, 'joyful': 1, '#shutitdown': 1, '#late': 1, '#bullringbirmingham': 1, '#sunglasses': 1, '#sayyes': 1, 'wog': 1, '#hair': 1, '#cut': 1, 'ispr': 1, 'calgary': 1, 'lemme': 1, 'console': 1, 'blunt': 1, 'stream': 1, 'anfield': 1, 'atmosphere': 1, '#lyntoncrosby': 1, 'invent': 1, 'puerile': 1, 'attacks': 1, 'rw': 1, 'provoked': 1, '#webacked': 1, 'treatment': 1, 'hogfather': 1, 'terry': 1, 'pratchett': 1, 'rent': 1, 'space': 1, 'cranial': 1, 'cavity': 1, 'overtime': 1, 'firefighters': 1, 'permanent': 1, 'anamorphosistonguelacing': 1, 'objects': 1, 'certain': 1, 'angle': 1, 'create': 1, 'bernard': 1, 'pras': 1, \"she'll\": 1, 'knights': 1, 'damsel': 1, 'distress': 1, 'sororities': 1, 'organizations': 1, '#sororitysisters': 1, 'mid': 1, 'lacrosse': 1, '#flattering': 1, 'cafe': 1, 'deanbcfc': 1, 'wasalrahman': 1, 'bonus': 1, 'manual': 1, 'dexterity': 1, '#wrestling': 1, '#sportsentertainment': 1, '#wwe': 1, '#smackdown': 1, '#co': 1, 'elite': 1, 'hospitals': 1, 'reserved': 1, 'casualties': 1, 'coworker': 1, '#flurries': 1, 'forked': 1, 'node': 1, '#ambition': 1, 'exit': 1, '#championsleague': 1, 'delete': 1, 'tab': 1, 'tunnel': 1, '#rangers': 1, 'verb': 1, 'joins': 1, 'cm': 1, '#hindu': 1, '#cm': 1, 'abdullah': 1, 'ay': 1, 'nareceive': 1, 'ko': 1, 'rin': 1, 'yung': 1, 'globe': 1, '#bears': 1, 'coordinator': 1, 'bodes': 1, '#whatamess': 1, 'suit': 1, 'neil': 1, 'caffrey': 1, '#tvquotes': 1, '#whitecollar': 1, 'psych': 1, 'learnt': 1, 'dancing': 1, 'netanyahu': 1, 'europeans': 1, 'hypocrites': 1, 'holocaust': 1, \"cooper's\": 1, '#gifts': 1, 'thechicago': 1, 'flames': 1, '#fire': 1, '#cfd': 1, '#workingpress': 1, '#cbs': 1, '#wbbm': 1, '#yesimreadingthisbook': 1, '#catsofinstagram': 1, '#catstagram': 1, '#ilovemycat': 1, '#pawproject': 1, 'derby': 1, '#suc': 1, 'ligna': 1, 'trophy': 1, 'manually': 1, 'zach': 1, '#internetcelebrity': 1, 'stfx': 1, '#xring': 1, \"mo's\": 1, 'glistening': 1, 'creek': 1, '#xringmiracle': 1, 'musical': 1, 'unimportant': 1, '#umitsamusical': 1, '#along': 1, '#times': 1, '#hello': 1, '#wanna': 1, 'slice': 1, 'sugar': 1, 'cheesecake': 1, 'partner': 1, 'grades': 1, 'glasgow': 1, 'glaswegian': 1, 'venue': 1, '#win': 1, 'bug': 1, 'chattin': 1, 'snoop': 1, 'dogg': 1, '#kmt': 1, '#twittereantaboutlife': 1, 'h3n2': 1, '#badincentives': 1, '#healthcare': 1, '#finance': 1, '#sps': 1, 'explosions': 1, 'joker': 1, 'disconcerting': 1, '#batman': 1, '#durationphoto': 1, '#rektek': 1, '#bmx': 1, '#lookmamnohands': 1, '#flying': 1, '#fallingwithstyle': 1, '#thenewsroom': 1, 'sermonising': 1, 'stuffed.awesome': 1, 'grabe': 1, 'negation': 1, 'constant': 1, 'searing': 1, 'perty': 1, '#fs100': 1, 'timelapse': 1, 'jazz': 1, '#soobvious': 1, '#attentionwhore': 1, '#keepitreal': 1, 'rickman': 1, 'blond': 1, 'raviolis': 1, 'ravioli': 1, 'bio': 1, 'moronic': 1, '#sodemocratic': 1, '#take': 1, '#breath': 1, \"#it's\": 1, \"munro's\": 1, \"#i'm\": 1, '#giving': 1, 'followup': 1, 'ferguson': 1, 'stereotyping': 1, 'yeaa': 1, 'jihadist': 1, \"jihadist's\": 1, 'radical': 1, 'islamists': 1, 'speeches': 1, 'reminder': 1, '#motto': 1, '#advice': 1, '#defined': 1, '#past': 1, '#stockport': 1, 'subscribe': 1, 'bish': 1, 'defollows': 1, '#disney': 1, '#belle': 1, '#morefollowersplease': 1, 'cambuslang': 1, 'christmasy': 1, 'ooo': 1, 'odb': 1, 'giants': 1, 'screw': 1, 'jacksonville': 1, '#jags': 1, '#shadkhan': 1, 'phobic': 1, '#stooges': 1, '#beastside': 1, '#tahiti': 1, 'vaccinations': 1, '#gobolts': 1, \"beauty's\": 1, 'groaning': 1, 'crimbo': 1, 'ian': 1, '🎧': 1, '#singingoutloud': 1, '#tune': 1, 'sensationalized': 1, 'inferring': 1, \"weren't\": 1, 'snobby': 1, 'fammm': 1, 'battlefield': 1, 'propose': 1, 'determine': 1, '#racewar': 1, '#lovenotwar': 1, 'yesss': 1, '#contradiction': 1, 'alaska': 1, 'flowtronics': 1, 'rizzle': 1, 'p': 1, 'token': 1, 'carl': 1, '#lrs': 1, '#party': 1, '#atmosphere': 1, 'dissecting': 1, '🐁': 1, 'tc': 1, '#ecigs': 1, 'advertiser': 1, 'teens': 1, 'obvi': 1, 'jesuit': 1, 'heretic': 1, 'aah': 1, 'rajneesh': 1, 'saab': 1, 'controversial': 1, 'nowadays': 1, 'mxm': 1, 'imperial': 1, '#fakelobster': 1, '#lifestyleoftherichandfamous': 1, '#worldofswede': 1, 'patient': 1, 'dignity': 1, 'ideiasdebolosdocesedelicias': 1, 'twist': 1, 'cakes': 1, 'puts': 1, 'writer': 1, 'nicole': 1, 'franklin': 1, '#econvo': 1, '#film': 1, '#director': 1, \"he'd\": 1, 'beachy': 1, 'medlen': 1, 'substitute': 1, 'nuggets': 1, 'uhm': 1, 'eeeek': 1, 'expressed': 1, \"#ukraine's\": 1, '#president': 1, '#russian': 1, '#french': 1, '#leaders': 1, '#rules': 1, '#offensive': 1, 'chesty': 1, 'brewing': 1, 'tgim': 1, 'air': 1, 'passenger': 1, 'abolished': 1, 'homeless': 1, 'impoverished': 1, '#autumnstatement': 1, '#activists': 1, '#radicals': 1, 'earnest': 1, 'fondly': 1, '#classwar': 1, 'replay': 1, '#orion': 1, 'launch': 1, 'sewer': 1, 'ryerson': 1, '☁': 1, '#decemberphotochallenge': 1, '#france': 1, '#sun': 1, '#day3': 1, '#jeremynortham': 1, \"piano's\": 1, '#gosfordpark': 1, '#shitty': 1, 'callin': 1, 'tappin': 1, 'sam': 1, 'cherry': 1, 'miracle': 1, '#euphemism': 1, '#coercivecontrol': 1, '#coined': 1, '#lovingly': 1, '#appropriated': 1, '#radical': 1, '#agenda': 1, '#theyllgiveyounightmares': 1, '#ohwell': 1, '#youaskedforit': 1, 'thankful': 1, 'stat': 1, 'lowest': 1, '#lifesaved': 1, 'drizzle': 1, 'succeeded': 1, 'yourselves': 1, 'peshawar': 1, 'massacre': 1, 'pak': 1, 'greater': 1, 'enemy': 1, 'lecturers': 1, 'hates': 1, 'brett': 1, 'mockery': 1, 'abey': 1, 'becauseee': 1, 'youu': 1, '#indiawithpakistan': 1, '#she': 1, '#tramadol': 1, 'misadventure': 1, 'form': 1, 'practising': 1, 'rewriting': 1, 'heating': 1, 'breadsticks': 1, '#theboysarebackintown': 1, 'internal': 1, '#statistics': 1, '🚓': 1, 'fbi': 1, 'naps': 1, 'restful': 1, '#fluday4': 1, '#kimk': 1, '#balenciaga': 1, '#kimkardashianwest': 1, '#kimkardashian': 1, '#vestito': 1, '#moda': 1, '#go': 1, 'legislators': 1, 'legislative': 1, 'accomplisments': 1, 'downplaying': 1, '#givepresence': 1, 'loadshedding': 1, 'eissh': 1, 'partnered': 1, '#dialinginthedark': 1, '#mehrockingmyblumonsoont': 1, 'pow': 1, '#glasseverywhere': 1, '#boyswillbeboys': 1, 'seattle': 1, 'prep': 1, 'removing': 1, 'spray': 1, '🙆': 1, 'ditches': 1, 'adopts': 1, 'bitcoin': 1, '#sarcasticbitch': 1, '#keyboardcowboy': 1, '#anyonecancode': 1, 'ripped': 1, 'goskippy': 1, 'malay': 1, 'bagong': 1, 'bago': 1, 'hahahhaah': 1, 'ceaccp': 1, 'bonfire': 1, '#frca': 1, '#freedom': 1, 'shhh': 1, 'electronic': 1, 'shock': 1, 'duke': 1, '#canes': 1, '#infosec': 1, '#hirefriday': 1, 'easypay': 1, '#rowdy': 1, '#toomuchlove': 1, '#360family': 1, 'seeks': 1, 'icloud': 1, '#gapeland': 1, '#super': 1, 'lilli': 1, 'rancid': 1, 'aisles': 1, 'rats': 1, '#groceriesnotguns': 1, 'cunt': 1, 'tat': 1, 'accountability': 1, 'hunners': 1, 'pointing': 1, '#noshame': 1, '💣': 1, 'witnesses': 1, 'darren': 1, \"wilson's\": 1, '#kobebryant': 1, '#mj': 1, '#close': 1, '#legends': 1, 'kerouac': 1, 'dutch': 1, 'theres': 1, 'combo': 1, 'easter': 1, 'funnily': 1, 'crave': 1, 'indonesia': 1, 'blasphemy': 1, 'woww': 1, 'saddd': 1, '#eh': 1, '#needs': 1, 'shittest': 1, 'chode': 1, 'broadband': 1, 'ambition': 1, 'material': 1, 'siblings': 1, 'irritating': 1, 'stadium': 1, 'rubbish': 1, 'louder': 1, 'accepts': 1, 'founding': 1, '#justwhatiwanted': 1, 'extortionate': 1, 'taxes': 1, '#disgrace': 1, '#ongoingproblem': 1, 'ellielippitt': 1, '#barber': 1, '#hairdresser': 1, '#blondie': 1, 'passers': 1, 'makatanggap': 1, 'ng': 1, 'item': 1, 'yun': 1, 'uwi': 1, '#dontwanttobehere': 1, 'lashwkaywiduwb': 1, 'booom': 1, '#thatsarsenal': 1, 'ayee': 1, 'deciding': 1, 'laundry': 1, 'freight': 1, 'javascript': 1, 'firefox': 1, 'homepage': 1, '#mood': 1, '#nohunting': 1, 'trauma': 1, 'apologised': 1, '#stuism': 1, '#strength': 1, '#hardwork': 1, 'quest': 1, 'assign': 1, '#watchoutforthis': 1, 'licked': 1, '#youandibacktoyoutube': 1, 'forbidden': 1, 'terribile': 1, 'fuckboys': 1, '#dontbelievemejustwatch': 1, 'parcel': 1, 'travelling': 1, 'whales': 1, 'raw': 1, 'noo': 1, \"boob's\": 1, 'gg': 1, 'collections': 1, 'yrs.in': 1, 'prospictive': 1, '#dude': 1, '#girlygirl': 1, '#iamount': 1, '#into': 1, 'fading': 1, 'exact': 1, 'hotter': 1, 'colleagues': 1, 'excitement': 1, '#evc14': 1, 'gig': 1, 'vouch': 1, 'gomes': 1, 'clubhouse': 1, 'enroll': 1, 'enrolled': 1, 'diamond': 1, 'pkgs': 1, '#yesterday': 1, '#christmaseve': 1, '#lastnight': 1, 'socialist': 1, 'cartwheel': 1, 'mercury': 1, 'winged': 1, 'messenger': 1, 'hank': 1, 'temperature': 1, '#facup': 1, 'commit': 1, 'crimes': 1, 'resist': 1, 'endangering': 1, 'fleury': 1, 'typed': 1, 'lisp': 1, 'hahah': 1, '#sassy': 1, '#nice': 1, '#instagood': 1, '#instadaily': 1, '#ahaa': 1, 'autobot': 1, 'troll': 1, 'dumb': 1, 'sh': 1, \"rt's\": 1, 'naive': 1, 'enabling': 1, 'reasonable': 1, 'software': 1, 'installer': 1, '#sccmadmininhealthcare': 1, 'microphone': 1, '#webrtc': 1, '#webrtcparis': 1, 'drain': 1, 'ku': 1, 'housing': 1, 'dl': 1, '#consciousmusic': 1, '#protester': 1, 'gimme': 1, 'shelter': 1, 'mexicans': 1, 'miscarriage': 1, 'haters': 1, 'misguided': 1, 'souls': 1, 'bulletin': 1, 'yip': 1, '#suckered': 1, '#making': 1, 'anotherone': 1, 'explanations': 1, 'shedding': 1, 'hammers': 1, 'rand': 1, 'rate': 1, 'usd': 1, 'ramount': 1, '#vivaancviva': 1, 'pr': 1, 'firm': 1, 'spurring': 1, 'lynching': 1, 'traipse': 1, 'postie': 1, 'nipple': 1, 'bcci': 1, 'arnab': 1, 'mathers': 1, '#powerful': 1, '#intimidating': 1, 'slew': 1, 'across': 1, 'dwn': 1, 'bridges': 1, 'bcoz': 1, 'swing': 1, 'walker': 1, '#shiftworkerlife': 1, 'beliefs': 1, '#atheist': 1, '#atheism': 1, 'speakeasy': 1, 'dick': 1, 'cheney': 1, 'togo': 1, 'carr': 1, 'wd': 1, 'granny': 1, 'warren': 1, 'wood': 1, 'kisser': 1, '#gtx980': 1, 'satanic': 1, '#gapingangels': 1, '#georgeous': 1, 'georgeous': 1, 'drilled': 1, 'aroused': 1, 'pin': 1, '#daymade': 1, '#addicted': 1, 'painful': 1, 'spose': 1, 'pepa': 1, 'pound': 1, 'prom': 1, '#exclusive': 1, '#crash': 1, '#probe': 1, '#focuses': 1, '#timing': 1, '#request': 1, '#climb': 1, '#weather': 1, 'marvellous': 1, 'jingle': 1, 'bells': 1, 'mismatched': 1, 'urdu': 1, 'advocates': 1, 'apostates': 1, 'convert': 1, 'ventures': 1, 'llc': 1, '#twins': 1, '#ventures': 1, '#llc': 1, 'corset': 1, 'stumble': 1, 'bacon': 1, 'icon': 1, 'bra': 1, 'bikini': 1, 'lingerie': 1, 'soaps': 1, 'shampoo': 1, 'calamity': 1, 'freshman': 1, '#ohanya': 1, '#finalsamiright': 1, 'physically': 1, 'recovering': 1, 'tash': 1, 'platoon': 1, 'strategy': 1, '#mets': 1, 'strep': 1, 'graphical': 1, '#sleepingbeauty': 1, 'satisfied': 1, 'unlike': 1, 'commits': 1, '#thankgodforbackups': 1, 'immense': 1, 'mortal': 1, '#tweeting': 1, '#foxnews': 1, 'recovery': 1, '#getwellsoon': 1, 'solve': 1, 'privilege': 1, '#ironagethinking': 1, 'ski': 1, 'ruddy': 1, 'hermetically': 1, 'sealed': 1, 'environment': 1, 'ima': 1, 'sending': 1, 'wishes': 1, 'coworkers': 1, \"#can't\": 1, '#identified': 1, 'refugees': 1, '#entry': 1, '#islamists': 1, '#terrorists': 1, 'continuationists': 1, 'prooftext': 1, 'cessationism': 1, 'observation': 1, '#audi': 1, '#r8': 1, '#carporn': 1, 'injury': 1, 'delay': 1, 'climax': 1, 'sholay': 1, 'urged': 1, 'thakur': 1, '#bollywood': 1, 'reports': 1, 'frm': 1, 'teller': 1, 'machines': 1, 'condone': 1, 'file': 1, 'nincompoop': 1, '#minivan': 1, '#ebony': 1, '#wilkerson': 1, '#guilty': 1, '#reason': 1, '#insanity': 1, '#judge': 1, \"director's\": 1, '#effroommates': 1, '#yourtooloud': 1, '#personalalarmclock': 1, '#notnecessary': 1, '#bequieter': 1, 'lfc': 1, 'efc': 1, '#wishwehada28milstriker': 1, 'unacceptable': 1, 'nmu': 1, 'poop': 1, '#whatdoiexpect': 1, '#nmucomputersarethebest': 1, 'twitching': 1, '#sofun': 1, '😵': 1, '#greatcustomerrelations': 1, '#duleepsingh': 1, 'paraphernalia': 1, 'oops': 1, 'apologies': 1, 'typical': 1, '#brit': 1, \"hafeez's\": 1, 'slider': 1, 'palm': 1, 'amountph': 1, 'require': 1, 'extension': 1, 'bieber': 1, '#fast': 1, 'squirt': 1, 'loral': 1, \"langemeire's\": 1, 'seller': 1, 'maker': 1, 'dnt': 1, 'bt': 1, 'sme': 1, 'evn': 1, 'whn': 1, 'blackpool': 1, 'familiar': 1, 'bubsy': 1, 'dirgahayu': 1, '🎼': 1, 'tari': 1, 'eni': 1, 'narrow': 1, 'knife': 1, 'target': 1, 'parkside': 1, '#coincidence': 1, '#think': 1, \"grandma's\": 1, '#kidding': 1, 'attraction': 1, 'frantic': 1, 'boring': 1, '#misfit': 1, 'fly': 1, '#eskom': 1, 'impeccable': 1, 'supply': 1, 'flow': 1, 'ineptitude': 1, 'incoming': 1, 'grounded': 1, 'erasure': 1, 'percival': 1, 'everett': 1, 'pym': 1, 'mat': 1, 'literature': 1, '#changethecanon': 1, 'chicks': 1, 'pimping': 1, '#yallknowthatsnotcoolright': 1, 'hustle': 1, '#worry': 1, 'percey': 1, 'statuesque': 1, 'beauties': 1, 'skinniest': 1, 'supermodels': 1, '#statuesque': 1, '#skinny': 1, 'detective': 1, '#ortypecast': 1, 'ferrari': 1, '#omwtothemet': 1, 'notifications': 1, '🚶': 1, 'dusty': 1, '🔌': 1, '#redbucket': 1, 'darth': 1, 'vader': 1, '#fullmcintosh': 1, 'hahahahahahahhahaha': 1, 'advantage': 1, 'pleasing': 1, 'daft': 1, 'perspectives': 1, 'adjustments': 1, 'sussed': 1, 'peop': 1, 'twittertwitterversary': 1, 'python': 1, 'tweeter': 1, 'reserves': 1, 'dive': 1, 'inflation': 1, 'climbs': 1, 'accusations': 1, 'tales': 1, 'grad': 1, 'sys': 1, '#ifyoudonthaveanythingnicetosaydontsayanythingatall': 1, 'natasha': 1, '#whatasuprise': 1, '#whatelseisnew': 1, 'removed': 1, 'm16a3': 1, 'overpowered': 1, 'unplugging': 1, 'plugging': 1, '#psndown': 1, 'warwick': 1, 'blair': 1, '🇬🇧': 1, '#stupidsauce': 1, '#mymomcoulddobetter': 1, 'progressive': 1, 'socialism': 1, 'liberalism': 1, '#nuffsaid': 1, '#stupidity': 1, '#hadenough': 1, 'lols': 1, 'togepi': 1, 'shed': 1, '#shell': 1, 'fally': 1, '#bagon': 1, 'landing': 1, 'william': 1, 'savvy': 1, 'halting': 1, 'heroine': 1, 'overdoses': 1, '#sotrue': 1, '#ihavenolife': 1, '#misshim': 1, '#haveabetterone': 1, '#justin': 1, 'grandtheftauto_five_troller': 1, 'williamsville': 1, 'east': 1, 'slag': 1, 'comfort': 1, 'armchairs': 1, 'decaf': 1, 'skinny': 1, 'pumpkins': 1, 'lattes': 1, 'fools': 1, 'warmly': 1, 'ment': 1, 'requested': 1, 'intentional': 1, 'boon': 1, '#deeprespect': 1, 'bulb': 1, 'chandelier': 1, 'altogether': 1, '#glee': 1, '#cubs': 1, 'ross': 1, 'chick': 1, 'dumped': 1, 'lmfao': 1, 'skype': 1, 'ethiopians': 1, 'historical': 1, 'images': 1, 'normalize': 1, '#breastfeeding': 1, 'binoculars': 1, 'pretzels': 1, '#interesinglife': 1, '#whatamidoingwithmylife': 1, '#longesthashtagnotneededbutyolo': 1, 'intention': 1, 'conservative.no': 1, '#organization': 1, '#hamas': 1, 'injured': 1, 'suspicious': 1, 'explosion': 1, '#gaza': 1, 'redefined': 1, 'lone': 1, 'wilderness': 1, 'hysteria': 1, 'nhs': 1, 'carphone': 1, 'warehouse': 1, 'centre': 1, 'publicly': 1, 'heartless': 1, 'arsehole': 1, 'retards': 1, 'dvds': 1, '#katarro': 1, 'katarro': 1, 'anal': 1, 'nirvana': 1, 'duper': 1, 'shoveling': 1, '#fuckinsnow': 1, 'aint': 1, 'muzlamics': 1, 'cellar': 1, 'saviour': 1, '#truestoryfam': 1, '#walmart': 1, '#islam': 1, 'understandable': 1, 'copied': 1, 'hasten': 1, 'unlitigiously': 1, 'surprising': 1, \"pepe's\": 1, \"palacio's\": 1, 'ronaldo': 1, '♥': 1, 'embassy': 1, 'nyc': 1, 'missile': 1, 'lt': 1, 'prized': 1, 'prat': 1, 'intimidating': 1, 'serve': 1, 'chavvy': 1, 'lanky': 1, 'acne': 1, 'fluff': 1, '#cringe': 1, 'mailman': 1, 'fnc': 1, 'repeating': 1, \"promoteam's\": 1, '#justcodthing': 1, '#talkingabout': 1, '#theteachers': 1, '#gameofthrones': 1, '#asongofice': 1, '#freezes': 1, '#funds': 1, '#palestinians': 1, '#approach': 1, '#venezuela': 1, '#moscow': 1, 'junta': 1, 'genocides': 1, '#chechen': 1, 'miners': 1, '#grozny': 1, '#thisisadisaster': 1, '🍸': 1, '#annoyed': 1, '#relieved': 1, '#gone': 1, 'shenanigans': 1, 'lmbo': 1, 'alissamarie_b': 1, '#letswork': 1, '#kiddingnotkidding': 1, '#sheseriouslyrocks': 1, 'inactivity': 1, 'rusty': 1, '#curious': 1, '#bluedream': 1, 'cuppa': 1, 'soup': 1, '#jezza': 1, 'mens': 1, '#archiesday': 1, '#anychanceofasocial': 1, '#cake': 1, '#mms': 1, '#made': 1, '#make': 1, 'tory': 1, 'stood': 1, 'thanked': 1, 'drip': 1, '#fat': 1, '#sumo': 1, '#hippoes': 1, '#turtle': 1, '#googlemapcibae': 1, '#bij': 1, '#indoctrination': 1, '#lefties': 1, 'gon': 1, 'blaze': 1, 'foh': 1, 'foreskin': 1, 'danniella': 1, '#freedomofspeech': 1, 'snuggled': 1, 'alas': 1, 'errons': 1, 'drag': 1, 'pepto': 1, 'bismol': 1, '#upsettummy': 1, '#ukplus': 1, 'lebara': 1, 'sms': 1, 'fastest': 1, 'lte': 1, '#speedtest': 1, 'obamacare': 1, 'slowing': 1, 'corey': 1, 'brewer': 1, '#tradebait': 1, '#cthulhu': 1, '#lovecraft': 1, '#santaclaus': 1, 'identified': 1, 'publishing': 1, 'leaks': 1, 'hindus': 1, 'depend': 1, 'scriptures': 1, 'proudest': 1, 'moments': 1, 'exchange': 1, '#green': 1, '#sustainability': 1, 'dummy': 1, 'limits': 1, 'pillow': 1, 'mymalsh': 1, 'embarrassing': 1, 'trashy': 1, \"s'cute\": 1, '#stopcomplaing': 1, 'paced': 1, 'henderson': 1, 'gripping': 1, 'ebook': 1, 'fainthearted': 1, 'politically': 1, 'roel': 1, 'vries': 1, 'nissan': 1, '#marketing': 1, 'marketers': 1, 'quantify': 1, '#doinitright': 1, '#maybenextyear': 1, '#newyearsresolution': 1, 'performances': 1, '📖': 1, '#easyday': 1, \"lester's\": 1, \"deal's\": 1, 'announcements': 1, 'coherent': 1, '#notsarcasm': 1, 'artwork': 1, '💖': 1, 'farrr': 1, 'milan': 1, 'nene': 1, '#praying': 1, '#basketballgods': 1, 'peak': 1, 'races': 1, 'pops': 1, 'tick': 1, 'logged': 1, 'sharing': 1, '#orisit': 1, 'amountinutes': 1, 'swift': 1, '#tgif': 1, '#8crap': 1, 'historians': 1, 'abuse': 1, '#correct': 1, '#factaboutabuse': 1, '#kingofpop': 1, '#mjackson': 1, '#michaeljackson': 1, '#invicible': 1, '#breakofdawn': 1, '#selfiestick': 1, '#thisiscrap': 1, '#nothelpfulatall': 1, \"group's\": 1, 'ambassador': 1, '#brand': 1, '#buzzfeed': 1, 'storystraighturl': 1, 'steptoe': 1, '#fuckoff': 1, '#indonesian': 1, '#czech': 1, '#mix': 1, '#elvis': 1, '#single': 1, 'mcrodyn': 1, 'nil': 1, 'shouting': 1, 'instructions': 1, 'repeatedly': 1, '#motherhood': 1, '#wordshurt': 1, '#michigan': 1, 'rodriguez': 1, 'op': 1, 'fiesta': 1, 'sober': 1, '#inkrivals': 1, 'cleen': 1, 'moonlight': 1, 'trier': 1, 'runner': 1, \"mouse's\": 1, 'incepted': 1, 'braaawwwp': 1, 'wild': 1, '#firemen': 1, '#paint': 1, '#opec': 1, '#chief': 1, '#defends': 1, '#policy': 1, '#group': 1, '#try': 1, '#ride': 1, '#price': 1, '#fall': 1, 'careful': 1, 'cayce': 1, '#coldpants': 1, '#offtomysteriousplaces': 1, 'oversleeping': 1, 'besttt': 1, '#blessing': 1, '#santa': 1, '#bharatratna': 1, '#callmeeva': 1, '#holymoly': 1, '#ringbyspring': 1, '#turnuppp': 1, 'giles': 1, 'avenge': 1, 'gratifying': 1, 'forgetting': 1, 'pakistanis': 1, 'bullcrap': 1, '#lookingforwardtothat': 1, 'erraji': 1, 'zeeginganinja': 1, 'clarification': 1, 'hernanpuentes': 1, 'repostapp': 1, '➡': 1, '📷': 1, '#comingsoon': 1, '#loveu': 1, '⁰': 1, 'perfection': 1, 'filter': 1, 'integer': 1, 'mainstream': 1, '#software': 1, '#gangnamstyle': 1, '#geek': 1, 'stair': 1, '#white': 1, 'buffoons': 1, '#culturalmarxism': 1, 'tetanus': 1, \"doctor's\": 1, \"you's\": 1, '#abstract': 1, '#colors': 1, '#spainish': 1, '#exhibit': 1, '#spain': 1, 'appalling': 1, 'fares': 1, '#excuses': 1, '#gatecrasher': 1, 'resemblance': 1, 'uncanny': 1, '#firefly': 1, '#canned': 1, '#lot': 1, '#space': 1, '#interiordecor': 1, 'sweetest': 1, '#positivenote': 1, '#hockeytournament': 1, '#reflife': 1, '#zebras': 1, 'accessories': 1, 'kits': 1, 'adapters': 1, 'bluetooth': 1, 'speakers': 1, \"media's\": 1, 'sensationalise': 1, 'autumn': 1, 'clinical': 1, 'winnipeg': 1, 'crotched': 1, 'loon': 1, 'resort': 1, '#cheater': 1, '#pong': 1, 'lordy': 1, 'hardest': 1, 'esp': 1, 'meat': 1, '#basics4babies': 1, 'travis': 1, 'lulay': 1, 'painted': 1, '#worthashot': 1, 'snapchats': 1, \"everybody's\": 1, 'yaaayyy': 1, \"valentine's\": 1, 'sleeepy': 1, 'ally': 1, 'interests': 1, 'swallowed': 1, 'lozenge': 1, 'despair': 1, '#sick': 1, '#crazykids': 1, '#outofcontrolkids': 1, '#drphi': 1, '#tblightning': 1, 'boards': 1, '#fuji': 1, '#x30': 1, '#boltssocial': 1, '#bethethunder': 1, 'milo': 1, 'tin': 1, 'survivor': 1, '#ilovecollege': 1, 'baps': 1, 'untouched': 1, 'engineers': 1, 'guards': 1, '#hackers': 1, 'privatized': 1, 'goods': 1, 'advance': 1, 'drastic': 1, '#whoops': 1, '#celebrityleakedphotos': 1, 'blasting': 1, 'harassed': 1, 'twatty': 1, 'adolescents': 1, 'chortle': 1, 'palmer': 1, 'elections': 1, '#aneyeforaneye': 1, 'cial': 1, 'homie': 1, 'stickin': 1, '#realmvp': 1, 'hostel': 1, 'chemise': 1, 'lined': 1, 'underwire': 1, 'strappy': 1, 'adjustable': 1, 'straps': 1, 'smartest': 1, '#ireallythinkyouareafuckingidiot': 1, '#sloppy': 1, 'expiry': 1, 'countdown': 1, 'postcodes': 1, 'validity': 1, 'wallahi': 1, 'unbeliever': 1, \"bid'a\": 1, 'ocular': 1, 'yups': 1, '#winelover': 1, 'wildlife': 1, 'sprain': 1, 'purchase': 1, 'vending': 1, 'machine': 1, 'including': 1, '#corner': 1, '#expensive': 1, 'boyfriends': 1, 'manning': 1, 'practitioners': 1, '#flood': 1, '#noah': 1, '#hovindtheory': 1, '#iceage': 1, '#bible': 1, '#church': 1, '#jews': 1, '#shouldofstayedinbed': 1, 'ligament': 1, 'returns': 1, '#pregnancyproblems': 1, 'mentally': 1, 'unstable': 1, 'crazed': 1, 'discussed': 1, 'marx': 1, 'baroness': 1, '#scum': 1, '#weak': 1, 'eportes': 1, 'logic': 1, 'invention': 1, 'kuffar': 1, 'stoning': 1, 'hunch': 1, 'steven': 1, 'gerrard': 1, '#hesnodeed': 1, 'operates': 1, 'hangin': 1, 'dawg': 1, '#eyesup': 1, 'depression': 1, 'verisimilitude': 1, 'overpowering': 1, 'delusional': 1, 'chunky': 1, 'monkey': 1, 'george': 1, 'jungle': 1, 'lick': 1, 'fountain': 1, 'coanchor': 1, 'nominated': 1, 'monsoon': 1, '#ilovelife': 1, 'snuggles': 1, 'cocoa': 1, '🍵': 1, 'dungeys': 1, 'delano': 1, '#blackout': 1, '#besafe': 1, 'bonnie': 1, 'manageable': 1, 'knocks': 1, \"men's\": 1, 'reunions': 1, '#tees': 1, '#5things': 1, '<shocking>': 1, 'jackie': 1, '#tshirt': 1, '#rulesweremadetobebroken': 1, 'clarifying': 1, 'legion': 1, '#notfortheintellectuals': 1, '#drhandsomedennis': 1, 'gumdrop': 1, 'lolly': 1, 'substitutions': 1, 'lump': 1, 'transformation': 1, 'nigher': 1, 'fellows': 1, 'ultimate': 1, 'cracks': 1, '#practicewhatyoupreach': 1, 'packed': 1, 'existent': 1, 'ak': 1, 'candidate': 1, 'declared': 1, 'before.this': 1, 'affecting': 1, \"india's\": 1, 'gdp': 1, 'termed': 1, 'thad': 1, 'multiplayer': 1, 'hardline': 1, 'setting': 1, 'war.that': 1, \"peppa's\": 1, '#bigdata': 1, '#analytics': 1, 'compared': 1, '#cynefin': 1, 'framework': 1, 'headache': 1, '#hot': 1, '#rachel': 1, '#sarci': 1, '#wit': 1, '#low': 1, '#constant': 1, '#chattyman': 1, '#supersonicwithgionee': 1, '#mumbai': 1, 'wash': 1, '#friesenfamilychristmas': 1, 'greed': 1, 'badmind': 1, 'kills': 1, 'quickquick': 1, 'tramp': 1, '#youoweme': 1, 'feminism': 1, 'magazine': 1, 'lorraineelle': 1, '#keepgoing': 1, 'windy': 1, 'summit': 1, 'floppity': 1, 'raptors': 1, 'soar': 1, '#getoutside': 1, '#yyj': 1, 'sasha': 1, '😟': 1, '😪': 1, '#nypdmutiny': 1, 'citizens': 1, 'pull': 1, 'spin': 1, '#oops': 1, \"harry's\": 1, '#internationalharrystylesday': 1, 'purposes': 1, 'meats': 1, '#gottalisten': 1, 'allman': 1, 'stormy': 1, 'fil': 1, '#bra': 1, '#fitting': 1, '#guide': 1, 'meter': 1, 'chemistry': 1, 'vomiting': 1, 'choices': 1, '#coyotes': 1, 'protests': 1, 'killings': 1, 'donations': 1, 'wb': 1, 'lit': 1, 'smoke': 1, 'mirrors': 1, 'pins': 1, '#lifestyle': 1, '#pinterest': 1, '#triedandtrue': 1, 'erickson': 1, 'cast': 1, '#extras': 1, '#bush': 1, '#clinton': 1, '#wasps': 1, '#elxn2016': 1, 'blues': 1, \"chelsea's\": 1, 'jan': 1, '#getlifted': 1, '#pbloggers': 1, '#mbloggers': 1, 'meps': 1, 'discuss': 1, 'lebanon': 1, 'skipped': 1, 'greeting': 1, 'odin': 1, 'plumbing': 1, '#retrogaming': 1, 'cited': 1, '#verizon': 1, '#folloback': 1, '#bestcoworkersever': 1, 'biased': 1, 'behavior': 1, 'paycoin': 1, 'execute': 1, 'commands': 1, \"person's\": 1, \"jury's\": 1, 'edging': 1, 'favourable': 1, '#hopethathelps': 1, '#delhi': 1, 'bans': 1, '#aretheyserious': 1, \"watched'making\": 1, 'rescored': 1, 'composers': 1, 'boobs': 1, '#relax': 1, 'rifle': 1, 'stitches': 1, 'slight': 1, 'aroma': 1, 'huda': 1, 'scoreboards': 1, 'springsteen': 1, 'flashback': 1, 'shudder': 1, 'tt': 1, '#facebook': 1, 'breed': 1, '#truefact': 1, 'thirst': 1, 'settle': 1, 'grenade': 1, 'ideal': 1, 'seing': 1, '#linez': 1, 'awe': 1, 'toledo': 1, 'lakeside': 1, 'amountillion': 1, 'scavengers': 1, '#hadfun': 1, '#neverboxingdayshoppingagain': 1, 'unfounded': 1, 'saved': 1, '#pakschoolsiege': 1, '#yescracker': 1, '#geeks': 1, 'dwight': 1, 'yorke': 1, 'impartial': 1, '#villalovein': 1, '#astlei': 1, '#lcfc': 1, '#ifyouknowwhatimean': 1, 'beers': 1, 'usc': 1, 'medical': 1, 'mar': 1, '#funnyguy': 1, 'jihadi': 1, '#ottawa': 1, '#sidney': 1, '#peshawar': 1, 'acts': 1, 'fratboy': 1, 'rapists': 1, 'symbolic': 1, 'deeper': 1, 'societal': 1, 'flaws': 1, 'august': 1, 'birthdays': 1, 'serial': 1, 'november': 1, '#nov26': 1, 'paying': 1, '#tequila': 1, 'memories': 1, 'politician': 1, 'diploma': 1, '#greensfail': 1, 'irish': 1, 'hoo': 1, 'litre': 1, 'ottawa': 1, 'averted': 1, 'whites': 1, 'prone': 1, 'universal': 1, 'racial': 1, 'prunes': 1, 'toffee': 1, 'effervescent': 1, 'delirium': 1, 'nocturnum': 1, 'competency': 1, 'argue': 1, '#fitbit': 1, '#ihop': 1, 'mousse': 1, 'crepe': 1, 'complimentary': 1, 'coaster': 1, 'title': 1, 'generate': 1, 'lohan': 1, 'detox': 1, 'planes': 1, '#mainsteam': 1, '#trendsetter': 1, 'valuable': 1, 'spirit': 1, 'responsibilities': 1, '#summer': 1, '#2o14': 1, '#bestie': 1, '#alena': 1, '#bestfriend': 1, '#idek': 1, '#chips': 1, '#ifoll': 1, '#theygavemetcucolorsforchristmas': 1, 'referee': 1, 'blatantly': 1, 'torbay': 1, '#dementia': 1, '#action': 1, '#alliance': 1, '#living': 1, 'dementia': 1, '#dying': 1, 'peter': 1, 'js': 1, \"would've\": 1, '#jakeplummer': 1, 'smokes': 1, 'regularly': 1, '#outsidethelines': 1, 'resolved': 1, 'soak': 1, 'requiring': 1, 'participate': 1, 'twitch': 1, 'fill': 1, '#blame': 1, '#luck': 1, '#genes': 1, '#cause': 1, '#most': 1, '#cancer': 1, '#types': 1, 'heredity': 1, 'environmental': 1, 'factors': 1, '#12daysofchristmassweaterscontest': 1, 'teammates': 1, 'soft': 1, '#overpaid': 1, '#mermaidlove': 1, '#newyear2015': 1, 'rockefeller': 1, 'assholes': 1, '#cognitivedissonance': 1, 'blinding': 1, 'crises': 1, 'slashes': 1, 'healthcare': 1, '#goodgovernance': 1, '#namo': 1, '#gogo': 1, '#buredin': 1, 'roomie': 1, '#sees': 1, '#ahead': 1, '#before': 1, '#lifts': 1, '#embargo': 1, 'polled': 1, 'stations': 1, 'kulgam': 1, '#kashmirboycotts': 1, 'medschool': 1, '#humanrightsday': 1, '#manchester': 1, '#notonwwell': 1, 'monkseaton': 1, 'foods': 1, 'deletes': 1, '#bestchristmasever': 1, 'meaningful': 1, 'automake': 1, 'tire': 1, 'spilled': 1, 'milk': 1, 'boob': 1, 'whitehouse': 1, '#skinnerbox': 1, 'ã': 1, '¢': 1, 'ëœå': 1, 'hip': 1, 'hop': 1, 'mixtape': 1, 'promotion': 1, 'packages': 1, 'ct': 1, 'scan': 1, 'timing': 1, 'continuity': 1, 'gender': 1, 'struggles': 1, 'hw': 1, '#still': 1, '#finish': 1, 'routine': 1, 'irks': 1, 'nerves': 1, '#needanewroutine': 1, 'severity': 1, 'gf': 1, 'clock': 1, \"f'd\": 1, 'brooke': 1, 'thrilling': 1, '#cheapbastard': 1, 'hehehehe': 1, 'miami': 1, 'sweat': 1, 'featherstone': 1, 'edge': 1, 'rates': 1, \"gareth's\": 1, 'vegetarian': 1, '🐣': 1, 'wondered': 1, \"turkey's\": 1, 'reza': 1, 'aslan': 1, 'cj': 1, 'werleman': 1, 'mexico': 1, '#scaredycat': 1, '#topmum': 1, 'bigest': 1, 'srk': 1, 'realy': 1, '#expression': 1, 'tones': 1, '#highway': 1, 'disturbed': 1, 'dedicated': 1, '#flattire': 1, '#butnotreally': 1, 'aaaamd': 1, 'bedtime': 1, 'clovis': 1, 'cartoon': 1, '#jamaicaobserverandroidapp': 1, 'mccoy': 1, 'layin': 1, 'peeked': 1, '#chrischristy': 1, 'voters': 1, '#jebbush': 1, '#suchagoodweek': 1, 'frizzy': 1, 'roulettes': 1, '#kuivaa': 1, 'oversized': 1, 'sweats': 1, 'vans': 1, '#maybetomorrow': 1, 'stepsister': 1, 'ginsburg': 1, 'inspiration': 1, '#democracy': 1, '#copocracy': 1, '#morningjoe': 1, '#democracymatters': 1, 'daring': 1, 'villains': 1, 'frightened': 1, 'prey': 1, '#police_officer': 1, '#abuser': 1, '#villain': 1, '#prey': 1, '#putin': 1, \"#won't\": 1, '#intimidated': 1, '#crimea': 1, 'heir': 1, 'petroleum': 1, 'corporation': 1, 'sandown': 1, 'sponsored': 1, 'dandenong': 1, '#nerds': 1, '#getalife': 1, 'loove': 1, 'descriptions': 1, 'bowel': 1, '#stopthis': 1, 'warned': 1, 'bassem.heck': 1, '#nufc': 1, 'journeymen': 1, 'parish': 1, '#done': 1, '#shesdone': 1, 'wilko': 1, 'hilarity': 1, 'cso': 1, '#sony': 1, 'whoa': 1, 'dione': 1, 'ovation': 1, 'alternative': 1, 'bible': 1, '#hotel': 1, '#newyears': 1, '#religious': 1, '#cultivo': 1, '#letchworth': 1, 'promotions': 1, 'drudgery': 1, 'personified': 1, '#commuterprobs': 1, '#northernline': 1, '#tfl': 1, 'refuse': 1, 'weak': 1, '#workout': 1, '#fitfam': 1, 'ghostwriter': 1, '#math': 1, '#class': 1, '#eye': 1, '#snowflake': 1, '#flo': 1, 'confucius': 1, 'quotes': 1, 'android': 1, 'hannah': 1, 'beeyotch': 1, 'beyoncé': 1, 'costumes': 1, 'indoor': 1, '🏃': 1, '#anime': 1, 'moscovici': 1, 'quizzed': 1, 'eurozone': 1, 'targets': 1, 'picky': 1, 'mccormack': 1, 'nba': 1, 'pickup': 1, 'purchased': 1, 'device': 1, 'unlock': 1, 'internationally': 1, '#uncarrier': 1, '#tokyo': 1, 'nic_kill': 1, 'reviews': 1, 'concerts': 1, 'publicise': 1, '#lucky13': 1, '#myloves': 1, '#lastsunday2014': 1, 'sd': 1, 'maturity': 1, 'lmfaoo': 1, 'null': 1, 'periods': 1, '#hours': 1, 'swarmed': 1, 'described': 1, 'laxette': 1, 'oneself': 1, 'fierce': 1, 'giraffe': 1, '#hungergames': 1, ':]': 1, '#bloodshot': 1, '#eyerony': 1, 'bummer': 1, '#gophers': 1, 'washington': 1, 'orleans': 1, 'detroit': 1, 'atlanta': 1, 'mite': 1, 'warch': 1, 'eastenders': 1, 'noah': 1, 'transformers': 1, 'biblical': 1, 'tale': 1, 'killsss': 1, '#whatarethelivingrockpeoplefor': 1, '#allcelebritiesarefriends': 1, 'schedules': 1, 'programmer': 1, 'operation': 1, 'ea': 1, '#themoreyouknow': 1, 'fractionth': 1, 'condolences': 1, 'chainsaw': 1, 'fortune': 1, 'rapist': 1, '#hebetripping': 1, 'rear': 1, 'slam': 1, 'brakes': 1, '#fuckyou': 1, 'xander': 1, 'gb': 1, '#13cabs': 1, 'swears': 1, 'taxi': 1, 'rank': 1, '#goodguy': 1, '#ezonegoadiaries': 1, 'supaaa': 1, 'fck': 1, '👐': 1, '#saywhattheythink': 1, 'largely': 1, 'convicts': 1, '#liberal': 1, 'unheard': 1, 'sir': 1, 'contestant': 1, 'kebabs': 1, 'snug': 1, 'tele': 1, 'kidnap': 1, \"friend's\": 1, 'navi': 1, 'heartbeat': 1, '#afraid': 1, 'anatomy': 1, '💓': 1, 'absent': 1, 'civilised': 1, '#appointments': 1, '#road': 1, '#neverlaughed': 1, 'tks': 1, 'mixed': 1, '#homebiz': 1, '#mlm': 1, 'chunk': 1, 'dryer': 1, 'claims': 1, 'violating': 1, 'orientation': 1, 'gej': 1, 'bombing': 1, 'trial': 1, 'enh': 1, 'interrogations': 1, 'gitmo': 1, 'evil': 1, 'refused': 1, 'october': 1, 'gorj': 1, 'behh': 1, 'loveyou': 1, '#behh': 1, '#beh': 1, '#distance': 1, '#far': 1, 'bartered': 1, 'rum': 1, '#034i': 1, '#glitter': 1, '#inside': 1, '#lamp': 1, 'grossman': 1, '#ipod': 1, '#selenagomez': 1, 'subway': 1, 'total': 1, '#fear': 1, '#every': 1, '#accepted': 1, '#once': 1, 'bertrand': 1, 'someones': 1, 'governance': 1, '#goodgovernanceday': 1, '#umm': 1, '#justbrowsing': 1, '#sanctions': 1, '#hamper': 1, '#dialogue': 1, 'syria': 1, 'border': 1, 'crossers': 1, 'paranard': 1, 'polosweets': 1, 'golden': 1, 'nite': 1, '#blackbrunchnyc': 1, 'goin': 1, \"suh's\": 1, '#mua': 1, '#sike': 1, '#eyeliner': 1, '#notforme': 1, '#makeup': 1, '#naturalgirl': 1, 'illinois': 1, 'otak': 1, 'letak': 1, 'kat': 1, 'lutut': 1, '#melayu': 1, 'etch': 1, 'sketch': 1, '#notoldschool': 1, 'created': 1, 'nutshell': 1, 'atm': 1, 'glazed': 1, 'ew': 1, 'remake': 1, 'oldboy': 1, '#ugggh': 1, 'angel': 1, 'vatican': 1, 'shadowy': 1, 'investigatory': 1, 'powers': 1, 'tribunal': 1, 'tapping': 1, 'cables': 1, 'jameis': 1, 'coincidence': 1, '#iubb': 1, 'crean': 1, 'fractured': 1, 'disenchanted': 1, 'greek': 1, 'lovers': 1, 'demo': 1, 'harry': 1, 'potter': 1, 'chamber': 1, 'secrets': 1, 'tastes': 1, 'keyword': 1, '#backupoff': 1, 'pilates': 1, '#office': 1, '#tinsel': 1, '#christmassy': 1, '#china': 1, '#shanghai': 1, '#crush': 1, '#xi': 1, '#jinping': 1, '#orders': 1, '#investigation': 1, \"firm's\": 1, 'skewers': 1, 'jargon': 1, '#jargon': 1, '#design': 1, 'burnsville': 1, 'lad': 1, 'unsolved': 1, 'mystery': 1, '#reallynotreally': 1, 'criticizing': 1, 'buddhism': 1, 'chant': 1, '#skill': 1, 'compyuter': 1, 'robotway': 1, 'childhood': 1, 'hurry': 1, 'childlike': 1, '#justsaying': 1, 'parked': 1, '#miracle': 1, 'goons': 1, 'empathize': 1, 'iaukea': 1, 'disney': 1, 'princess': 1, '#peaceonearth': 1, 'violent': 1, 'headlines': 1, 'cereal': 1, 'decorated': 1, 'trainees': 1, 'dvd': 1, '#bluehand': 1, 'blocks': 1, 'hashtagging': 1, '#massive': 1, '#twat': 1, 'quicker': 1, '#handymedicalfact': 1, 'jonathan': 1, 'stewart': 1, '#imout': 1, 'classiest': 1, 'necklaces': 1, '#patiopics': 1, '#wcco': 1, 'egyptian': 1, 'legends': 1, '#bestselfie2014': 1, 'shiver': 1, '#coldhandswarmheart': 1, 'conservatives': 1, 'outragious': 1, 'kaitlyn': 1, '#idontwanttobuildasnowman': 1, '#mommyproblems': 1, '#mommylife': 1, 'handsome': 1, '#rdj': 1, '#你就算5隔格我都知你讲me': 1, '#btw': 1, 'tomtom': 1, 'threaten': 1, 'lamenting': 1, \"child's\": 1, 'wicked': 1, 'absurd': 1, 'dirty': 1, 'shorted': 1, 'dues': 1, 'gooo': 1, '#calledit': 1, '#bandwagon': 1, '#houseisafeeling': 1, '#educate': 1, '#alwaysworking': 1, 'fantastically': 1, 'stroll': 1, 'lauralobaugh': 1, 'rochester': 1, '#funinthesun': 1, 'key': 1, 'islands': 1, 'prioritizing': 1, '#grown': 1, 'wtaf': 1, 'lungs': 1, 'tobacco': 1, 'boxes': 1, 'collected': 1, 'sculpture': 1, 'project': 1, 'sephora': 1, 'jcpenny': 1, 'killer': 1, 'q': 1, 'slower': 1, 'ptcl': 1, 'evo': 1, 'download': 1, 'topspin': 1, 'ez': 1, '#changed': 1, 'consult': 1, 'professional': 1, 'relationships': 1, '#freebiebookdownload': 1, '#greenliving': 1, '#fact': 1, 'onesie': 1, 'meets': 1, 'clothing': 1, 'requirements': 1, 'vest': 1, 'colleague': 1, 'duped': 1, 'saddam': 1, \"hussein's\": 1, 'thugs': 1, 'kiwi': 1, 'heineken': 1, 'steinlager': 1, 'breweries': 1, 'raglan': 1, 'unilaterally': 1, 'remove': 1, 'restrictions': 1, 'product': 1, 'decker': 1, 'situational': 1, 'jordy': 1, 'cashes': 1, \"he'll\": 1, 'factor': 1, 'pleasant': 1, 'minneapolis': 1, 'prestigious': 1, 'publication': 1, 'audience': 1, 'reject': 1, 'prisoner': 1, 'feedback': 1, 'damnit': 1, 'impression': 1, 'sxy': 1, 'lov': 1, '#twink': 1, '#engine': 1, '#goldenkrust': 1, '#greensmoothiegirl': 1, '#muslimapologies': 1, 'owl': 1, '#ncaa': 1, 'whoopi': 1, 'polanski': 1, 'drugged': 1, 'bald': 1, 'abr': 1, 'preparing': 1, 'qs': 1, 'technologically': 1, '#disappointed': 1, 'coursework': 1, 'revised': 1, 'hahahhaha': 1, 'jelouse': 1, 'lonely': 1, 'widower': 1, 'subscriber': 1, '#neverworks': 1, 'multiplying': 1, 'savior': 1, '#spreading': 1, '#successful': 1, 'entrepreneur': 1, '#mindofgod': 1, '#ursulaonamonday': 1, 'kansas': 1, 'cleveland': 1, '#gurumantra': 1, 'prettiest': 1, 'stretch': 1, 'marks': 1, 'thot': 1, 'insisting': 1, 'difi': 1, 'scorched': 1, 'method': 1, 'bearable': 1, 'hawaii': 1, '#hawaii': 1, '#trip': 1, '#myfamiry': 1, '#girlfriend': 1, '#blackonblackcrime': 1, 'comitted': 1, '#protest': 1, 'obsess': 1, 'wbu': 1, '#blood': 1, '#stillafan': 1, '#sligowillbehithardagain': 1, 'flag': 1, '#blackhumor': 1, '#optimism': 1, 'yeh': 1, 'unclear': 1, 'ironically': 1, '#metahipster': 1, '#tga': 1, 'belittled': 1, '#als': 1, '#icebucketchallenge': 1, '#notinmywallet': 1, 'cod': 1, '#offline': 1, 'tim': 1, 'hortons': 1, 'cobourg': 1, 'rid': 1, 'engrams': 1, '#youratruefriendtoher': 1, '#alavsore': 1, '#nationalchampionship': 1, 'neighborhood': 1, 'captchas': 1, 'hastings': 1, 'richardson': 1, 'zampa': 1, 'laughlin': 1, 'tait': 1, 'motion': 1, 'knees': 1, 'arms': 1, '💗': 1, '#icouldsleepforeverrightnow': 1, 'cart': 1, 'golfers': 1, 'hated': 1, 'novels': 1, '#drama': 1, '#romance': 1, '#cantstopsinging': 1, 'entirely': 1, 'scholar': 1, 'openaccess': 1, 'feds': 1, 'studies': 1, 'gays': 1, 'lesbian': 1, 'exhaust': 1, '#grrr': 1, '#elf': 1, 'maths': 1, 'tutorial': 1, '#uni': 1, 'moodmaybe': 1, 'jacket': 1, 'stn': 1, '#joy': 1, 'tools': 1, 'suspenders': 1, 'stead': 1, '#chancellor': 1, 'palace': 1, 'invisible': 1, '#spectre': 1, 'jeb': 1, '#potus': 1, 'specialize': 1, 'viral': 1, 'amusing': 1, 'sudbury': 1, 'lake': 1, 'nepahwin': 1, 'gerrymandering': 1, 'cooking': 1, 'talkative': 1, 'subtweeting': 1, '#burnout': 1, 'cook': 1, '🍴': 1, 'recap': 1, '🍟': 1, 'ara': 1, 'fecker': 1, 'ironside': 1, 'fancy': 1, '#congressmen': 1, '#ndaa': 1, '#voting': 1, '#loveyoubro': 1, 'mystic': 1, 'mona': 1, 'psychic': 1, 'weekdays': 1, 'pdt': 1, '#blogtalkradio': 1, 'budwieser': 1, 'tap': 1, 'amaze': 1, 'continuing': 1, '#acunity': 1, '#steamsale': 1, '#steamwintersale': 1, '#like15': 1, 'yall': 1, 'bh': 1, '#ilovebrighthouse': 1, 'moderation': 1, 'flushed': 1, 'miller': 1, '#sarcasmtweet': 1, 'tron': 1, 'legacy': 1, 'misha': 1, '#unilife': 1, '#nightin': 1, 'sammie': 1, 'shaping': 1, '#wizrockets': 1, 'ooooh': 1, 'copywriting': 1, 'bs': 1, 'dreadful': 1, 'hugs': 1, 'crosswalk': 1, 'migrains': 1, 'brook': 1, 'mayweather': 1, 'banned': 1, '#got': 1, 'rains': 1, 'castamere': 1, 'entourage': 1, 'duly': 1, 'noted': 1, 'sinus': 1, 'nsfw': 1, \"cameron's\": 1, 'mania': 1, 'everone': 1, 'alam': 1, '#supportfawad': 1, '#usman': 1, 'gist': 1, '#darumaka': 1, '#thanksmom': 1, 'realised': 1, 'lawrenson': 1, 'hoot': 1, 'drips': 1, 'tf': 1, 'tattooed': 1, 'dumbest': 1, '#sorryimstoned': 1, '#inkmasterfinale': 1, '#inkmasterrivals': 1, 'install': 1, 'browser': 1, '#goodboy': 1, 'fart': 1, '#allthetime': 1, 'hating': 1, 'iow': 1, 'guilty': 1, 'taught': 1, '#bronut': 1, 'combination': 1, '#mentissues': 1, 'sneeze': 1, 'thts': 1, 'impoxible': 1, 'koz': 1, 'kajwangs': 1, 'stil': 1, 'kan': 1, 'raila': 1, 'models': 1, 'themed': 1, 'rted': 1, '#sports': 1, '#carrick': 1, '#replaces': 1, '#fletcher': 1, '#vice': 1, '#captain': 1, 'cheshire': 1, 'manchester': 1, 'powerhouse': 1, '#itm': 1, '#noagenda': 1, 'unusual': 1, \"google's\": 1, '#tech': 1, 'bastards': 1, 'freeze': 1, '#seewhatidid': 1, '#readpeople': 1, 'trinity': 1, 'laban': 1, 'greenwich': 1, '✋': 1, \"jim's\": 1, \"nikki's\": 1, 'pastries': 1, 'peep': 1, 'hole': 1, '#growingwinter': 1, '#speak': 1, 'lime': 1, 'lemonade': 1, 'pee': 1, '#jusygirlythings': 1, 'encourage': 1, '#read': 1, '#book': 1, '#งวย': 1, '#doing': 1, '#home': 1, '#celtics': 1, 'jameer': 1, 'nelson': 1, 'orlando': 1, 'marcus': 1, 'creampie': 1, 'compensation': 1, 'six': 1, 'underrated': 1, 'jimmy': 1, '#oters': 1, 'ter': 1, 'tide': 1, 'beaches': 1, '#lagos': 1, 'crept': 1, \"chicago's\": 1, 'scene': 1, 'ccs_radio': 1, 'elrufai': 1, 'represents': 1, 'victory': 1, 'autoincorrect': 1, 'strikes': 1, 'respectful': 1, '#johnschneider': 1, '#tomwopat': 1, 'attitude': 1, 'buffet': 1, 'restuarant': 1, '#sideworknazi': 1, '#perfectday': 1, 'constipated': 1, 'meantime': 1, 'tips': 1, '#howitworks': 1, '#marketingnewbie': 1, 'taped': 1, 'tape': 1, 'dispenser': 1, 'hehe': 1, 'handy': 1, 'morosi': 1, \"nightengale's\": 1, 'mama': 1, 'hong': 1, 'kong': 1, 'headlined': 1, 'diktats': 1, 'brussels': 1, 'britain': 1, 'manila': 1, 'twin': 1, 'bangkok': 1, 'yahooo': 1, 'sirat': 1, 'atheists': 1, 'celebrating': 1, 'recover': 1, 'strama': 1, 'comforted': 1, 'misinformed': 1, '#pleasedontspeak': 1, '🚍': 1, '⛄': 1, '#fair': 1, '#lucky': 1, '#duck': 1, 'reveal': 1, '#ministers': 1, '#criticised': 1, '#train': 1, '#deals': 1, 'adverts': 1, 'spiky': 1, 'popularity': 1, 'spike': 1, 'jfk': 1, 'baggage': 1, 'accused': 1, 'outa': 1, 'luggage': 1, 'hire': 1, 'morons': 1, 'wii': 1, 'tsa': 1, 'bowie': 1, '#wifemeup': 1, '#procrastinators': 1, 'cop': 1, 'camera': 1, 'mobiles': 1, 'onwards': 1, '#samsung': 1, '#recommended': 1, 'hyper': 1, 'twirra': 1, 'virgins': 1, 'sexual': 1, 'forming': 1, 'saint': 1, 'despite': 1, 'nbc': 1, 'pointed': 1, \"ovechkin's\": 1, 'corsi': 1, '#usa': 1, '#cia': 1, 'detention': 1, 'programme': 1, '#fosho': 1, '#merrycuteness': 1, 'shitting': 1, 'firetrucks': 1, 'blaring': 1, '🚒': 1, '🚑': 1, '#nosleepdecember': 1, 'appreciating': 1, 'epik': 1, '#ukvslou': 1, 'louisville': 1, 'pool': 1, 'brightened': 1, 'bardgin': 1, 'hobby': 1, 'babymetal': 1, 'ash': 1, '#tolo': 1, 'vaccines': 1, 'grinded': 1, '#srslyofallrooms': 1, 'opposition': 1, '#smfh': 1, 'brookes': 1, 'hippa': 1, 'prohibit': 1, 'psychiatrist': 1, 'releasing': 1, '#snipers': 1, 'fascists': 1, 'kyiv': 1, 'dorm': 1, 'climbing': 1, '#newzealand': 1, '#earnaview': 1, 'tori': 1, '#yes': 1, 'gulps': 1, '#holdtheapplause': 1, 'encountered': 1, 'tastic': 1, 'grandad': 1, 'absolute': 1, 'telly': 1, '#funchristmas': 1, '#career': 1, '#gita': 1, '#profound': 1, 'mins': 1, 'wana': 1, 'kio': 1, 'a.mornin.person': 1, 'henry': 1, 'undefeated': 1, 'turf': 1, '#relationshipgoalsaccomplished': 1, 'blankety': 1, 'blank': 1, '#2a': 1, 'wikileaks': 1, '#minecraft': 1, '#hardcore': 1, 'survival': 1, 'aaaawww': 1, 'shameless': 1, 'firms': 1, 'vast': 1, 'advising': 1, 'taxpayers': 1, 'chief': 1, '💰': 1, '#married': 1, \"jolie's\": 1, '#biggest': 1, 'hollywood': 1, '#cdc': 1, '#patients': 1, 'healthday': 1, 'tnt': 1, 'replaying': 1, 'ï': 1, 'sadly': 1, 'testimonies': 1, 'monster': 1, '#damonleroi': 1, '#inspiration': 1, '#motivationalquotes': 1, 'docs': 1, '#fuckthat': 1, 'yuppy': 1, '#happytuesday': 1, '#iowa': 1, 'governor': 1, '#branstad': 1, 'inauguration': 1, '#communitychoice': 1, 'slap': 1, '#afscme': 1, '#homan': 1, 'timed': 1, '#newjob': 1, 'assurance': 1, 'banking': 1, 'specified': 1, 'specifie': 1, 'shout': 1, '#typical': 1, 'clutch': 1, 'dazed': 1, '#uglychristmassweaters': 1, '#kissesandhugs': 1, '#poortaste': 1, \"king's\": 1, 'trunks': 1, 'logos': 1, 'ditsy': 1, 'presumably': 1, 'interactions': 1, 'slavery': 1, 'economics': 1, 'lamar': 1, '#tbt': 1, 'alan': 1, 'arkin': 1, 'argo': 1, 'grudgematch': 1, 'rolling': 1, '#sucks': 1, 'pussy': 1, '#oil': 1, '#plunges': 1, '#percent': 1, '#five': 1, '#lows': 1, '#bearish': 1, '#iea': 1, '#outlook': 1, '🙇': 1, '#greatscheduling': 1, '#incaseyoucanttell': 1, 'redskins': 1, 'cradled': 1, '#tasteslikechicken': 1, '#termite': 1, '#thewalkingdead': 1, '#dreamjob': 1, '#problem': 1, '#thanks': 1, '#splitshift': 1, 'nosebleed': 1, 'halted': 1, 'efforts': 1, 'nares': 1, 'raving': 1, 'erv': 1, 'disinterested': 1, 'floored': 1, 'poke': 1, 'friendzoned': 1, 'friendzone': 1, 'bop': 1, 'hanukkah': 1, 'spotify': 1, '#onlyatnycr': 1, 'khajo': 1, 'gang': 1, '#thuglife': 1, '👉': 1, '❌': 1, '⭕': 1, '👈': 1, 'ue': 1, 'ected': 1, '#usps': 1, 'address': 1, 'mistake': 1, '#thanksfortheannoyingnote': 1, 'gavaskar': 1, 'possessed': 1, 'balance': 1, 'legolas': 1, 'mythology': 1, 'pumped': 1, '#socollege': 1, '#ebola': 1, '#racepimps': 1, '#jessejackson': 1, '#doctors': 1, '#pjnet': 1, '#ccot': 1, '#pjtv': 1, 'frustrated': 1, 'obligation': 1, 'lool': 1, 'handles': 1, '#somuchbadnegativity': 1, '#smileyoufucktards': 1, 'aidyn': 1, 'adele': 1, 'lids': 1, '#urock': 1, 'cocktails': 1, '#already': 1, 'dividing': 1, 'archive': 1, '#mehblog': 1, '#littlemeh': 1, '#doctor': 1, 'bcs': 1, 'replaced': 1, 'amountonths': 1, '#foreplay': 1, '#cuddling': 1, '#jedi': 1, '#craves': 1, 'saic': 1, 'directors': 1, 'trends': 1, 'bradford': 1, 'maaan': 1, 'myspace': 1, '#butstill': 1, 'pushers': 1, 'normalizing': 1, 'pompous': 1, 'rebuttal': 1, \"#emc's\": 1, 'feature': 1, 'vnx': 1, 'mp': 1, 'juugin': 1, 'warrants': 1, '#basura': 1, '#immondizia': 1, 'trash': 1, 'gillette': 1, '#thanksforthehelp': 1, 'cram': 1, '#bewareofdog': 1, 'intimissimiofficial': 1, \"u'r\": 1, 'font': 1, 'revelation': 1, \"community's\": 1, 'enforcement': 1, 'skyrockets': 1, 'nowhere': 1, 'skateboarding': 1, '#skateeverydamnday': 1, 'hoof': 1, 'bathroom': 1, '#stillholdingit': 1, 'nit': 1, 'eyed': 1, 'peas': 1, 'petrolia': 1, '#killerband': 1, 'upgraded': 1, '#sundaydateday': 1, 'civic': 1, 'muttering': 1, \"they'd\": 1, 'dental': 1, 'hygiene': 1, 'maximum': 1, 'mammals': 1, 'newest': 1, 'nicholas': 1, 'sparks': 1, 'manipulating': 1, 'sensitive': 1, 'characters': 1, 'headlining': 1, '#lunatic2015': 1, 'crosses': 1, 'reread': 1, \"draco's\": 1, 'boggart': 1, '#dracomalfoy': 1, '#safety': 1, '#onlinedating': 1, 'agreement': 1, 'masterson': 1, 'verbal': 1, 'icu': 1, '#letmegohome': 1, 'breastfeeding': 1, 'ostentatiously': 1, '#seaandwhitesands': 1, 'lys': 1, '#study': 1, '#deathofme': 1, 'walks': 1, '#perfection': 1, 'confidence': 1, 'loughton': 1, 'basildon': 1, 'skrillex': 1, '#skrillex': 1, '#rave': 1, 'meltdown': 1, \"dad's\": 1, 'tryna': 1, '#pennyboard': 1, '#skate': 1, '#gangstawankstayard': 1, 'ache': 1, 'din': 1, 'parl': 1, 'cnt': 1, '#rajyasabha': 1, 'stokes': 1, '#dreamon': 1, 'miranda': 1, 'whatsapp': 1, '#weddingseason': 1, 'hug': 1, 'insecure': 1, '#freelesson': 1, '#english': 1, '#esl': 1, '#tesl': 1, 'fischer': 1, 'chips': 1, 'messed': 1, '#itsabovemypaygradetocare': 1, '#stillcare': 1, '#lesigh': 1, 'trillion': 1, 'sean': 1, '#worstsongever': 1, 'kendrick': 1, '#notstoked': 1, 'curtain': 1, 'torment': 1, '#lgbt': 1, 'asylum': 1, 'nevermind': 1, 'terribly': 1, 'subsidy': 1, 'advertisement': 1, 'ji': 1, 'behead': 1, 'innocent': 1, 'happiest': 1, 'wakes': 1, 'carried': 1, 'crank': 1, 'amongst': 1, '#pmt': 1, 'virtues': 1, 'vices': 1, 'admire': 1, 'churchill': 1, '#oldfriends': 1, '#anymore': 1, 'angles': 1, 'duck': 1, 'wrinkles': 1, '#thatsabossbitchrightthere': 1, '. . .': 1, 'management': 1, '#ableg': 1, 'vacations': 1, 'engineered': 1, 'signup': 1, 'owner': 1, 'creating': 1, '#really': 1, 'consequences': 1, 'heroes': 1, 'comics': 1, 'flagship': 1, 'fauxmance': 1, \"t'last\": 1, '#wemarchon': 1, '#retweet': 1, '#ifagree': 1, '#sadface': 1, 'headed': 1, 'huntsville': 1, 'contain': 1, 'jealousy': 1, 'dundee': 1, 'chairmanship': 1, 'dish': 1, '#badbusiness': 1, '#wemissedyoutoo': 1, 'mug': 1, '#goodstarttotheday': 1, 'velvet': 1, 'rhinestones': 1, 'babydoll': 1, 'medium': 1, 'softly': 1, 'padded': 1, 'wired': 1, 'shelf': 1, '👤': 1, 'fiscal': 1, 'appointments': 1, '#2of6': 1, '#6daystretch': 1, 'duale': 1, 'proposed': 1, 'trample': 1, 'pple': 1, 'mostella': 1, 'womens': 1, 'roof': 1, 'tyranny': 1, 'lean': 1, 'societies': 1, 'dominated': 1, '#dontcare': 1, 'caramel': 1, 'frappe': 1, '#mcyuck': 1, '#lostsale': 1, 'hauling': 1, 'flammable': 1, 'smoking': 1, '#truestory': 1, '#i10': 1, 'interrupts': 1, 'snowing': 1, 'weaponized': 1, 'ninjas': 1, 'trained': 1, 'assasins': 1, 'creed': 1, 'brrr': 1, 'kitchen': 1, '#feeling': 1, 'uncover': 1, 'arsenals': 1, 'wmd': 1, 'enhanced': 1, 'interrogation': 1, 'dow': 1, 'marked': 1, 'becassine': 1, 'pendant': 1, 'grande': 1, 'guerre': 1, 'caumery': 1, 'became': 1, 'lords': 1, '#watchthelordman': 1, '#sameparents': 1, '#sametunes': 1, '#britishroyalty': 1, 'presume': 1, '#titles': 1, '#publicduties': 1, 'engine': 1, 'hypocritical': 1, '#humanrights': 1, 'castro': 1, 'threats': 1, '#thebear': 1, 'general': 1, 'day.thanks': 1, 'causing': 1, 'massive': 1, 'accents': 1, '#hategasbbqs': 1, 'eua': 1, 'commissions': 1, 'investment': 1, 'earicpatten': 1, 'earic': 1, \"patten's\": 1, 'elektrik': 1, 'theatres': 1, 'sold': 1, 'whistle': 1, 'floor': 1, 'originality': 1, 'cultural': 1, '#oldjoke': 1, 'treated': 1, 'horribly': 1, '#iwanttogohome': 1, 'mn': 1, 'tsu': 1, '#followback': 1, 'bass': 1, 'thornton': 1, 'assets': 1, '#putting': 1, '#phone': 1, '#silent': 1, 'rochdale': 1, 'reduction': 1, '#bargain': 1, 'versace': 1, 'remix': 1, 'canvas': 1, 'stains': 1, 'smiley': 1, 'rednecks': 1, 'riffing': 1, 'educational': 1, '#insulting': 1, '#knowyourhistory': 1, '#whoispaulmccartney': 1, 'convincing': 1, 'bella': 1, 'swan': 1, '#alabamastatemajors': 1, '#dev': 1, '#environmnet': 1, '#regular': 1, '#web': 1, '#stuff': 1, 'priorities': 1, 'intact': 1, '#dc': 1, 'riding': 1, 'chill': 1, '#dominos': 1, 'mythical': 1, 'dogma': 1, '#myfairdaily': 1, '#favorites': 1, 'whisked': 1, 'reflux': 1, 'jaded': 1, 'vehicles': 1, 'modified': 1, '#bigfoot': 1, '#landrover': 1, 'shutting': 1, 'utter': 1, 'crybaby': 1, 'typhoon': 1, 'psu': 1, 'president': 1, 'bothers': 1, 'fob': 1, '#nosurprisethere': 1, 'hummingbirds': 1, '#experts': 1, '#hovering': 1, '#background': 1, '#motion': 1, 'hovering': 1, '#possible': 1}\n"
          ]
        }
      ]
    },
    {
      "cell_type": "code",
      "source": [
        "len(train_corpus)"
      ],
      "metadata": {
        "colab": {
          "base_uri": "https://localhost:8080/"
        },
        "id": "FKAwzlIvoP72",
        "outputId": "7f66caba-860e-4fdc-9358-5482d6b702d2"
      },
      "execution_count": null,
      "outputs": [
        {
          "output_type": "execute_result",
          "data": {
            "text/plain": [
              "10803"
            ]
          },
          "metadata": {},
          "execution_count": 33
        }
      ]
    },
    {
      "cell_type": "code",
      "source": [
        "import gensim"
      ],
      "metadata": {
        "id": "VznyQf91jGIG"
      },
      "execution_count": null,
      "outputs": []
    },
    {
      "cell_type": "code",
      "source": [
        "#wvModel =  KeyedVectors.load_word2vec_format('word2vec_twitter_model.bin', binary=True)\n"
      ],
      "metadata": {
        "id": "o4umytCUfHIC"
      },
      "execution_count": null,
      "outputs": []
    },
    {
      "cell_type": "code",
      "source": [
        "vocab = model.vocab.keys()"
      ],
      "metadata": {
        "id": "F3nAro9YmcX3"
      },
      "execution_count": null,
      "outputs": []
    },
    {
      "cell_type": "code",
      "source": [
        "len(vocab)"
      ],
      "metadata": {
        "colab": {
          "base_uri": "https://localhost:8080/"
        },
        "id": "YVWefT-om8r4",
        "outputId": "f080c9c8-b5a0-4f79-8440-0767b995a5df"
      },
      "execution_count": null,
      "outputs": [
        {
          "output_type": "execute_result",
          "data": {
            "text/plain": [
              "3039345"
            ]
          },
          "metadata": {},
          "execution_count": 44
        }
      ]
    },
    {
      "cell_type": "code",
      "source": [
        "emojiModel = gensim.models.KeyedVectors.load_word2vec_format('gdrive/My Drive/anlp_project/emoji2vec.bin', binary=True)"
      ],
      "metadata": {
        "id": "CZTJuFHyfYpS"
      },
      "execution_count": null,
      "outputs": []
    },
    {
      "cell_type": "code",
      "source": [
        "emojiModel.vector_size"
      ],
      "metadata": {
        "colab": {
          "base_uri": "https://localhost:8080/"
        },
        "id": "27ef3N2hjNVs",
        "outputId": "e825b59d-94f5-45eb-b0a4-56bc91810dca"
      },
      "execution_count": null,
      "outputs": [
        {
          "output_type": "execute_result",
          "data": {
            "text/plain": [
              "300"
            ]
          },
          "metadata": {},
          "execution_count": 36
        }
      ]
    },
    {
      "cell_type": "code",
      "source": [
        "emoji_vocab = emojiModel.key_to_index.keys()"
      ],
      "metadata": {
        "id": "10ohbo4fjQ1D"
      },
      "execution_count": null,
      "outputs": []
    },
    {
      "cell_type": "code",
      "source": [
        "len(emoji_vocab)"
      ],
      "metadata": {
        "colab": {
          "base_uri": "https://localhost:8080/"
        },
        "id": "Nh0Wml9HnHqs",
        "outputId": "e3f644d5-bec8-4ebc-93dd-01270a78f1c3"
      },
      "execution_count": null,
      "outputs": [
        {
          "output_type": "execute_result",
          "data": {
            "text/plain": [
              "1661"
            ]
          },
          "metadata": {},
          "execution_count": 153
        }
      ]
    },
    {
      "cell_type": "code",
      "source": [
        "if '#hashtag' in train_corpus:\n",
        "  print(True)"
      ],
      "metadata": {
        "id": "-4didn6Ld0W4"
      },
      "execution_count": null,
      "outputs": []
    },
    {
      "cell_type": "code",
      "source": [
        "if 'UNK' in train_corpus:\n",
        "  print(True)"
      ],
      "metadata": {
        "id": "Gywfl_jveVns"
      },
      "execution_count": null,
      "outputs": []
    },
    {
      "cell_type": "code",
      "source": [
        "len(train_corpus)"
      ],
      "metadata": {
        "colab": {
          "base_uri": "https://localhost:8080/"
        },
        "id": "Sn-xJBJsd6nc",
        "outputId": "3bea612f-01c3-4a63-efdb-425aac5cd087"
      },
      "execution_count": null,
      "outputs": [
        {
          "output_type": "execute_result",
          "data": {
            "text/plain": [
              "10804"
            ]
          },
          "metadata": {},
          "execution_count": 60
        }
      ]
    },
    {
      "cell_type": "code",
      "source": [
        "train_corpus.append('#hashtag')"
      ],
      "metadata": {
        "id": "q_GOVtqSdkYM"
      },
      "execution_count": null,
      "outputs": []
    },
    {
      "cell_type": "code",
      "source": [
        "train_corpus.append('UNK')"
      ],
      "metadata": {
        "id": "Ki7nNkVVedCc"
      },
      "execution_count": null,
      "outputs": []
    },
    {
      "cell_type": "code",
      "source": [
        "len(train_corpus)"
      ],
      "metadata": {
        "colab": {
          "base_uri": "https://localhost:8080/"
        },
        "id": "TOg8ErqDd_bl",
        "outputId": "ff2427b9-f91f-4e0f-f239-98507849bd09"
      },
      "execution_count": null,
      "outputs": [
        {
          "output_type": "execute_result",
          "data": {
            "text/plain": [
              "10805"
            ]
          },
          "metadata": {},
          "execution_count": 62
        }
      ]
    },
    {
      "cell_type": "code",
      "source": [
        "my_emojis = {word: emojiModel[word] for word in train_corpus if word in emojiModel}"
      ],
      "metadata": {
        "id": "tpvIl0N-rJf5"
      },
      "execution_count": null,
      "outputs": []
    },
    {
      "cell_type": "code",
      "source": [
        "len(my_emojis)"
      ],
      "metadata": {
        "colab": {
          "base_uri": "https://localhost:8080/"
        },
        "id": "iKW2V22kdL46",
        "outputId": "89f9c035-a992-4b6a-a1f9-56336483e86f"
      },
      "execution_count": null,
      "outputs": [
        {
          "output_type": "execute_result",
          "data": {
            "text/plain": [
              "151"
            ]
          },
          "metadata": {},
          "execution_count": 64
        }
      ]
    },
    {
      "cell_type": "code",
      "source": [
        "# Extract embeddings for your words\n",
        "my_embeddings = {word: model[word] for word in train_corpus if word not in my_emojis}"
      ],
      "metadata": {
        "id": "NTOiEWU3nn4p"
      },
      "execution_count": null,
      "outputs": []
    },
    {
      "cell_type": "code",
      "source": [
        "len(my_embeddings)"
      ],
      "metadata": {
        "colab": {
          "base_uri": "https://localhost:8080/"
        },
        "id": "KKWzNPLUqM7i",
        "outputId": "feb4fd72-a107-4ba0-d648-278fab8140e6"
      },
      "execution_count": null,
      "outputs": [
        {
          "output_type": "execute_result",
          "data": {
            "text/plain": [
              "10654"
            ]
          },
          "metadata": {},
          "execution_count": 66
        }
      ]
    },
    {
      "cell_type": "code",
      "source": [
        "import pickle\n",
        "\n",
        "with open('gdrive/My Drive/anlp_project/my_embeddings_fasttext.pkl', 'wb') as f:\n",
        "    pickle.dump(my_embeddings, f)"
      ],
      "metadata": {
        "id": "xQdA5e6vq_dg"
      },
      "execution_count": null,
      "outputs": []
    },
    {
      "cell_type": "code",
      "source": [
        "with open('gdrive/My Drive/anlp_project/my_emojis_fasttext.pkl', 'wb') as f:\n",
        "    pickle.dump(my_emojis, f)"
      ],
      "metadata": {
        "id": "kmwGIJNZu66Y"
      },
      "execution_count": null,
      "outputs": []
    },
    {
      "cell_type": "code",
      "source": [
        "not_found_words = [i for i in corpus if i not in my_embeddings]"
      ],
      "metadata": {
        "id": "2i_M7gLGrheT"
      },
      "execution_count": null,
      "outputs": []
    },
    {
      "cell_type": "code",
      "source": [
        "len(not_found_words)"
      ],
      "metadata": {
        "colab": {
          "base_uri": "https://localhost:8080/"
        },
        "id": "JVbMg4mirr9Z",
        "outputId": "2ce85dbd-2292-488a-e270-065ec870bf40"
      },
      "execution_count": null,
      "outputs": [
        {
          "output_type": "execute_result",
          "data": {
            "text/plain": [
              "496"
            ]
          },
          "metadata": {},
          "execution_count": 165
        }
      ]
    },
    {
      "cell_type": "code",
      "source": [],
      "metadata": {
        "id": "FvfmN1LhOgHh"
      },
      "execution_count": null,
      "outputs": []
    }
  ]
}